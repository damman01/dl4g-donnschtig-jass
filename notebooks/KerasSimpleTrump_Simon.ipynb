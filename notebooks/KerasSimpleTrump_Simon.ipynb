{
 "cells": [
  {
   "cell_type": "markdown",
   "metadata": {},
   "source": [
    "# Example for a simple neural network\n",
    "\n",
    "## Trump by maximum color (2 colors)\n",
    "\n",
    "The inputs to the network are the number of cards of each color. The network should learn to select the color with the largest number of cards of that color.\n",
    "\n",
    "For a simple example, let us assume that there are 5 cards in total for a player and only 2 colors.\n",
    "\n",
    "### Libraries\n",
    "\n",
    "We use the keras library for building, training and evaluating the network. A tutorial for keras can be found on (https://keras.io/) or https://www.tensorflow.org/guide/keras. There are different implementations of keras, here I will use the one build on tensorflow.\n"
   ]
  },
  {
   "cell_type": "code",
   "execution_count": 3,
   "metadata": {},
   "outputs": [],
   "source": [
    "import numpy as np\n",
    "import tensorflow as tf\n",
    "from tensorflow import keras"
   ]
  },
  {
   "cell_type": "markdown",
   "metadata": {},
   "source": [
    "### Output function\n",
    "\n",
    "We have to encode the output somehow, for two classes, the simplest solution is a single variable that should be 0 if there are more cards of color 0 and 1 if there are more cards of color 1.\n",
    "\n",
    "### Training and label data.\n",
    "\n",
    "So we can prepare some training data. In this simple case, all the possible configurations are actually known.\n"
   ]
  },
  {
   "cell_type": "code",
   "execution_count": 2,
   "metadata": {},
   "outputs": [
    {
     "name": "stdout",
     "output_type": "stream",
     "text": [
      "[[0. 5.]\n",
      " [1. 4.]\n",
      " [2. 3.]\n",
      " [3. 2.]\n",
      " [4. 1.]\n",
      " [5. 0.]]\n",
      "[1. 1. 1. 0. 0. 0.]\n"
     ]
    }
   ],
   "source": [
    "x_train = np.array([\n",
    "    [0, 5],\n",
    "    [1, 4],\n",
    "    [2, 3],\n",
    "    [3, 2],\n",
    "    [4, 1],\n",
    "    [5, 0],\n",
    "], dtype=np.float32)\n",
    "y_train = np.array([1, 1, 1, 0, 0, 0,], dtype=np.float32)\n",
    "print(x_train)\n",
    "print(y_train)"
   ]
  },
  {
   "cell_type": "markdown",
   "metadata": {},
   "source": [
    "### Normalisation\n",
    "\n",
    "Input data can have different ranges. It is always a good idea (in other words absolutely essential) to normalize the input data. This is usually done into the range 0..1 or -1..1"
   ]
  },
  {
   "cell_type": "code",
   "execution_count": 3,
   "metadata": {},
   "outputs": [
    {
     "name": "stdout",
     "output_type": "stream",
     "text": [
      "[[0.  1. ]\n",
      " [0.2 0.8]\n",
      " [0.4 0.6]\n",
      " [0.6 0.4]\n",
      " [0.8 0.2]\n",
      " [1.  0. ]]\n"
     ]
    }
   ],
   "source": [
    "x_train = x_train / 5.0\n",
    "print(x_train)"
   ]
  },
  {
   "cell_type": "markdown",
   "metadata": {},
   "source": [
    "### A first network.\n",
    "\n",
    "We will start with a very simple network, where we connect the inputs directly to the output. So there will be 2 variables, the weights for the connection and the bias. The output function is a sigmoid, which takes values between 0 and 1.\n",
    "\n",
    "With keras, we first have to create the type of model we want (Sequential), and can then add layers. In the tensorflow implementation, we have to add the input_shape parameter in the first layer to tell it the format of the input. This does not include the batch dimension."
   ]
  },
  {
   "cell_type": "code",
   "execution_count": 4,
   "metadata": {},
   "outputs": [],
   "source": [
    "model = keras.Sequential()\n",
    "model.add(keras.layers.Dense(1, activation='sigmoid', input_shape=[2]))"
   ]
  },
  {
   "cell_type": "markdown",
   "metadata": {},
   "source": [
    "Next we have to compile the model and tell it what loss function and optimizer we want to have. We will take a mean squared error for loss function first. (This is actually not optimal and will be corrected in an exercise).\n",
    "\n",
    "Besides the loss, we usually want to look at some metrics. Here we choose accuracy, that measures how often the network makes the correct decision (see last lecture)."
   ]
  },
  {
   "cell_type": "code",
   "execution_count": 5,
   "metadata": {},
   "outputs": [],
   "source": [
    "model.compile(loss='mse',\n",
    "              optimizer='sgd',\n",
    "              metrics=['accuracy'])\n"
   ]
  },
  {
   "cell_type": "markdown",
   "metadata": {},
   "source": [
    "We can print some details about the model."
   ]
  },
  {
   "cell_type": "code",
   "execution_count": 6,
   "metadata": {},
   "outputs": [
    {
     "name": "stdout",
     "output_type": "stream",
     "text": [
      "Model: \"sequential\"\n",
      "_________________________________________________________________\n",
      " Layer (type)                Output Shape              Param #   \n",
      "=================================================================\n",
      " dense (Dense)               (None, 1)                 3         \n",
      "                                                                 \n",
      "=================================================================\n",
      "Total params: 3 (12.00 Byte)\n",
      "Trainable params: 3 (12.00 Byte)\n",
      "Non-trainable params: 0 (0.00 Byte)\n",
      "_________________________________________________________________\n",
      "[array([[1.013997  ],\n",
      "       [0.71931374]], dtype=float32), array([0.], dtype=float32)]\n"
     ]
    }
   ],
   "source": [
    "model.summary()\n",
    "print(model.get_weights())"
   ]
  },
  {
   "cell_type": "markdown",
   "metadata": {},
   "source": [
    "We can either train one batch, or we can use fit to train repeatedly. The result from the training is the loss function and the metric."
   ]
  },
  {
   "cell_type": "code",
   "execution_count": 13,
   "metadata": {},
   "outputs": [
    {
     "data": {
      "text/plain": [
       "[0.30928221344947815, 0.5]"
      ]
     },
     "execution_count": 13,
     "metadata": {},
     "output_type": "execute_result"
    }
   ],
   "source": [
    "model.train_on_batch(x_train, y_train)"
   ]
  },
  {
   "cell_type": "markdown",
   "metadata": {},
   "source": [
    "We can now try to fit the data in minibatches multiple times. This will calculate the weights, so as to minimize the loss. We might not always get a good result in the first try and even this very simple network seems to need a large number of training steps."
   ]
  },
  {
   "cell_type": "code",
   "execution_count": 14,
   "metadata": {},
   "outputs": [
    {
     "name": "stdout",
     "output_type": "stream",
     "text": [
      "Epoch 1/100\n",
      "1/1 [==============================] - 0s 7ms/step - loss: 0.3091 - accuracy: 0.5000\n",
      "Epoch 2/100\n",
      "1/1 [==============================] - 0s 3ms/step - loss: 0.3089 - accuracy: 0.5000\n",
      "Epoch 3/100\n",
      "1/1 [==============================] - 0s 3ms/step - loss: 0.3088 - accuracy: 0.5000\n",
      "Epoch 4/100\n",
      "1/1 [==============================] - 0s 3ms/step - loss: 0.3086 - accuracy: 0.5000\n",
      "Epoch 5/100\n",
      "1/1 [==============================] - 0s 3ms/step - loss: 0.3084 - accuracy: 0.5000\n",
      "Epoch 6/100\n",
      "1/1 [==============================] - 0s 3ms/step - loss: 0.3083 - accuracy: 0.5000\n",
      "Epoch 7/100\n",
      "1/1 [==============================] - 0s 3ms/step - loss: 0.3081 - accuracy: 0.5000\n",
      "Epoch 8/100\n",
      "1/1 [==============================] - 0s 2ms/step - loss: 0.3079 - accuracy: 0.5000\n",
      "Epoch 9/100\n",
      "1/1 [==============================] - 0s 3ms/step - loss: 0.3077 - accuracy: 0.5000\n",
      "Epoch 10/100\n",
      "1/1 [==============================] - 0s 3ms/step - loss: 0.3076 - accuracy: 0.5000\n",
      "Epoch 11/100\n",
      "1/1 [==============================] - 0s 3ms/step - loss: 0.3074 - accuracy: 0.5000\n",
      "Epoch 12/100\n",
      "1/1 [==============================] - 0s 4ms/step - loss: 0.3072 - accuracy: 0.5000\n",
      "Epoch 13/100\n",
      "1/1 [==============================] - 0s 4ms/step - loss: 0.3071 - accuracy: 0.5000\n",
      "Epoch 14/100\n",
      "1/1 [==============================] - 0s 3ms/step - loss: 0.3069 - accuracy: 0.5000\n",
      "Epoch 15/100\n",
      "1/1 [==============================] - 0s 3ms/step - loss: 0.3067 - accuracy: 0.5000\n",
      "Epoch 16/100\n",
      "1/1 [==============================] - 0s 4ms/step - loss: 0.3065 - accuracy: 0.5000\n",
      "Epoch 17/100\n",
      "1/1 [==============================] - 0s 4ms/step - loss: 0.3064 - accuracy: 0.5000\n",
      "Epoch 18/100\n",
      "1/1 [==============================] - 0s 4ms/step - loss: 0.3062 - accuracy: 0.5000\n",
      "Epoch 19/100\n",
      "1/1 [==============================] - 0s 4ms/step - loss: 0.3060 - accuracy: 0.5000\n",
      "Epoch 20/100\n",
      "1/1 [==============================] - 0s 4ms/step - loss: 0.3059 - accuracy: 0.5000\n",
      "Epoch 21/100\n",
      "1/1 [==============================] - 0s 4ms/step - loss: 0.3057 - accuracy: 0.5000\n",
      "Epoch 22/100\n",
      "1/1 [==============================] - 0s 5ms/step - loss: 0.3055 - accuracy: 0.5000\n",
      "Epoch 23/100\n",
      "1/1 [==============================] - 0s 4ms/step - loss: 0.3053 - accuracy: 0.5000\n",
      "Epoch 24/100\n",
      "1/1 [==============================] - 0s 4ms/step - loss: 0.3052 - accuracy: 0.5000\n",
      "Epoch 25/100\n",
      "1/1 [==============================] - 0s 3ms/step - loss: 0.3050 - accuracy: 0.5000\n",
      "Epoch 26/100\n",
      "1/1 [==============================] - 0s 4ms/step - loss: 0.3048 - accuracy: 0.5000\n",
      "Epoch 27/100\n",
      "1/1 [==============================] - 0s 3ms/step - loss: 0.3046 - accuracy: 0.5000\n",
      "Epoch 28/100\n",
      "1/1 [==============================] - 0s 4ms/step - loss: 0.3045 - accuracy: 0.5000\n",
      "Epoch 29/100\n",
      "1/1 [==============================] - 0s 3ms/step - loss: 0.3043 - accuracy: 0.5000\n",
      "Epoch 30/100\n",
      "1/1 [==============================] - 0s 3ms/step - loss: 0.3041 - accuracy: 0.5000\n",
      "Epoch 31/100\n",
      "1/1 [==============================] - 0s 4ms/step - loss: 0.3040 - accuracy: 0.5000\n",
      "Epoch 32/100\n",
      "1/1 [==============================] - 0s 3ms/step - loss: 0.3038 - accuracy: 0.5000\n",
      "Epoch 33/100\n",
      "1/1 [==============================] - 0s 4ms/step - loss: 0.3036 - accuracy: 0.5000\n",
      "Epoch 34/100\n",
      "1/1 [==============================] - 0s 3ms/step - loss: 0.3034 - accuracy: 0.5000\n",
      "Epoch 35/100\n",
      "1/1 [==============================] - 0s 3ms/step - loss: 0.3033 - accuracy: 0.5000\n",
      "Epoch 36/100\n",
      "1/1 [==============================] - 0s 4ms/step - loss: 0.3031 - accuracy: 0.5000\n",
      "Epoch 37/100\n",
      "1/1 [==============================] - 0s 3ms/step - loss: 0.3029 - accuracy: 0.5000\n",
      "Epoch 38/100\n",
      "1/1 [==============================] - 0s 3ms/step - loss: 0.3028 - accuracy: 0.5000\n",
      "Epoch 39/100\n",
      "1/1 [==============================] - 0s 3ms/step - loss: 0.3026 - accuracy: 0.5000\n",
      "Epoch 40/100\n",
      "1/1 [==============================] - 0s 3ms/step - loss: 0.3024 - accuracy: 0.5000\n",
      "Epoch 41/100\n",
      "1/1 [==============================] - 0s 3ms/step - loss: 0.3022 - accuracy: 0.5000\n",
      "Epoch 42/100\n",
      "1/1 [==============================] - 0s 4ms/step - loss: 0.3021 - accuracy: 0.5000\n",
      "Epoch 43/100\n",
      "1/1 [==============================] - 0s 3ms/step - loss: 0.3019 - accuracy: 0.5000\n",
      "Epoch 44/100\n",
      "1/1 [==============================] - 0s 4ms/step - loss: 0.3017 - accuracy: 0.5000\n",
      "Epoch 45/100\n",
      "1/1 [==============================] - 0s 3ms/step - loss: 0.3016 - accuracy: 0.5000\n",
      "Epoch 46/100\n",
      "1/1 [==============================] - 0s 3ms/step - loss: 0.3014 - accuracy: 0.5000\n",
      "Epoch 47/100\n",
      "1/1 [==============================] - 0s 3ms/step - loss: 0.3012 - accuracy: 0.5000\n",
      "Epoch 48/100\n",
      "1/1 [==============================] - 0s 4ms/step - loss: 0.3010 - accuracy: 0.5000\n",
      "Epoch 49/100\n",
      "1/1 [==============================] - 0s 4ms/step - loss: 0.3009 - accuracy: 0.5000\n",
      "Epoch 50/100\n",
      "1/1 [==============================] - 0s 5ms/step - loss: 0.3007 - accuracy: 0.5000\n",
      "Epoch 51/100\n",
      "1/1 [==============================] - 0s 5ms/step - loss: 0.3005 - accuracy: 0.5000\n",
      "Epoch 52/100\n",
      "1/1 [==============================] - 0s 5ms/step - loss: 0.3004 - accuracy: 0.5000\n",
      "Epoch 53/100\n",
      "1/1 [==============================] - 0s 4ms/step - loss: 0.3002 - accuracy: 0.5000\n",
      "Epoch 54/100\n",
      "1/1 [==============================] - 0s 3ms/step - loss: 0.3000 - accuracy: 0.5000\n",
      "Epoch 55/100\n",
      "1/1 [==============================] - 0s 4ms/step - loss: 0.2998 - accuracy: 0.5000\n",
      "Epoch 56/100\n",
      "1/1 [==============================] - 0s 4ms/step - loss: 0.2997 - accuracy: 0.5000\n",
      "Epoch 57/100\n",
      "1/1 [==============================] - 0s 4ms/step - loss: 0.2995 - accuracy: 0.5000\n",
      "Epoch 58/100\n",
      "1/1 [==============================] - 0s 4ms/step - loss: 0.2993 - accuracy: 0.5000\n",
      "Epoch 59/100\n",
      "1/1 [==============================] - 0s 5ms/step - loss: 0.2991 - accuracy: 0.5000\n",
      "Epoch 60/100\n",
      "1/1 [==============================] - 0s 4ms/step - loss: 0.2990 - accuracy: 0.5000\n",
      "Epoch 61/100\n",
      "1/1 [==============================] - 0s 3ms/step - loss: 0.2988 - accuracy: 0.5000\n",
      "Epoch 62/100\n",
      "1/1 [==============================] - 0s 4ms/step - loss: 0.2986 - accuracy: 0.5000\n",
      "Epoch 63/100\n",
      "1/1 [==============================] - 0s 4ms/step - loss: 0.2985 - accuracy: 0.5000\n",
      "Epoch 64/100\n",
      "1/1 [==============================] - 0s 4ms/step - loss: 0.2983 - accuracy: 0.5000\n",
      "Epoch 65/100\n",
      "1/1 [==============================] - 0s 4ms/step - loss: 0.2981 - accuracy: 0.5000\n",
      "Epoch 66/100\n",
      "1/1 [==============================] - 0s 4ms/step - loss: 0.2979 - accuracy: 0.5000\n",
      "Epoch 67/100\n",
      "1/1 [==============================] - 0s 4ms/step - loss: 0.2978 - accuracy: 0.5000\n",
      "Epoch 68/100\n",
      "1/1 [==============================] - 0s 4ms/step - loss: 0.2976 - accuracy: 0.5000\n",
      "Epoch 69/100\n",
      "1/1 [==============================] - 0s 4ms/step - loss: 0.2974 - accuracy: 0.5000\n",
      "Epoch 70/100\n",
      "1/1 [==============================] - 0s 4ms/step - loss: 0.2973 - accuracy: 0.5000\n",
      "Epoch 71/100\n",
      "1/1 [==============================] - 0s 4ms/step - loss: 0.2971 - accuracy: 0.5000\n",
      "Epoch 72/100\n",
      "1/1 [==============================] - 0s 3ms/step - loss: 0.2969 - accuracy: 0.5000\n",
      "Epoch 73/100\n",
      "1/1 [==============================] - 0s 3ms/step - loss: 0.2967 - accuracy: 0.5000\n",
      "Epoch 74/100\n",
      "1/1 [==============================] - 0s 3ms/step - loss: 0.2966 - accuracy: 0.5000\n",
      "Epoch 75/100\n",
      "1/1 [==============================] - 0s 4ms/step - loss: 0.2964 - accuracy: 0.5000\n",
      "Epoch 76/100\n",
      "1/1 [==============================] - 0s 3ms/step - loss: 0.2962 - accuracy: 0.5000\n",
      "Epoch 77/100\n",
      "1/1 [==============================] - 0s 3ms/step - loss: 0.2961 - accuracy: 0.5000\n",
      "Epoch 78/100\n",
      "1/1 [==============================] - 0s 2ms/step - loss: 0.2959 - accuracy: 0.5000\n",
      "Epoch 79/100\n",
      "1/1 [==============================] - 0s 3ms/step - loss: 0.2957 - accuracy: 0.5000\n",
      "Epoch 80/100\n",
      "1/1 [==============================] - 0s 3ms/step - loss: 0.2955 - accuracy: 0.5000\n",
      "Epoch 81/100\n",
      "1/1 [==============================] - 0s 4ms/step - loss: 0.2954 - accuracy: 0.5000\n",
      "Epoch 82/100\n",
      "1/1 [==============================] - 0s 3ms/step - loss: 0.2952 - accuracy: 0.5000\n",
      "Epoch 83/100\n",
      "1/1 [==============================] - 0s 2ms/step - loss: 0.2950 - accuracy: 0.5000\n",
      "Epoch 84/100\n",
      "1/1 [==============================] - 0s 3ms/step - loss: 0.2949 - accuracy: 0.5000\n",
      "Epoch 85/100\n",
      "1/1 [==============================] - 0s 3ms/step - loss: 0.2947 - accuracy: 0.5000\n",
      "Epoch 86/100\n",
      "1/1 [==============================] - 0s 4ms/step - loss: 0.2945 - accuracy: 0.5000\n",
      "Epoch 87/100\n",
      "1/1 [==============================] - 0s 3ms/step - loss: 0.2943 - accuracy: 0.5000\n",
      "Epoch 88/100\n",
      "1/1 [==============================] - 0s 3ms/step - loss: 0.2942 - accuracy: 0.5000\n",
      "Epoch 89/100\n",
      "1/1 [==============================] - 0s 3ms/step - loss: 0.2940 - accuracy: 0.5000\n",
      "Epoch 90/100\n",
      "1/1 [==============================] - 0s 3ms/step - loss: 0.2938 - accuracy: 0.5000\n",
      "Epoch 91/100\n",
      "1/1 [==============================] - 0s 3ms/step - loss: 0.2937 - accuracy: 0.5000\n",
      "Epoch 92/100\n",
      "1/1 [==============================] - 0s 3ms/step - loss: 0.2935 - accuracy: 0.5000\n",
      "Epoch 93/100\n",
      "1/1 [==============================] - 0s 4ms/step - loss: 0.2933 - accuracy: 0.5000\n",
      "Epoch 94/100\n",
      "1/1 [==============================] - 0s 3ms/step - loss: 0.2931 - accuracy: 0.5000\n",
      "Epoch 95/100\n",
      "1/1 [==============================] - 0s 3ms/step - loss: 0.2930 - accuracy: 0.5000\n",
      "Epoch 96/100\n",
      "1/1 [==============================] - 0s 3ms/step - loss: 0.2928 - accuracy: 0.5000\n",
      "Epoch 97/100\n",
      "1/1 [==============================] - 0s 2ms/step - loss: 0.2926 - accuracy: 0.5000\n",
      "Epoch 98/100\n",
      "1/1 [==============================] - 0s 3ms/step - loss: 0.2925 - accuracy: 0.5000\n",
      "Epoch 99/100\n",
      "1/1 [==============================] - 0s 3ms/step - loss: 0.2923 - accuracy: 0.5000\n",
      "Epoch 100/100\n",
      "1/1 [==============================] - 0s 3ms/step - loss: 0.2921 - accuracy: 0.5000\n"
     ]
    },
    {
     "data": {
      "text/plain": [
       "<keras.src.callbacks.History at 0x1c28b054290>"
      ]
     },
     "execution_count": 14,
     "metadata": {},
     "output_type": "execute_result"
    }
   ],
   "source": [
    "model.fit(x_train, y_train, epochs=100, batch_size=6)"
   ]
  },
  {
   "cell_type": "markdown",
   "metadata": {},
   "source": [
    "We can predict the values from the training value. Why are the results floating point number and not 0 or 1? Does the result seem likely?"
   ]
  },
  {
   "cell_type": "code",
   "execution_count": 15,
   "metadata": {},
   "outputs": [
    {
     "name": "stdout",
     "output_type": "stream",
     "text": [
      "1/1 [==============================] - 0s 54ms/step\n"
     ]
    },
    {
     "data": {
      "text/plain": [
       "array([[0.66105103],\n",
       "       [0.66794145],\n",
       "       [0.6747607 ],\n",
       "       [0.6815067 ],\n",
       "       [0.68817735],\n",
       "       [0.69477093]], dtype=float32)"
      ]
     },
     "execution_count": 15,
     "metadata": {},
     "output_type": "execute_result"
    }
   ],
   "source": [
    "model.predict(x_train)"
   ]
  },
  {
   "cell_type": "markdown",
   "metadata": {},
   "source": [
    "We can also print the found weights for each layer:"
   ]
  },
  {
   "cell_type": "code",
   "execution_count": 16,
   "metadata": {},
   "outputs": [
    {
     "name": "stdout",
     "output_type": "stream",
     "text": [
      "dense\n",
      "[array([[0.90345615],\n",
      "       [0.7489179 ]], dtype=float32), array([-0.08093639], dtype=float32)]\n"
     ]
    }
   ],
   "source": [
    "for layer in model.layers:\n",
    "    weights = layer.get_weights()\n",
    "    print(layer.name)\n",
    "    print(weights)"
   ]
  },
  {
   "cell_type": "markdown",
   "metadata": {},
   "source": [
    "How do we find the actual predictions? We use a threshold on the output of the sigmoid function."
   ]
  },
  {
   "cell_type": "code",
   "execution_count": 17,
   "metadata": {},
   "outputs": [
    {
     "name": "stdout",
     "output_type": "stream",
     "text": [
      "1/1 [==============================] - 0s 17ms/step\n"
     ]
    },
    {
     "data": {
      "text/plain": [
       "array([[ True],\n",
       "       [ True],\n",
       "       [ True],\n",
       "       [ True],\n",
       "       [ True],\n",
       "       [ True]])"
      ]
     },
     "execution_count": 17,
     "metadata": {},
     "output_type": "execute_result"
    }
   ],
   "source": [
    "model.predict(x_train) > 0.5"
   ]
  },
  {
   "cell_type": "markdown",
   "metadata": {},
   "source": [
    "### A larger network\n",
    "\n",
    "Lets try a more complicated network with two hidden layers."
   ]
  },
  {
   "cell_type": "code",
   "execution_count": 18,
   "metadata": {},
   "outputs": [],
   "source": [
    "model = keras.Sequential()\n",
    "model.add(keras.layers.Dense(2, activation='relu', input_shape=[2]))\n",
    "model.add(keras.layers.Dense(2, activation='relu'))\n",
    "model.add(keras.layers.Dense(1, activation='sigmoid'))\n",
    "model.compile(loss='mse',\n",
    "              optimizer='sgd',\n",
    "              metrics=['accuracy'])"
   ]
  },
  {
   "cell_type": "markdown",
   "metadata": {},
   "source": [
    "And train it again..."
   ]
  },
  {
   "cell_type": "code",
   "execution_count": 19,
   "metadata": {},
   "outputs": [
    {
     "name": "stdout",
     "output_type": "stream",
     "text": [
      "Epoch 1/200\n",
      "1/1 [==============================] - 0s 250ms/step - loss: 0.2500 - accuracy: 0.5000\n",
      "Epoch 2/200\n",
      "1/1 [==============================] - 0s 3ms/step - loss: 0.2500 - accuracy: 0.5000\n",
      "Epoch 3/200\n",
      "1/1 [==============================] - 0s 3ms/step - loss: 0.2500 - accuracy: 0.5000\n",
      "Epoch 4/200\n",
      "1/1 [==============================] - 0s 3ms/step - loss: 0.2500 - accuracy: 0.5000\n",
      "Epoch 5/200\n",
      "1/1 [==============================] - 0s 4ms/step - loss: 0.2500 - accuracy: 0.5000\n",
      "Epoch 6/200\n",
      "1/1 [==============================] - 0s 3ms/step - loss: 0.2500 - accuracy: 0.5000\n",
      "Epoch 7/200\n",
      "1/1 [==============================] - 0s 3ms/step - loss: 0.2500 - accuracy: 0.5000\n",
      "Epoch 8/200\n",
      "1/1 [==============================] - 0s 4ms/step - loss: 0.2500 - accuracy: 0.5000\n",
      "Epoch 9/200\n",
      "1/1 [==============================] - 0s 3ms/step - loss: 0.2500 - accuracy: 0.5000\n",
      "Epoch 10/200\n",
      "1/1 [==============================] - 0s 2ms/step - loss: 0.2500 - accuracy: 0.5000\n",
      "Epoch 11/200\n",
      "1/1 [==============================] - 0s 4ms/step - loss: 0.2500 - accuracy: 0.5000\n",
      "Epoch 12/200\n",
      "1/1 [==============================] - 0s 3ms/step - loss: 0.2500 - accuracy: 0.5000\n",
      "Epoch 13/200\n",
      "1/1 [==============================] - 0s 4ms/step - loss: 0.2500 - accuracy: 0.5000\n",
      "Epoch 14/200\n",
      "1/1 [==============================] - 0s 4ms/step - loss: 0.2500 - accuracy: 0.5000\n",
      "Epoch 15/200\n",
      "1/1 [==============================] - 0s 4ms/step - loss: 0.2500 - accuracy: 0.5000\n",
      "Epoch 16/200\n",
      "1/1 [==============================] - 0s 5ms/step - loss: 0.2500 - accuracy: 0.5000\n",
      "Epoch 17/200\n",
      "1/1 [==============================] - 0s 4ms/step - loss: 0.2500 - accuracy: 0.5000\n",
      "Epoch 18/200\n",
      "1/1 [==============================] - 0s 4ms/step - loss: 0.2500 - accuracy: 0.5000\n",
      "Epoch 19/200\n",
      "1/1 [==============================] - 0s 6ms/step - loss: 0.2500 - accuracy: 0.5000\n",
      "Epoch 20/200\n",
      "1/1 [==============================] - 0s 3ms/step - loss: 0.2500 - accuracy: 0.5000\n",
      "Epoch 21/200\n",
      "1/1 [==============================] - 0s 4ms/step - loss: 0.2500 - accuracy: 0.5000\n",
      "Epoch 22/200\n",
      "1/1 [==============================] - 0s 4ms/step - loss: 0.2500 - accuracy: 0.5000\n",
      "Epoch 23/200\n",
      "1/1 [==============================] - 0s 4ms/step - loss: 0.2500 - accuracy: 0.5000\n",
      "Epoch 24/200\n",
      "1/1 [==============================] - 0s 4ms/step - loss: 0.2500 - accuracy: 0.5000\n",
      "Epoch 25/200\n",
      "1/1 [==============================] - 0s 4ms/step - loss: 0.2500 - accuracy: 0.5000\n",
      "Epoch 26/200\n",
      "1/1 [==============================] - 0s 3ms/step - loss: 0.2500 - accuracy: 0.5000\n",
      "Epoch 27/200\n",
      "1/1 [==============================] - 0s 3ms/step - loss: 0.2500 - accuracy: 0.5000\n",
      "Epoch 28/200\n",
      "1/1 [==============================] - 0s 3ms/step - loss: 0.2500 - accuracy: 0.5000\n",
      "Epoch 29/200\n",
      "1/1 [==============================] - 0s 4ms/step - loss: 0.2500 - accuracy: 0.5000\n",
      "Epoch 30/200\n",
      "1/1 [==============================] - 0s 3ms/step - loss: 0.2500 - accuracy: 0.5000\n",
      "Epoch 31/200\n",
      "1/1 [==============================] - 0s 3ms/step - loss: 0.2500 - accuracy: 0.5000\n",
      "Epoch 32/200\n",
      "1/1 [==============================] - 0s 3ms/step - loss: 0.2500 - accuracy: 0.5000\n",
      "Epoch 33/200\n",
      "1/1 [==============================] - 0s 3ms/step - loss: 0.2500 - accuracy: 0.5000\n",
      "Epoch 34/200\n",
      "1/1 [==============================] - 0s 4ms/step - loss: 0.2500 - accuracy: 0.5000\n",
      "Epoch 35/200\n",
      "1/1 [==============================] - 0s 4ms/step - loss: 0.2500 - accuracy: 0.5000\n",
      "Epoch 36/200\n",
      "1/1 [==============================] - 0s 4ms/step - loss: 0.2500 - accuracy: 0.5000\n",
      "Epoch 37/200\n",
      "1/1 [==============================] - 0s 3ms/step - loss: 0.2500 - accuracy: 0.5000\n",
      "Epoch 38/200\n",
      "1/1 [==============================] - 0s 4ms/step - loss: 0.2500 - accuracy: 0.5000\n",
      "Epoch 39/200\n",
      "1/1 [==============================] - 0s 3ms/step - loss: 0.2500 - accuracy: 0.5000\n",
      "Epoch 40/200\n",
      "1/1 [==============================] - 0s 3ms/step - loss: 0.2500 - accuracy: 0.5000\n",
      "Epoch 41/200\n",
      "1/1 [==============================] - 0s 3ms/step - loss: 0.2500 - accuracy: 0.5000\n",
      "Epoch 42/200\n",
      "1/1 [==============================] - 0s 3ms/step - loss: 0.2500 - accuracy: 0.5000\n",
      "Epoch 43/200\n",
      "1/1 [==============================] - 0s 3ms/step - loss: 0.2500 - accuracy: 0.5000\n",
      "Epoch 44/200\n",
      "1/1 [==============================] - 0s 3ms/step - loss: 0.2500 - accuracy: 0.5000\n",
      "Epoch 45/200\n",
      "1/1 [==============================] - 0s 4ms/step - loss: 0.2500 - accuracy: 0.5000\n",
      "Epoch 46/200\n",
      "1/1 [==============================] - 0s 3ms/step - loss: 0.2500 - accuracy: 0.5000\n",
      "Epoch 47/200\n",
      "1/1 [==============================] - 0s 3ms/step - loss: 0.2500 - accuracy: 0.5000\n",
      "Epoch 48/200\n",
      "1/1 [==============================] - 0s 4ms/step - loss: 0.2500 - accuracy: 0.5000\n",
      "Epoch 49/200\n",
      "1/1 [==============================] - 0s 4ms/step - loss: 0.2500 - accuracy: 0.5000\n",
      "Epoch 50/200\n",
      "1/1 [==============================] - 0s 4ms/step - loss: 0.2500 - accuracy: 0.5000\n",
      "Epoch 51/200\n",
      "1/1 [==============================] - 0s 4ms/step - loss: 0.2500 - accuracy: 0.5000\n",
      "Epoch 52/200\n",
      "1/1 [==============================] - 0s 4ms/step - loss: 0.2500 - accuracy: 0.5000\n",
      "Epoch 53/200\n",
      "1/1 [==============================] - 0s 5ms/step - loss: 0.2500 - accuracy: 0.5000\n",
      "Epoch 54/200\n",
      "1/1 [==============================] - 0s 4ms/step - loss: 0.2500 - accuracy: 0.5000\n",
      "Epoch 55/200\n",
      "1/1 [==============================] - 0s 3ms/step - loss: 0.2500 - accuracy: 0.5000\n",
      "Epoch 56/200\n",
      "1/1 [==============================] - 0s 3ms/step - loss: 0.2500 - accuracy: 0.5000\n",
      "Epoch 57/200\n",
      "1/1 [==============================] - 0s 3ms/step - loss: 0.2500 - accuracy: 0.5000\n",
      "Epoch 58/200\n",
      "1/1 [==============================] - 0s 4ms/step - loss: 0.2500 - accuracy: 0.5000\n",
      "Epoch 59/200\n",
      "1/1 [==============================] - 0s 4ms/step - loss: 0.2500 - accuracy: 0.5000\n",
      "Epoch 60/200\n",
      "1/1 [==============================] - 0s 4ms/step - loss: 0.2500 - accuracy: 0.5000\n",
      "Epoch 61/200\n",
      "1/1 [==============================] - 0s 3ms/step - loss: 0.2500 - accuracy: 0.5000\n",
      "Epoch 62/200\n",
      "1/1 [==============================] - 0s 4ms/step - loss: 0.2500 - accuracy: 0.5000\n",
      "Epoch 63/200\n",
      "1/1 [==============================] - 0s 3ms/step - loss: 0.2500 - accuracy: 0.5000\n",
      "Epoch 64/200\n",
      "1/1 [==============================] - 0s 3ms/step - loss: 0.2500 - accuracy: 0.5000\n",
      "Epoch 65/200\n",
      "1/1 [==============================] - 0s 3ms/step - loss: 0.2500 - accuracy: 0.5000\n",
      "Epoch 66/200\n",
      "1/1 [==============================] - 0s 4ms/step - loss: 0.2500 - accuracy: 0.5000\n",
      "Epoch 67/200\n",
      "1/1 [==============================] - 0s 4ms/step - loss: 0.2500 - accuracy: 0.5000\n",
      "Epoch 68/200\n",
      "1/1 [==============================] - 0s 4ms/step - loss: 0.2500 - accuracy: 0.5000\n",
      "Epoch 69/200\n",
      "1/1 [==============================] - 0s 3ms/step - loss: 0.2500 - accuracy: 0.5000\n",
      "Epoch 70/200\n",
      "1/1 [==============================] - 0s 3ms/step - loss: 0.2500 - accuracy: 0.5000\n",
      "Epoch 71/200\n",
      "1/1 [==============================] - 0s 3ms/step - loss: 0.2500 - accuracy: 0.5000\n",
      "Epoch 72/200\n",
      "1/1 [==============================] - 0s 4ms/step - loss: 0.2500 - accuracy: 0.5000\n",
      "Epoch 73/200\n",
      "1/1 [==============================] - 0s 3ms/step - loss: 0.2500 - accuracy: 0.5000\n",
      "Epoch 74/200\n",
      "1/1 [==============================] - 0s 4ms/step - loss: 0.2500 - accuracy: 0.5000\n",
      "Epoch 75/200\n",
      "1/1 [==============================] - 0s 3ms/step - loss: 0.2500 - accuracy: 0.5000\n",
      "Epoch 76/200\n",
      "1/1 [==============================] - 0s 4ms/step - loss: 0.2500 - accuracy: 0.5000\n",
      "Epoch 77/200\n",
      "1/1 [==============================] - 0s 3ms/step - loss: 0.2500 - accuracy: 0.5000\n",
      "Epoch 78/200\n",
      "1/1 [==============================] - 0s 3ms/step - loss: 0.2500 - accuracy: 0.5000\n",
      "Epoch 79/200\n",
      "1/1 [==============================] - 0s 4ms/step - loss: 0.2500 - accuracy: 0.5000\n",
      "Epoch 80/200\n",
      "1/1 [==============================] - 0s 3ms/step - loss: 0.2500 - accuracy: 0.5000\n",
      "Epoch 81/200\n",
      "1/1 [==============================] - 0s 5ms/step - loss: 0.2500 - accuracy: 0.5000\n",
      "Epoch 82/200\n",
      "1/1 [==============================] - 0s 5ms/step - loss: 0.2500 - accuracy: 0.5000\n",
      "Epoch 83/200\n",
      "1/1 [==============================] - 0s 5ms/step - loss: 0.2500 - accuracy: 0.5000\n",
      "Epoch 84/200\n",
      "1/1 [==============================] - 0s 5ms/step - loss: 0.2500 - accuracy: 0.5000\n",
      "Epoch 85/200\n",
      "1/1 [==============================] - 0s 4ms/step - loss: 0.2500 - accuracy: 0.5000\n",
      "Epoch 86/200\n",
      "1/1 [==============================] - 0s 4ms/step - loss: 0.2500 - accuracy: 0.5000\n",
      "Epoch 87/200\n",
      "1/1 [==============================] - 0s 3ms/step - loss: 0.2500 - accuracy: 0.5000\n",
      "Epoch 88/200\n",
      "1/1 [==============================] - 0s 4ms/step - loss: 0.2500 - accuracy: 0.5000\n",
      "Epoch 89/200\n",
      "1/1 [==============================] - 0s 4ms/step - loss: 0.2500 - accuracy: 0.5000\n",
      "Epoch 90/200\n",
      "1/1 [==============================] - 0s 3ms/step - loss: 0.2500 - accuracy: 0.5000\n",
      "Epoch 91/200\n",
      "1/1 [==============================] - 0s 3ms/step - loss: 0.2500 - accuracy: 0.5000\n",
      "Epoch 92/200\n",
      "1/1 [==============================] - 0s 3ms/step - loss: 0.2500 - accuracy: 0.5000\n",
      "Epoch 93/200\n",
      "1/1 [==============================] - 0s 4ms/step - loss: 0.2500 - accuracy: 0.5000\n",
      "Epoch 94/200\n",
      "1/1 [==============================] - 0s 4ms/step - loss: 0.2500 - accuracy: 0.5000\n",
      "Epoch 95/200\n",
      "1/1 [==============================] - 0s 4ms/step - loss: 0.2500 - accuracy: 0.5000\n",
      "Epoch 96/200\n",
      "1/1 [==============================] - 0s 3ms/step - loss: 0.2500 - accuracy: 0.5000\n",
      "Epoch 97/200\n",
      "1/1 [==============================] - 0s 4ms/step - loss: 0.2500 - accuracy: 0.5000\n",
      "Epoch 98/200\n",
      "1/1 [==============================] - 0s 3ms/step - loss: 0.2500 - accuracy: 0.5000\n",
      "Epoch 99/200\n",
      "1/1 [==============================] - 0s 4ms/step - loss: 0.2500 - accuracy: 0.5000\n",
      "Epoch 100/200\n",
      "1/1 [==============================] - 0s 4ms/step - loss: 0.2500 - accuracy: 0.5000\n",
      "Epoch 101/200\n",
      "1/1 [==============================] - 0s 3ms/step - loss: 0.2500 - accuracy: 0.5000\n",
      "Epoch 102/200\n",
      "1/1 [==============================] - 0s 3ms/step - loss: 0.2500 - accuracy: 0.5000\n",
      "Epoch 103/200\n",
      "1/1 [==============================] - 0s 3ms/step - loss: 0.2500 - accuracy: 0.5000\n",
      "Epoch 104/200\n",
      "1/1 [==============================] - 0s 4ms/step - loss: 0.2500 - accuracy: 0.5000\n",
      "Epoch 105/200\n",
      "1/1 [==============================] - 0s 3ms/step - loss: 0.2500 - accuracy: 0.5000\n",
      "Epoch 106/200\n",
      "1/1 [==============================] - 0s 4ms/step - loss: 0.2500 - accuracy: 0.5000\n",
      "Epoch 107/200\n",
      "1/1 [==============================] - 0s 3ms/step - loss: 0.2500 - accuracy: 0.5000\n",
      "Epoch 108/200\n",
      "1/1 [==============================] - 0s 3ms/step - loss: 0.2500 - accuracy: 0.5000\n",
      "Epoch 109/200\n",
      "1/1 [==============================] - 0s 4ms/step - loss: 0.2500 - accuracy: 0.5000\n",
      "Epoch 110/200\n",
      "1/1 [==============================] - 0s 4ms/step - loss: 0.2500 - accuracy: 0.5000\n",
      "Epoch 111/200\n",
      "1/1 [==============================] - 0s 5ms/step - loss: 0.2500 - accuracy: 0.5000\n",
      "Epoch 112/200\n",
      "1/1 [==============================] - 0s 4ms/step - loss: 0.2500 - accuracy: 0.5000\n",
      "Epoch 113/200\n",
      "1/1 [==============================] - 0s 5ms/step - loss: 0.2500 - accuracy: 0.5000\n",
      "Epoch 114/200\n",
      "1/1 [==============================] - 0s 4ms/step - loss: 0.2500 - accuracy: 0.5000\n",
      "Epoch 115/200\n",
      "1/1 [==============================] - 0s 3ms/step - loss: 0.2500 - accuracy: 0.5000\n",
      "Epoch 116/200\n",
      "1/1 [==============================] - 0s 4ms/step - loss: 0.2500 - accuracy: 0.5000\n",
      "Epoch 117/200\n",
      "1/1 [==============================] - 0s 3ms/step - loss: 0.2500 - accuracy: 0.5000\n",
      "Epoch 118/200\n",
      "1/1 [==============================] - 0s 3ms/step - loss: 0.2500 - accuracy: 0.5000\n",
      "Epoch 119/200\n",
      "1/1 [==============================] - 0s 3ms/step - loss: 0.2500 - accuracy: 0.5000\n",
      "Epoch 120/200\n",
      "1/1 [==============================] - 0s 4ms/step - loss: 0.2500 - accuracy: 0.5000\n",
      "Epoch 121/200\n",
      "1/1 [==============================] - 0s 3ms/step - loss: 0.2500 - accuracy: 0.5000\n",
      "Epoch 122/200\n",
      "1/1 [==============================] - 0s 4ms/step - loss: 0.2500 - accuracy: 0.5000\n",
      "Epoch 123/200\n",
      "1/1 [==============================] - 0s 4ms/step - loss: 0.2500 - accuracy: 0.5000\n",
      "Epoch 124/200\n",
      "1/1 [==============================] - 0s 3ms/step - loss: 0.2500 - accuracy: 0.5000\n",
      "Epoch 125/200\n",
      "1/1 [==============================] - 0s 4ms/step - loss: 0.2500 - accuracy: 0.5000\n",
      "Epoch 126/200\n",
      "1/1 [==============================] - 0s 4ms/step - loss: 0.2500 - accuracy: 0.5000\n",
      "Epoch 127/200\n",
      "1/1 [==============================] - 0s 5ms/step - loss: 0.2500 - accuracy: 0.5000\n",
      "Epoch 128/200\n",
      "1/1 [==============================] - 0s 4ms/step - loss: 0.2500 - accuracy: 0.5000\n",
      "Epoch 129/200\n",
      "1/1 [==============================] - 0s 3ms/step - loss: 0.2500 - accuracy: 0.5000\n",
      "Epoch 130/200\n",
      "1/1 [==============================] - 0s 3ms/step - loss: 0.2500 - accuracy: 0.5000\n",
      "Epoch 131/200\n",
      "1/1 [==============================] - 0s 4ms/step - loss: 0.2500 - accuracy: 0.5000\n",
      "Epoch 132/200\n",
      "1/1 [==============================] - 0s 4ms/step - loss: 0.2500 - accuracy: 0.5000\n",
      "Epoch 133/200\n",
      "1/1 [==============================] - 0s 4ms/step - loss: 0.2500 - accuracy: 0.5000\n",
      "Epoch 134/200\n",
      "1/1 [==============================] - 0s 3ms/step - loss: 0.2500 - accuracy: 0.5000\n",
      "Epoch 135/200\n",
      "1/1 [==============================] - 0s 4ms/step - loss: 0.2500 - accuracy: 0.5000\n",
      "Epoch 136/200\n",
      "1/1 [==============================] - 0s 3ms/step - loss: 0.2500 - accuracy: 0.5000\n",
      "Epoch 137/200\n",
      "1/1 [==============================] - 0s 4ms/step - loss: 0.2500 - accuracy: 0.5000\n",
      "Epoch 138/200\n",
      "1/1 [==============================] - 0s 4ms/step - loss: 0.2500 - accuracy: 0.5000\n",
      "Epoch 139/200\n",
      "1/1 [==============================] - 0s 4ms/step - loss: 0.2500 - accuracy: 0.5000\n",
      "Epoch 140/200\n",
      "1/1 [==============================] - 0s 4ms/step - loss: 0.2500 - accuracy: 0.5000\n",
      "Epoch 141/200\n",
      "1/1 [==============================] - 0s 4ms/step - loss: 0.2500 - accuracy: 0.5000\n",
      "Epoch 142/200\n",
      "1/1 [==============================] - 0s 3ms/step - loss: 0.2500 - accuracy: 0.5000\n",
      "Epoch 143/200\n",
      "1/1 [==============================] - 0s 4ms/step - loss: 0.2500 - accuracy: 0.5000\n",
      "Epoch 144/200\n",
      "1/1 [==============================] - 0s 4ms/step - loss: 0.2500 - accuracy: 0.5000\n",
      "Epoch 145/200\n",
      "1/1 [==============================] - 0s 4ms/step - loss: 0.2500 - accuracy: 0.5000\n",
      "Epoch 146/200\n",
      "1/1 [==============================] - 0s 4ms/step - loss: 0.2500 - accuracy: 0.5000\n",
      "Epoch 147/200\n",
      "1/1 [==============================] - 0s 3ms/step - loss: 0.2500 - accuracy: 0.5000\n",
      "Epoch 148/200\n",
      "1/1 [==============================] - 0s 3ms/step - loss: 0.2500 - accuracy: 0.5000\n",
      "Epoch 149/200\n",
      "1/1 [==============================] - 0s 4ms/step - loss: 0.2500 - accuracy: 0.5000\n",
      "Epoch 150/200\n",
      "1/1 [==============================] - 0s 4ms/step - loss: 0.2500 - accuracy: 0.5000\n",
      "Epoch 151/200\n",
      "1/1 [==============================] - 0s 3ms/step - loss: 0.2500 - accuracy: 0.5000\n",
      "Epoch 152/200\n",
      "1/1 [==============================] - 0s 3ms/step - loss: 0.2500 - accuracy: 0.5000\n",
      "Epoch 153/200\n",
      "1/1 [==============================] - 0s 4ms/step - loss: 0.2500 - accuracy: 0.5000\n",
      "Epoch 154/200\n",
      "1/1 [==============================] - 0s 3ms/step - loss: 0.2500 - accuracy: 0.5000\n",
      "Epoch 155/200\n",
      "1/1 [==============================] - 0s 4ms/step - loss: 0.2500 - accuracy: 0.5000\n",
      "Epoch 156/200\n",
      "1/1 [==============================] - 0s 4ms/step - loss: 0.2500 - accuracy: 0.5000\n",
      "Epoch 157/200\n",
      "1/1 [==============================] - 0s 5ms/step - loss: 0.2500 - accuracy: 0.5000\n",
      "Epoch 158/200\n",
      "1/1 [==============================] - 0s 4ms/step - loss: 0.2500 - accuracy: 0.5000\n",
      "Epoch 159/200\n",
      "1/1 [==============================] - 0s 5ms/step - loss: 0.2500 - accuracy: 0.5000\n",
      "Epoch 160/200\n",
      "1/1 [==============================] - 0s 5ms/step - loss: 0.2500 - accuracy: 0.5000\n",
      "Epoch 161/200\n",
      "1/1 [==============================] - 0s 3ms/step - loss: 0.2500 - accuracy: 0.5000\n",
      "Epoch 162/200\n",
      "1/1 [==============================] - 0s 5ms/step - loss: 0.2500 - accuracy: 0.5000\n",
      "Epoch 163/200\n",
      "1/1 [==============================] - 0s 4ms/step - loss: 0.2500 - accuracy: 0.5000\n",
      "Epoch 164/200\n",
      "1/1 [==============================] - 0s 3ms/step - loss: 0.2500 - accuracy: 0.5000\n",
      "Epoch 165/200\n",
      "1/1 [==============================] - 0s 4ms/step - loss: 0.2500 - accuracy: 0.5000\n",
      "Epoch 166/200\n",
      "1/1 [==============================] - 0s 4ms/step - loss: 0.2500 - accuracy: 0.5000\n",
      "Epoch 167/200\n",
      "1/1 [==============================] - 0s 4ms/step - loss: 0.2500 - accuracy: 0.5000\n",
      "Epoch 168/200\n",
      "1/1 [==============================] - 0s 4ms/step - loss: 0.2500 - accuracy: 0.5000\n",
      "Epoch 169/200\n",
      "1/1 [==============================] - 0s 4ms/step - loss: 0.2500 - accuracy: 0.5000\n",
      "Epoch 170/200\n",
      "1/1 [==============================] - 0s 4ms/step - loss: 0.2500 - accuracy: 0.5000\n",
      "Epoch 171/200\n",
      "1/1 [==============================] - 0s 4ms/step - loss: 0.2500 - accuracy: 0.5000\n",
      "Epoch 172/200\n",
      "1/1 [==============================] - 0s 4ms/step - loss: 0.2500 - accuracy: 0.5000\n",
      "Epoch 173/200\n",
      "1/1 [==============================] - 0s 3ms/step - loss: 0.2500 - accuracy: 0.5000\n",
      "Epoch 174/200\n",
      "1/1 [==============================] - 0s 4ms/step - loss: 0.2500 - accuracy: 0.5000\n",
      "Epoch 175/200\n",
      "1/1 [==============================] - 0s 3ms/step - loss: 0.2500 - accuracy: 0.5000\n",
      "Epoch 176/200\n",
      "1/1 [==============================] - 0s 3ms/step - loss: 0.2500 - accuracy: 0.5000\n",
      "Epoch 177/200\n",
      "1/1 [==============================] - 0s 3ms/step - loss: 0.2500 - accuracy: 0.5000\n",
      "Epoch 178/200\n",
      "1/1 [==============================] - 0s 3ms/step - loss: 0.2500 - accuracy: 0.5000\n",
      "Epoch 179/200\n",
      "1/1 [==============================] - 0s 4ms/step - loss: 0.2500 - accuracy: 0.5000\n",
      "Epoch 180/200\n",
      "1/1 [==============================] - 0s 4ms/step - loss: 0.2500 - accuracy: 0.5000\n",
      "Epoch 181/200\n",
      "1/1 [==============================] - 0s 4ms/step - loss: 0.2500 - accuracy: 0.5000\n",
      "Epoch 182/200\n",
      "1/1 [==============================] - 0s 3ms/step - loss: 0.2500 - accuracy: 0.5000\n",
      "Epoch 183/200\n",
      "1/1 [==============================] - 0s 2ms/step - loss: 0.2500 - accuracy: 0.5000\n",
      "Epoch 184/200\n",
      "1/1 [==============================] - 0s 3ms/step - loss: 0.2500 - accuracy: 0.5000\n",
      "Epoch 185/200\n",
      "1/1 [==============================] - 0s 3ms/step - loss: 0.2500 - accuracy: 0.5000\n",
      "Epoch 186/200\n",
      "1/1 [==============================] - 0s 4ms/step - loss: 0.2500 - accuracy: 0.5000\n",
      "Epoch 187/200\n",
      "1/1 [==============================] - 0s 3ms/step - loss: 0.2500 - accuracy: 0.5000\n",
      "Epoch 188/200\n",
      "1/1 [==============================] - 0s 3ms/step - loss: 0.2500 - accuracy: 0.5000\n",
      "Epoch 189/200\n",
      "1/1 [==============================] - 0s 4ms/step - loss: 0.2500 - accuracy: 0.5000\n",
      "Epoch 190/200\n",
      "1/1 [==============================] - 0s 4ms/step - loss: 0.2500 - accuracy: 0.5000\n",
      "Epoch 191/200\n",
      "1/1 [==============================] - 0s 3ms/step - loss: 0.2500 - accuracy: 0.5000\n",
      "Epoch 192/200\n",
      "1/1 [==============================] - 0s 3ms/step - loss: 0.2500 - accuracy: 0.5000\n",
      "Epoch 193/200\n",
      "1/1 [==============================] - 0s 3ms/step - loss: 0.2500 - accuracy: 0.5000\n",
      "Epoch 194/200\n",
      "1/1 [==============================] - 0s 3ms/step - loss: 0.2500 - accuracy: 0.5000\n",
      "Epoch 195/200\n",
      "1/1 [==============================] - 0s 3ms/step - loss: 0.2500 - accuracy: 0.5000\n",
      "Epoch 196/200\n",
      "1/1 [==============================] - 0s 3ms/step - loss: 0.2500 - accuracy: 0.5000\n",
      "Epoch 197/200\n",
      "1/1 [==============================] - 0s 3ms/step - loss: 0.2500 - accuracy: 0.5000\n",
      "Epoch 198/200\n",
      "1/1 [==============================] - 0s 3ms/step - loss: 0.2500 - accuracy: 0.5000\n",
      "Epoch 199/200\n",
      "1/1 [==============================] - 0s 4ms/step - loss: 0.2500 - accuracy: 0.5000\n",
      "Epoch 200/200\n",
      "1/1 [==============================] - 0s 4ms/step - loss: 0.2500 - accuracy: 0.5000\n"
     ]
    },
    {
     "data": {
      "text/plain": [
       "<keras.src.callbacks.History at 0x1c28c130690>"
      ]
     },
     "execution_count": 19,
     "metadata": {},
     "output_type": "execute_result"
    }
   ],
   "source": [
    "model.fit(x_train, y_train, epochs=200, batch_size=6)"
   ]
  },
  {
   "cell_type": "markdown",
   "metadata": {},
   "source": [
    "The results are not necessarly better, how does the prediction look now?"
   ]
  },
  {
   "cell_type": "code",
   "execution_count": 20,
   "metadata": {},
   "outputs": [
    {
     "name": "stdout",
     "output_type": "stream",
     "text": [
      "1/1 [==============================] - 0s 40ms/step\n"
     ]
    },
    {
     "data": {
      "text/plain": [
       "array([[0.5],\n",
       "       [0.5],\n",
       "       [0.5],\n",
       "       [0.5],\n",
       "       [0.5],\n",
       "       [0.5]], dtype=float32)"
      ]
     },
     "execution_count": 20,
     "metadata": {},
     "output_type": "execute_result"
    }
   ],
   "source": [
    "model.predict(x_train)"
   ]
  },
  {
   "cell_type": "code",
   "execution_count": 21,
   "metadata": {},
   "outputs": [
    {
     "name": "stdout",
     "output_type": "stream",
     "text": [
      "<keras.src.layers.core.dense.Dense object at 0x000001C28C07A2D0>\n",
      "[array([[-0.09941471, -0.12878895],\n",
      "       [-0.3542109 , -1.1275401 ]], dtype=float32), array([0., 0.], dtype=float32)]\n",
      "<keras.src.layers.core.dense.Dense object at 0x000001C28C0CF0D0>\n",
      "[array([[-0.61113465, -0.5777258 ],\n",
      "       [ 1.1621844 , -0.2588752 ]], dtype=float32), array([0., 0.], dtype=float32)]\n",
      "<keras.src.layers.core.dense.Dense object at 0x000001C28C0B9E50>\n",
      "[array([[0.99158514],\n",
      "       [1.3291022 ]], dtype=float32), array([-7.4505796e-10], dtype=float32)]\n"
     ]
    }
   ],
   "source": [
    "for layer in model.layers:\n",
    "    weights = layer.get_weights()\n",
    "    print(layer)\n",
    "    print(weights)"
   ]
  },
  {
   "cell_type": "markdown",
   "metadata": {},
   "source": [
    "The larger network, does not seem to work better as the simpler one. Or is it maybe not large enough?\n",
    "\n",
    "The problem is not the network, but the data, we just do not have enough data. So lets try to make up some more data artificially.\n"
   ]
  },
  {
   "cell_type": "code",
   "execution_count": 22,
   "metadata": {},
   "outputs": [],
   "source": [
    "x_new = np.random.random(size=(10000,2))\n",
    "y_new = np.zeros(10000, dtype=np.float32)\n",
    "condition = (x_new[:,1] > x_new[:,0])\n",
    "y_new[condition] = 1.0"
   ]
  },
  {
   "cell_type": "code",
   "execution_count": 27,
   "metadata": {},
   "outputs": [
    {
     "name": "stdout",
     "output_type": "stream",
     "text": [
      "Epoch 1/10\n",
      "100/100 [==============================] - 0s 929us/step - loss: 0.2500 - accuracy: 0.5020\n",
      "Epoch 2/10\n",
      "100/100 [==============================] - 0s 970us/step - loss: 0.2500 - accuracy: 0.5020\n",
      "Epoch 3/10\n",
      "100/100 [==============================] - 0s 919us/step - loss: 0.2500 - accuracy: 0.5020\n",
      "Epoch 4/10\n",
      "100/100 [==============================] - 0s 919us/step - loss: 0.2500 - accuracy: 0.5020\n",
      "Epoch 5/10\n",
      "100/100 [==============================] - 0s 899us/step - loss: 0.2500 - accuracy: 0.5020\n",
      "Epoch 6/10\n",
      "100/100 [==============================] - 0s 899us/step - loss: 0.2500 - accuracy: 0.5020\n",
      "Epoch 7/10\n",
      "100/100 [==============================] - 0s 929us/step - loss: 0.2500 - accuracy: 0.5020\n",
      "Epoch 8/10\n",
      "100/100 [==============================] - 0s 929us/step - loss: 0.2500 - accuracy: 0.5020\n",
      "Epoch 9/10\n",
      "100/100 [==============================] - 0s 919us/step - loss: 0.2500 - accuracy: 0.5020\n",
      "Epoch 10/10\n",
      "100/100 [==============================] - 0s 919us/step - loss: 0.2500 - accuracy: 0.5020\n"
     ]
    },
    {
     "data": {
      "text/plain": [
       "<keras.src.callbacks.History at 0x1c290511c50>"
      ]
     },
     "execution_count": 27,
     "metadata": {},
     "output_type": "execute_result"
    }
   ],
   "source": [
    "model.fit(x_new, y_new, epochs=10, batch_size=100)"
   ]
  },
  {
   "cell_type": "markdown",
   "metadata": {},
   "source": [
    "That seems better. Lets look how it performs on our original data."
   ]
  },
  {
   "cell_type": "code",
   "execution_count": 28,
   "metadata": {},
   "outputs": [
    {
     "name": "stdout",
     "output_type": "stream",
     "text": [
      "1/1 [==============================] - 0s 17ms/step\n"
     ]
    },
    {
     "data": {
      "text/plain": [
       "array([[0.50240475],\n",
       "       [0.50240475],\n",
       "       [0.50240475],\n",
       "       [0.50240475],\n",
       "       [0.50240475],\n",
       "       [0.50240475]], dtype=float32)"
      ]
     },
     "execution_count": 28,
     "metadata": {},
     "output_type": "execute_result"
    }
   ],
   "source": [
    "model.predict(x_train)"
   ]
  },
  {
   "cell_type": "markdown",
   "metadata": {},
   "source": [
    "### Evaluation\n",
    "\n",
    "We might want to check how the network performs on any data. For this, keras provides the evaluate function that will \n",
    "evaluate the loss and the metrics. So of course label (y) data is needed for that. "
   ]
  },
  {
   "cell_type": "code",
   "execution_count": 29,
   "metadata": {},
   "outputs": [
    {
     "name": "stdout",
     "output_type": "stream",
     "text": [
      "313/313 [==============================] - 0s 801us/step - loss: 0.2500 - accuracy: 0.5020\n"
     ]
    },
    {
     "data": {
      "text/plain": [
       "[0.2499961405992508, 0.5019999742507935]"
      ]
     },
     "execution_count": 29,
     "metadata": {},
     "output_type": "execute_result"
    }
   ],
   "source": [
    "model.evaluate(x_new, y_new)"
   ]
  },
  {
   "cell_type": "markdown",
   "metadata": {},
   "source": [
    "Of course, we would normally do that on validation or test data not used during training."
   ]
  },
  {
   "cell_type": "code",
   "execution_count": 41,
   "metadata": {},
   "outputs": [
    {
     "name": "stdout",
     "output_type": "stream",
     "text": [
      "157/157 [==============================] - 0s 827us/step - loss: 0.6931 - accuracy: 0.5044\n"
     ]
    },
    {
     "data": {
      "text/plain": [
       "[0.6931123733520508, 0.5044000148773193]"
      ]
     },
     "execution_count": 41,
     "metadata": {},
     "output_type": "execute_result"
    }
   ],
   "source": [
    "x_val_new = np.random.random(size=(5000,2))\n",
    "y_val_new = np.zeros(5000, dtype=np.float32)\n",
    "y_val_new[x_val_new[:,1] > x_val_new[:,0]] = 1.0\n",
    "model.evaluate(x_val_new, y_val_new)"
   ]
  },
  {
   "cell_type": "markdown",
   "metadata": {},
   "source": [
    "### Visualisation\n",
    "\n",
    "It is essential to visualise the training process to see what is going on. In Keras, an easy method to do this is to use the history object that is returned from fit. It contains the metrics and the loss.\n",
    "\n",
    "We will also split our data into training and validation for this test. We rebuild the model, so that it is initialized again. Otherwise we would just continue with the weights from the previous fit."
   ]
  },
  {
   "cell_type": "code",
   "execution_count": 31,
   "metadata": {},
   "outputs": [
    {
     "name": "stdout",
     "output_type": "stream",
     "text": [
      "Epoch 1/50\n",
      "75/75 [==============================] - 0s 3ms/step - loss: 0.2362 - accuracy: 0.7989 - val_loss: 0.2324 - val_accuracy: 0.9040\n",
      "Epoch 2/50\n",
      "75/75 [==============================] - 0s 1ms/step - loss: 0.2307 - accuracy: 0.9257 - val_loss: 0.2259 - val_accuracy: 0.9488\n",
      "Epoch 3/50\n",
      "75/75 [==============================] - 0s 1ms/step - loss: 0.2236 - accuracy: 0.9583 - val_loss: 0.2177 - val_accuracy: 0.9648\n",
      "Epoch 4/50\n",
      "75/75 [==============================] - 0s 1ms/step - loss: 0.2158 - accuracy: 0.9455 - val_loss: 0.2100 - val_accuracy: 0.9344\n",
      "Epoch 5/50\n",
      "75/75 [==============================] - 0s 1ms/step - loss: 0.2088 - accuracy: 0.9100 - val_loss: 0.2031 - val_accuracy: 0.9040\n",
      "Epoch 6/50\n",
      "75/75 [==============================] - 0s 1ms/step - loss: 0.2026 - accuracy: 0.8885 - val_loss: 0.1972 - val_accuracy: 0.8832\n",
      "Epoch 7/50\n",
      "75/75 [==============================] - 0s 2ms/step - loss: 0.1971 - accuracy: 0.8739 - val_loss: 0.1916 - val_accuracy: 0.8728\n",
      "Epoch 8/50\n",
      "75/75 [==============================] - 0s 2ms/step - loss: 0.1918 - accuracy: 0.8655 - val_loss: 0.1862 - val_accuracy: 0.8676\n",
      "Epoch 9/50\n",
      "75/75 [==============================] - 0s 1ms/step - loss: 0.1867 - accuracy: 0.8627 - val_loss: 0.1809 - val_accuracy: 0.8656\n",
      "Epoch 10/50\n",
      "75/75 [==============================] - 0s 2ms/step - loss: 0.1817 - accuracy: 0.8620 - val_loss: 0.1758 - val_accuracy: 0.8664\n",
      "Epoch 11/50\n",
      "75/75 [==============================] - 0s 1ms/step - loss: 0.1767 - accuracy: 0.8669 - val_loss: 0.1707 - val_accuracy: 0.8680\n",
      "Epoch 12/50\n",
      "75/75 [==============================] - 0s 2ms/step - loss: 0.1718 - accuracy: 0.8683 - val_loss: 0.1658 - val_accuracy: 0.8736\n",
      "Epoch 13/50\n",
      "75/75 [==============================] - 0s 1ms/step - loss: 0.1670 - accuracy: 0.8740 - val_loss: 0.1610 - val_accuracy: 0.8812\n",
      "Epoch 14/50\n",
      "75/75 [==============================] - 0s 2ms/step - loss: 0.1623 - accuracy: 0.8809 - val_loss: 0.1563 - val_accuracy: 0.8884\n",
      "Epoch 15/50\n",
      "75/75 [==============================] - 0s 1ms/step - loss: 0.1576 - accuracy: 0.8840 - val_loss: 0.1517 - val_accuracy: 0.8952\n",
      "Epoch 16/50\n",
      "75/75 [==============================] - 0s 1ms/step - loss: 0.1531 - accuracy: 0.8923 - val_loss: 0.1472 - val_accuracy: 0.9020\n",
      "Epoch 17/50\n",
      "75/75 [==============================] - 0s 1ms/step - loss: 0.1487 - accuracy: 0.8987 - val_loss: 0.1429 - val_accuracy: 0.9088\n",
      "Epoch 18/50\n",
      "75/75 [==============================] - 0s 1ms/step - loss: 0.1444 - accuracy: 0.9064 - val_loss: 0.1387 - val_accuracy: 0.9156\n",
      "Epoch 19/50\n",
      "75/75 [==============================] - 0s 1ms/step - loss: 0.1402 - accuracy: 0.9148 - val_loss: 0.1346 - val_accuracy: 0.9200\n",
      "Epoch 20/50\n",
      "75/75 [==============================] - 0s 2ms/step - loss: 0.1362 - accuracy: 0.9192 - val_loss: 0.1307 - val_accuracy: 0.9296\n",
      "Epoch 21/50\n",
      "75/75 [==============================] - 0s 1ms/step - loss: 0.1322 - accuracy: 0.9245 - val_loss: 0.1269 - val_accuracy: 0.9356\n",
      "Epoch 22/50\n",
      "75/75 [==============================] - 0s 1ms/step - loss: 0.1285 - accuracy: 0.9315 - val_loss: 0.1232 - val_accuracy: 0.9388\n",
      "Epoch 23/50\n",
      "75/75 [==============================] - 0s 1ms/step - loss: 0.1248 - accuracy: 0.9345 - val_loss: 0.1197 - val_accuracy: 0.9436\n",
      "Epoch 24/50\n",
      "75/75 [==============================] - 0s 1ms/step - loss: 0.1213 - accuracy: 0.9420 - val_loss: 0.1163 - val_accuracy: 0.9452\n",
      "Epoch 25/50\n",
      "75/75 [==============================] - 0s 1ms/step - loss: 0.1179 - accuracy: 0.9441 - val_loss: 0.1130 - val_accuracy: 0.9472\n",
      "Epoch 26/50\n",
      "75/75 [==============================] - 0s 1ms/step - loss: 0.1147 - accuracy: 0.9465 - val_loss: 0.1099 - val_accuracy: 0.9552\n",
      "Epoch 27/50\n",
      "75/75 [==============================] - 0s 1ms/step - loss: 0.1116 - accuracy: 0.9519 - val_loss: 0.1069 - val_accuracy: 0.9568\n",
      "Epoch 28/50\n",
      "75/75 [==============================] - 0s 1ms/step - loss: 0.1086 - accuracy: 0.9537 - val_loss: 0.1040 - val_accuracy: 0.9608\n",
      "Epoch 29/50\n",
      "75/75 [==============================] - 0s 1ms/step - loss: 0.1057 - accuracy: 0.9567 - val_loss: 0.1013 - val_accuracy: 0.9640\n",
      "Epoch 30/50\n",
      "75/75 [==============================] - 0s 1ms/step - loss: 0.1030 - accuracy: 0.9611 - val_loss: 0.0986 - val_accuracy: 0.9648\n",
      "Epoch 31/50\n",
      "75/75 [==============================] - 0s 1ms/step - loss: 0.1003 - accuracy: 0.9619 - val_loss: 0.0961 - val_accuracy: 0.9688\n",
      "Epoch 32/50\n",
      "75/75 [==============================] - 0s 1ms/step - loss: 0.0978 - accuracy: 0.9669 - val_loss: 0.0937 - val_accuracy: 0.9688\n",
      "Epoch 33/50\n",
      "75/75 [==============================] - 0s 1ms/step - loss: 0.0954 - accuracy: 0.9688 - val_loss: 0.0913 - val_accuracy: 0.9700\n",
      "Epoch 34/50\n",
      "75/75 [==============================] - 0s 1ms/step - loss: 0.0930 - accuracy: 0.9697 - val_loss: 0.0891 - val_accuracy: 0.9744\n",
      "Epoch 35/50\n",
      "75/75 [==============================] - 0s 1ms/step - loss: 0.0908 - accuracy: 0.9716 - val_loss: 0.0870 - val_accuracy: 0.9764\n",
      "Epoch 36/50\n",
      "75/75 [==============================] - 0s 1ms/step - loss: 0.0887 - accuracy: 0.9741 - val_loss: 0.0849 - val_accuracy: 0.9780\n",
      "Epoch 37/50\n",
      "75/75 [==============================] - 0s 1ms/step - loss: 0.0866 - accuracy: 0.9763 - val_loss: 0.0829 - val_accuracy: 0.9784\n",
      "Epoch 38/50\n",
      "75/75 [==============================] - 0s 1ms/step - loss: 0.0846 - accuracy: 0.9771 - val_loss: 0.0810 - val_accuracy: 0.9796\n",
      "Epoch 39/50\n",
      "75/75 [==============================] - 0s 1ms/step - loss: 0.0827 - accuracy: 0.9784 - val_loss: 0.0792 - val_accuracy: 0.9804\n",
      "Epoch 40/50\n",
      "75/75 [==============================] - 0s 1ms/step - loss: 0.0809 - accuracy: 0.9785 - val_loss: 0.0775 - val_accuracy: 0.9828\n",
      "Epoch 41/50\n",
      "75/75 [==============================] - 0s 1ms/step - loss: 0.0792 - accuracy: 0.9800 - val_loss: 0.0758 - val_accuracy: 0.9840\n",
      "Epoch 42/50\n",
      "75/75 [==============================] - 0s 1ms/step - loss: 0.0775 - accuracy: 0.9828 - val_loss: 0.0742 - val_accuracy: 0.9828\n",
      "Epoch 43/50\n",
      "75/75 [==============================] - 0s 1ms/step - loss: 0.0759 - accuracy: 0.9815 - val_loss: 0.0726 - val_accuracy: 0.9836\n",
      "Epoch 44/50\n",
      "75/75 [==============================] - 0s 1ms/step - loss: 0.0743 - accuracy: 0.9829 - val_loss: 0.0711 - val_accuracy: 0.9840\n",
      "Epoch 45/50\n",
      "75/75 [==============================] - 0s 1ms/step - loss: 0.0728 - accuracy: 0.9845 - val_loss: 0.0697 - val_accuracy: 0.9840\n",
      "Epoch 46/50\n",
      "75/75 [==============================] - 0s 1ms/step - loss: 0.0714 - accuracy: 0.9840 - val_loss: 0.0683 - val_accuracy: 0.9868\n",
      "Epoch 47/50\n",
      "75/75 [==============================] - 0s 1ms/step - loss: 0.0700 - accuracy: 0.9868 - val_loss: 0.0670 - val_accuracy: 0.9868\n",
      "Epoch 48/50\n",
      "75/75 [==============================] - 0s 1ms/step - loss: 0.0687 - accuracy: 0.9863 - val_loss: 0.0657 - val_accuracy: 0.9868\n",
      "Epoch 49/50\n",
      "75/75 [==============================] - 0s 1ms/step - loss: 0.0674 - accuracy: 0.9863 - val_loss: 0.0645 - val_accuracy: 0.9880\n",
      "Epoch 50/50\n",
      "75/75 [==============================] - 0s 1ms/step - loss: 0.0661 - accuracy: 0.9887 - val_loss: 0.0633 - val_accuracy: 0.9880\n"
     ]
    }
   ],
   "source": [
    "model = keras.Sequential()\n",
    "model.add(keras.layers.Dense(2, activation='relu', input_shape=[2]))\n",
    "model.add(keras.layers.Dense(2, activation='relu'))\n",
    "model.add(keras.layers.Dense(1, activation='sigmoid'))\n",
    "model.compile(loss='mse',\n",
    "              optimizer='sgd',\n",
    "              metrics=['accuracy'])\n",
    "history = model.fit(x_new, y_new, validation_split=0.25, epochs=50, batch_size=100)"
   ]
  },
  {
   "cell_type": "code",
   "execution_count": 32,
   "metadata": {},
   "outputs": [
    {
     "name": "stdout",
     "output_type": "stream",
     "text": [
      "dict_keys(['loss', 'accuracy', 'val_loss', 'val_accuracy'])\n"
     ]
    }
   ],
   "source": [
    "print(history.history.keys())"
   ]
  },
  {
   "cell_type": "code",
   "execution_count": 33,
   "metadata": {
    "scrolled": true
   },
   "outputs": [
    {
     "data": {
      "text/plain": [
       "<matplotlib.legend.Legend at 0x1c292027150>"
      ]
     },
     "execution_count": 33,
     "metadata": {},
     "output_type": "execute_result"
    },
    {
     "data": {
      "image/png": "[encoded data removed]",
      "text/plain": [
       "<Figure size 640x480 with 1 Axes>"
      ]
     },
     "metadata": {},
     "output_type": "display_data"
    }
   ],
   "source": [
    "import matplotlib.pyplot as plt\n",
    "plt.plot(history.history['loss'])\n",
    "plt.plot(history.history['val_loss'])\n",
    "plt.title('Loss')\n",
    "plt.xlabel('epoch')\n",
    "plt.ylabel('loss')\n",
    "plt.legend(['Train', 'Val'], loc='upper left')"
   ]
  },
  {
   "cell_type": "code",
   "execution_count": 34,
   "metadata": {},
   "outputs": [
    {
     "data": {
      "text/plain": [
       "<matplotlib.legend.Legend at 0x1c292114090>"
      ]
     },
     "execution_count": 34,
     "metadata": {},
     "output_type": "execute_result"
    },
    {
     "data": {
      "image/png": "[encoded data removed]",
      "text/plain": [
       "<Figure size 640x480 with 1 Axes>"
      ]
     },
     "metadata": {},
     "output_type": "display_data"
    }
   ],
   "source": [
    "plt.plot(history.history['accuracy'])\n",
    "plt.plot(history.history['val_accuracy'])\n",
    "plt.title('Accuracy')\n",
    "plt.xlabel('epoch')\n",
    "plt.ylabel('acc')\n",
    "plt.legend(['Train', 'Val'], loc='upper left')"
   ]
  },
  {
   "cell_type": "markdown",
   "metadata": {},
   "source": [
    "## Exercise: Correct loss function\n",
    "\n",
    "The loss function used above (mse) is not optimal. A better loss function would be the crossentropy. Change the network to use that loss function."
   ]
  },
  {
   "cell_type": "code",
   "execution_count": 49,
   "metadata": {},
   "outputs": [
    {
     "name": "stdout",
     "output_type": "stream",
     "text": [
      "1563/1563 [==============================] - 1s 817us/step - loss: 0.1149 - accuracy: 0.9946\n"
     ]
    },
    {
     "data": {
      "text/plain": [
       "[0.11489570140838623, 0.9945600032806396]"
      ]
     },
     "execution_count": 49,
     "metadata": {},
     "output_type": "execute_result"
    }
   ],
   "source": [
    "x_val_new = np.random.random(size=(50000,2))\n",
    "y_val_new = np.zeros(50000, dtype=np.float32)\n",
    "y_val_new[x_val_new[:,1] > x_val_new[:,0]] = 1.0\n",
    "model.evaluate(x_val_new, y_val_new)"
   ]
  },
  {
   "cell_type": "code",
   "execution_count": 50,
   "metadata": {},
   "outputs": [
    {
     "name": "stdout",
     "output_type": "stream",
     "text": [
      "Epoch 1/50\n",
      "75/75 [==============================] - 0s 3ms/step - loss: 0.6581 - accuracy: 0.6123 - val_loss: 0.6404 - val_accuracy: 0.6548\n",
      "Epoch 2/50\n",
      "75/75 [==============================] - 0s 1ms/step - loss: 0.6172 - accuracy: 0.7081 - val_loss: 0.6023 - val_accuracy: 0.7416\n",
      "Epoch 3/50\n",
      "75/75 [==============================] - 0s 1ms/step - loss: 0.5811 - accuracy: 0.7683 - val_loss: 0.5676 - val_accuracy: 0.7852\n",
      "Epoch 4/50\n",
      "75/75 [==============================] - 0s 1ms/step - loss: 0.5479 - accuracy: 0.8008 - val_loss: 0.5352 - val_accuracy: 0.8128\n",
      "Epoch 5/50\n",
      "75/75 [==============================] - 0s 1ms/step - loss: 0.5169 - accuracy: 0.8257 - val_loss: 0.5047 - val_accuracy: 0.8360\n",
      "Epoch 6/50\n",
      "75/75 [==============================] - 0s 1ms/step - loss: 0.4875 - accuracy: 0.8437 - val_loss: 0.4756 - val_accuracy: 0.8556\n",
      "Epoch 7/50\n",
      "75/75 [==============================] - 0s 1ms/step - loss: 0.4598 - accuracy: 0.8633 - val_loss: 0.4481 - val_accuracy: 0.8672\n",
      "Epoch 8/50\n",
      "75/75 [==============================] - 0s 1ms/step - loss: 0.4332 - accuracy: 0.8781 - val_loss: 0.4218 - val_accuracy: 0.8804\n",
      "Epoch 9/50\n",
      "75/75 [==============================] - 0s 1ms/step - loss: 0.4080 - accuracy: 0.8901 - val_loss: 0.3967 - val_accuracy: 0.8948\n",
      "Epoch 10/50\n",
      "75/75 [==============================] - 0s 1ms/step - loss: 0.3840 - accuracy: 0.9001 - val_loss: 0.3729 - val_accuracy: 0.9088\n",
      "Epoch 11/50\n",
      "75/75 [==============================] - 0s 1ms/step - loss: 0.3614 - accuracy: 0.9108 - val_loss: 0.3505 - val_accuracy: 0.9212\n",
      "Epoch 12/50\n",
      "75/75 [==============================] - 0s 1ms/step - loss: 0.3401 - accuracy: 0.9225 - val_loss: 0.3297 - val_accuracy: 0.9272\n",
      "Epoch 13/50\n",
      "75/75 [==============================] - 0s 1ms/step - loss: 0.3202 - accuracy: 0.9303 - val_loss: 0.3100 - val_accuracy: 0.9356\n",
      "Epoch 14/50\n",
      "75/75 [==============================] - 0s 1ms/step - loss: 0.3015 - accuracy: 0.9377 - val_loss: 0.2918 - val_accuracy: 0.9412\n",
      "Epoch 15/50\n",
      "75/75 [==============================] - 0s 2ms/step - loss: 0.2843 - accuracy: 0.9437 - val_loss: 0.2749 - val_accuracy: 0.9488\n",
      "Epoch 16/50\n",
      "75/75 [==============================] - 0s 1ms/step - loss: 0.2683 - accuracy: 0.9540 - val_loss: 0.2595 - val_accuracy: 0.9544\n",
      "Epoch 17/50\n",
      "75/75 [==============================] - 0s 1ms/step - loss: 0.2536 - accuracy: 0.9603 - val_loss: 0.2454 - val_accuracy: 0.9616\n",
      "Epoch 18/50\n",
      "75/75 [==============================] - 0s 1ms/step - loss: 0.2402 - accuracy: 0.9643 - val_loss: 0.2320 - val_accuracy: 0.9672\n",
      "Epoch 19/50\n",
      "75/75 [==============================] - 0s 1ms/step - loss: 0.2278 - accuracy: 0.9700 - val_loss: 0.2200 - val_accuracy: 0.9700\n",
      "Epoch 20/50\n",
      "75/75 [==============================] - 0s 1ms/step - loss: 0.2165 - accuracy: 0.9748 - val_loss: 0.2090 - val_accuracy: 0.9732\n",
      "Epoch 21/50\n",
      "75/75 [==============================] - 0s 1ms/step - loss: 0.2061 - accuracy: 0.9775 - val_loss: 0.1989 - val_accuracy: 0.9780\n",
      "Epoch 22/50\n",
      "75/75 [==============================] - 0s 1ms/step - loss: 0.1965 - accuracy: 0.9808 - val_loss: 0.1897 - val_accuracy: 0.9828\n",
      "Epoch 23/50\n",
      "75/75 [==============================] - 0s 1ms/step - loss: 0.1877 - accuracy: 0.9828 - val_loss: 0.1814 - val_accuracy: 0.9824\n",
      "Epoch 24/50\n",
      "75/75 [==============================] - 0s 1ms/step - loss: 0.1797 - accuracy: 0.9849 - val_loss: 0.1737 - val_accuracy: 0.9840\n",
      "Epoch 25/50\n",
      "75/75 [==============================] - 0s 1ms/step - loss: 0.1722 - accuracy: 0.9855 - val_loss: 0.1663 - val_accuracy: 0.9904\n",
      "Epoch 26/50\n",
      "75/75 [==============================] - 0s 1ms/step - loss: 0.1654 - accuracy: 0.9883 - val_loss: 0.1596 - val_accuracy: 0.9932\n",
      "Epoch 27/50\n",
      "75/75 [==============================] - 0s 1ms/step - loss: 0.1591 - accuracy: 0.9900 - val_loss: 0.1535 - val_accuracy: 0.9940\n",
      "Epoch 28/50\n",
      "75/75 [==============================] - 0s 1ms/step - loss: 0.1532 - accuracy: 0.9923 - val_loss: 0.1479 - val_accuracy: 0.9940\n",
      "Epoch 29/50\n",
      "75/75 [==============================] - 0s 1ms/step - loss: 0.1477 - accuracy: 0.9931 - val_loss: 0.1428 - val_accuracy: 0.9920\n",
      "Epoch 30/50\n",
      "75/75 [==============================] - 0s 1ms/step - loss: 0.1427 - accuracy: 0.9929 - val_loss: 0.1377 - val_accuracy: 0.9944\n",
      "Epoch 31/50\n",
      "75/75 [==============================] - 0s 1ms/step - loss: 0.1380 - accuracy: 0.9941 - val_loss: 0.1333 - val_accuracy: 0.9936\n",
      "Epoch 32/50\n",
      "75/75 [==============================] - 0s 1ms/step - loss: 0.1336 - accuracy: 0.9935 - val_loss: 0.1289 - val_accuracy: 0.9980\n",
      "Epoch 33/50\n",
      "75/75 [==============================] - 0s 1ms/step - loss: 0.1295 - accuracy: 0.9944 - val_loss: 0.1251 - val_accuracy: 0.9936\n",
      "Epoch 34/50\n",
      "75/75 [==============================] - 0s 1ms/step - loss: 0.1257 - accuracy: 0.9953 - val_loss: 0.1213 - val_accuracy: 0.9944\n",
      "Epoch 35/50\n",
      "75/75 [==============================] - 0s 1ms/step - loss: 0.1221 - accuracy: 0.9955 - val_loss: 0.1179 - val_accuracy: 0.9944\n",
      "Epoch 36/50\n",
      "75/75 [==============================] - 0s 1ms/step - loss: 0.1187 - accuracy: 0.9949 - val_loss: 0.1144 - val_accuracy: 0.9988\n",
      "Epoch 37/50\n",
      "75/75 [==============================] - 0s 1ms/step - loss: 0.1155 - accuracy: 0.9963 - val_loss: 0.1114 - val_accuracy: 0.9960\n",
      "Epoch 38/50\n",
      "75/75 [==============================] - 0s 1ms/step - loss: 0.1125 - accuracy: 0.9959 - val_loss: 0.1084 - val_accuracy: 0.9988\n",
      "Epoch 39/50\n",
      "75/75 [==============================] - 0s 1ms/step - loss: 0.1097 - accuracy: 0.9963 - val_loss: 0.1057 - val_accuracy: 0.9976\n",
      "Epoch 40/50\n",
      "75/75 [==============================] - 0s 1ms/step - loss: 0.1070 - accuracy: 0.9967 - val_loss: 0.1031 - val_accuracy: 0.9976\n",
      "Epoch 41/50\n",
      "75/75 [==============================] - 0s 1ms/step - loss: 0.1044 - accuracy: 0.9960 - val_loss: 0.1006 - val_accuracy: 0.9976\n",
      "Epoch 42/50\n",
      "75/75 [==============================] - 0s 1ms/step - loss: 0.1020 - accuracy: 0.9973 - val_loss: 0.0985 - val_accuracy: 0.9956\n",
      "Epoch 43/50\n",
      "75/75 [==============================] - 0s 1ms/step - loss: 0.0998 - accuracy: 0.9964 - val_loss: 0.0960 - val_accuracy: 0.9992\n",
      "Epoch 44/50\n",
      "75/75 [==============================] - 0s 1ms/step - loss: 0.0977 - accuracy: 0.9968 - val_loss: 0.0940 - val_accuracy: 0.9980\n",
      "Epoch 45/50\n",
      "75/75 [==============================] - 0s 1ms/step - loss: 0.0956 - accuracy: 0.9969 - val_loss: 0.0921 - val_accuracy: 0.9968\n",
      "Epoch 46/50\n",
      "75/75 [==============================] - 0s 1ms/step - loss: 0.0936 - accuracy: 0.9965 - val_loss: 0.0900 - val_accuracy: 1.0000\n",
      "Epoch 47/50\n",
      "75/75 [==============================] - 0s 1ms/step - loss: 0.0917 - accuracy: 0.9971 - val_loss: 0.0882 - val_accuracy: 1.0000\n",
      "Epoch 48/50\n",
      "75/75 [==============================] - 0s 1ms/step - loss: 0.0900 - accuracy: 0.9981 - val_loss: 0.0867 - val_accuracy: 0.9956\n",
      "Epoch 49/50\n",
      "75/75 [==============================] - 0s 1ms/step - loss: 0.0883 - accuracy: 0.9969 - val_loss: 0.0849 - val_accuracy: 0.9976\n",
      "Epoch 50/50\n",
      "75/75 [==============================] - 0s 1ms/step - loss: 0.0867 - accuracy: 0.9969 - val_loss: 0.0832 - val_accuracy: 1.0000\n"
     ]
    }
   ],
   "source": [
    "model = keras.Sequential()\n",
    "model.add(keras.layers.Dense(2, activation='relu', input_shape=[2]))\n",
    "model.add(keras.layers.Dense(4, activation='relu'))\n",
    "model.add(keras.layers.Dense(1, activation='sigmoid'))\n",
    "model.compile(loss='bce',\n",
    "              optimizer='sgd',\n",
    "              metrics=['accuracy'])\n",
    "history = model.fit(x_new, y_new, validation_split=0.25, epochs=50, batch_size=100)"
   ]
  },
  {
   "cell_type": "code",
   "execution_count": 51,
   "metadata": {},
   "outputs": [
    {
     "data": {
      "text/plain": [
       "<matplotlib.legend.Legend at 0x1c298f5b450>"
      ]
     },
     "execution_count": 51,
     "metadata": {},
     "output_type": "execute_result"
    },
    {
     "data": {
      "image/png": "[encoded data removed]",
      "text/plain": [
       "<Figure size 640x480 with 1 Axes>"
      ]
     },
     "metadata": {},
     "output_type": "display_data"
    }
   ],
   "source": [
    "import matplotlib.pyplot as plt\n",
    "plt.plot(history.history['loss'])\n",
    "plt.plot(history.history['val_loss'])\n",
    "plt.title('Loss')\n",
    "plt.xlabel('epoch')\n",
    "plt.ylabel('loss')\n",
    "plt.legend(['Train', 'Val'], loc='upper left')"
   ]
  },
  {
   "cell_type": "code",
   "execution_count": 52,
   "metadata": {},
   "outputs": [
    {
     "data": {
      "text/plain": [
       "<matplotlib.legend.Legend at 0x1c298e65750>"
      ]
     },
     "execution_count": 52,
     "metadata": {},
     "output_type": "execute_result"
    },
    {
     "data": {
      "image/png": "[encoded data removed]",
      "text/plain": [
       "<Figure size 640x480 with 1 Axes>"
      ]
     },
     "metadata": {},
     "output_type": "display_data"
    }
   ],
   "source": [
    "plt.plot(history.history['accuracy'])\n",
    "plt.plot(history.history['val_accuracy'])\n",
    "plt.title('Accuracy')\n",
    "plt.xlabel('epoch')\n",
    "plt.ylabel('acc')\n",
    "plt.legend(['Train', 'Val'], loc='upper left')"
   ]
  },
  {
   "cell_type": "code",
   "execution_count": 53,
   "metadata": {},
   "outputs": [
    {
     "name": "stdout",
     "output_type": "stream",
     "text": [
      "313/313 [==============================] - 0s 811us/step - loss: 0.0851 - accuracy: 0.9997\n"
     ]
    },
    {
     "data": {
      "text/plain": [
       "[0.08514107763767242, 0.9997000098228455]"
      ]
     },
     "execution_count": 53,
     "metadata": {},
     "output_type": "execute_result"
    }
   ],
   "source": [
    "model.evaluate(x_new, y_new)"
   ]
  },
  {
   "cell_type": "markdown",
   "metadata": {},
   "source": [
    "## Exercise: Maximum of 4 colors\n",
    "\n",
    "Implement a network that will receive 4 colors and has to select one of them.\n",
    "\n",
    "This will require a change of the labels (y) that now take values of 0, 1, 2 or 3. However, networks do not use labels in that form directly for multi class classification, but use 1-hot encoded or categorical data instead.\n",
    "\n",
    "In keras there is a function `keras.utils.to_categorical` that can be used for that.\n",
    "\n",
    "The last layer in the network should then no longer be sigmoid, but the softmax function. And we need the multiclass form of the crossentropy function, which in keras is called `categorical_crossentropy`.\n"
   ]
  },
  {
   "cell_type": "code",
   "execution_count": 114,
   "metadata": {},
   "outputs": [
    {
     "name": "stdout",
     "output_type": "stream",
     "text": [
      "[[0. 1. 0. 0.]\n",
      " [1. 0. 0. 0.]\n",
      " [0. 0. 0. 1.]\n",
      " ...\n",
      " [0. 1. 0. 0.]\n",
      " [0. 1. 0. 0.]\n",
      " [0. 1. 0. 0.]]\n"
     ]
    }
   ],
   "source": [
    "x_train= np.random.random(size=(15000,4))\n",
    "y_train_label = np.argmax(x_train, axis=1)\n",
    "\n",
    "y_categorical_data = keras.utils.to_categorical(y_train_label)\n",
    "print(y_categorical_data)"
   ]
  },
  {
   "cell_type": "code",
   "execution_count": 126,
   "metadata": {},
   "outputs": [
    {
     "name": "stdout",
     "output_type": "stream",
     "text": [
      "Epoch 1/120\n",
      "100/100 [==============================] - 1s 3ms/step - loss: 0.6623 - accuracy: 0.2464 - val_loss: 0.6446 - val_accuracy: 0.2504\n",
      "Epoch 2/120\n",
      "100/100 [==============================] - 0s 2ms/step - loss: 0.6297 - accuracy: 0.2487 - val_loss: 0.6146 - val_accuracy: 0.2488\n",
      "Epoch 3/120\n",
      "100/100 [==============================] - 0s 2ms/step - loss: 0.6023 - accuracy: 0.2467 - val_loss: 0.5901 - val_accuracy: 0.2500\n",
      "Epoch 4/120\n",
      "100/100 [==============================] - 0s 2ms/step - loss: 0.5818 - accuracy: 0.2475 - val_loss: 0.5737 - val_accuracy: 0.2496\n",
      "Epoch 5/120\n",
      "100/100 [==============================] - 0s 2ms/step - loss: 0.5695 - accuracy: 0.2469 - val_loss: 0.5653 - val_accuracy: 0.2512\n",
      "Epoch 6/120\n",
      "100/100 [==============================] - 0s 2ms/step - loss: 0.5638 - accuracy: 0.2483 - val_loss: 0.5617 - val_accuracy: 0.2540\n",
      "Epoch 7/120\n",
      "100/100 [==============================] - 0s 2ms/step - loss: 0.5614 - accuracy: 0.2503 - val_loss: 0.5603 - val_accuracy: 0.2542\n",
      "Epoch 8/120\n",
      "100/100 [==============================] - 0s 2ms/step - loss: 0.5604 - accuracy: 0.2529 - val_loss: 0.5595 - val_accuracy: 0.2562\n",
      "Epoch 9/120\n",
      "100/100 [==============================] - 0s 2ms/step - loss: 0.5597 - accuracy: 0.2551 - val_loss: 0.5590 - val_accuracy: 0.2592\n",
      "Epoch 10/120\n",
      "100/100 [==============================] - 0s 2ms/step - loss: 0.5591 - accuracy: 0.2582 - val_loss: 0.5584 - val_accuracy: 0.2630\n",
      "Epoch 11/120\n",
      "100/100 [==============================] - 0s 2ms/step - loss: 0.5585 - accuracy: 0.2682 - val_loss: 0.5578 - val_accuracy: 0.2686\n",
      "Epoch 12/120\n",
      "100/100 [==============================] - 0s 2ms/step - loss: 0.5579 - accuracy: 0.2731 - val_loss: 0.5572 - val_accuracy: 0.2818\n",
      "Epoch 13/120\n",
      "100/100 [==============================] - 0s 2ms/step - loss: 0.5572 - accuracy: 0.2855 - val_loss: 0.5566 - val_accuracy: 0.2918\n",
      "Epoch 14/120\n",
      "100/100 [==============================] - 0s 2ms/step - loss: 0.5566 - accuracy: 0.2951 - val_loss: 0.5559 - val_accuracy: 0.3034\n",
      "Epoch 15/120\n",
      "100/100 [==============================] - 0s 2ms/step - loss: 0.5559 - accuracy: 0.3069 - val_loss: 0.5552 - val_accuracy: 0.3122\n",
      "Epoch 16/120\n",
      "100/100 [==============================] - 0s 2ms/step - loss: 0.5551 - accuracy: 0.3175 - val_loss: 0.5545 - val_accuracy: 0.3224\n",
      "Epoch 17/120\n",
      "100/100 [==============================] - 0s 2ms/step - loss: 0.5543 - accuracy: 0.3237 - val_loss: 0.5536 - val_accuracy: 0.3366\n",
      "Epoch 18/120\n",
      "100/100 [==============================] - 0s 2ms/step - loss: 0.5533 - accuracy: 0.3366 - val_loss: 0.5527 - val_accuracy: 0.3446\n",
      "Epoch 19/120\n",
      "100/100 [==============================] - 0s 2ms/step - loss: 0.5524 - accuracy: 0.3533 - val_loss: 0.5517 - val_accuracy: 0.3498\n",
      "Epoch 20/120\n",
      "100/100 [==============================] - 0s 2ms/step - loss: 0.5513 - accuracy: 0.3597 - val_loss: 0.5506 - val_accuracy: 0.3606\n",
      "Epoch 21/120\n",
      "100/100 [==============================] - 0s 2ms/step - loss: 0.5501 - accuracy: 0.3722 - val_loss: 0.5493 - val_accuracy: 0.3688\n",
      "Epoch 22/120\n",
      "100/100 [==============================] - 0s 2ms/step - loss: 0.5488 - accuracy: 0.3802 - val_loss: 0.5480 - val_accuracy: 0.3772\n",
      "Epoch 23/120\n",
      "100/100 [==============================] - 0s 2ms/step - loss: 0.5473 - accuracy: 0.3863 - val_loss: 0.5465 - val_accuracy: 0.3892\n",
      "Epoch 24/120\n",
      "100/100 [==============================] - 0s 2ms/step - loss: 0.5458 - accuracy: 0.4056 - val_loss: 0.5449 - val_accuracy: 0.3988\n",
      "Epoch 25/120\n",
      "100/100 [==============================] - 0s 2ms/step - loss: 0.5440 - accuracy: 0.4137 - val_loss: 0.5431 - val_accuracy: 0.4094\n",
      "Epoch 26/120\n",
      "100/100 [==============================] - 0s 2ms/step - loss: 0.5421 - accuracy: 0.4201 - val_loss: 0.5412 - val_accuracy: 0.4208\n",
      "Epoch 27/120\n",
      "100/100 [==============================] - 0s 2ms/step - loss: 0.5401 - accuracy: 0.4324 - val_loss: 0.5391 - val_accuracy: 0.4304\n",
      "Epoch 28/120\n",
      "100/100 [==============================] - 0s 2ms/step - loss: 0.5379 - accuracy: 0.4433 - val_loss: 0.5369 - val_accuracy: 0.4418\n",
      "Epoch 29/120\n",
      "100/100 [==============================] - 0s 2ms/step - loss: 0.5355 - accuracy: 0.4548 - val_loss: 0.5345 - val_accuracy: 0.4520\n",
      "Epoch 30/120\n",
      "100/100 [==============================] - 0s 2ms/step - loss: 0.5329 - accuracy: 0.4619 - val_loss: 0.5319 - val_accuracy: 0.4574\n",
      "Epoch 31/120\n",
      "100/100 [==============================] - 0s 2ms/step - loss: 0.5302 - accuracy: 0.4690 - val_loss: 0.5291 - val_accuracy: 0.4648\n",
      "Epoch 32/120\n",
      "100/100 [==============================] - 0s 2ms/step - loss: 0.5273 - accuracy: 0.4754 - val_loss: 0.5262 - val_accuracy: 0.4724\n",
      "Epoch 33/120\n",
      "100/100 [==============================] - 0s 2ms/step - loss: 0.5242 - accuracy: 0.4813 - val_loss: 0.5230 - val_accuracy: 0.4764\n",
      "Epoch 34/120\n",
      "100/100 [==============================] - 0s 2ms/step - loss: 0.5209 - accuracy: 0.4887 - val_loss: 0.5197 - val_accuracy: 0.4778\n",
      "Epoch 35/120\n",
      "100/100 [==============================] - 0s 2ms/step - loss: 0.5174 - accuracy: 0.4932 - val_loss: 0.5162 - val_accuracy: 0.4842\n",
      "Epoch 36/120\n",
      "100/100 [==============================] - 0s 2ms/step - loss: 0.5138 - accuracy: 0.4970 - val_loss: 0.5126 - val_accuracy: 0.4872\n",
      "Epoch 37/120\n",
      "100/100 [==============================] - 0s 2ms/step - loss: 0.5100 - accuracy: 0.5041 - val_loss: 0.5089 - val_accuracy: 0.4900\n",
      "Epoch 38/120\n",
      "100/100 [==============================] - 0s 2ms/step - loss: 0.5062 - accuracy: 0.5067 - val_loss: 0.5051 - val_accuracy: 0.4944\n",
      "Epoch 39/120\n",
      "100/100 [==============================] - 0s 2ms/step - loss: 0.5023 - accuracy: 0.5097 - val_loss: 0.5013 - val_accuracy: 0.4976\n",
      "Epoch 40/120\n",
      "100/100 [==============================] - 0s 2ms/step - loss: 0.4985 - accuracy: 0.5133 - val_loss: 0.4975 - val_accuracy: 0.4990\n",
      "Epoch 41/120\n",
      "100/100 [==============================] - 0s 2ms/step - loss: 0.4946 - accuracy: 0.5153 - val_loss: 0.4937 - val_accuracy: 0.4994\n",
      "Epoch 42/120\n",
      "100/100 [==============================] - 0s 2ms/step - loss: 0.4908 - accuracy: 0.5174 - val_loss: 0.4900 - val_accuracy: 0.5002\n",
      "Epoch 43/120\n",
      "100/100 [==============================] - 0s 2ms/step - loss: 0.4869 - accuracy: 0.5193 - val_loss: 0.4862 - val_accuracy: 0.5106\n",
      "Epoch 44/120\n",
      "100/100 [==============================] - 0s 2ms/step - loss: 0.4832 - accuracy: 0.5233 - val_loss: 0.4826 - val_accuracy: 0.5288\n",
      "Epoch 45/120\n",
      "100/100 [==============================] - 0s 2ms/step - loss: 0.4795 - accuracy: 0.5302 - val_loss: 0.4790 - val_accuracy: 0.5366\n",
      "Epoch 46/120\n",
      "100/100 [==============================] - 0s 2ms/step - loss: 0.4758 - accuracy: 0.5345 - val_loss: 0.4755 - val_accuracy: 0.5356\n",
      "Epoch 47/120\n",
      "100/100 [==============================] - 0s 2ms/step - loss: 0.4723 - accuracy: 0.5372 - val_loss: 0.4721 - val_accuracy: 0.5376\n",
      "Epoch 48/120\n",
      "100/100 [==============================] - 0s 2ms/step - loss: 0.4688 - accuracy: 0.5385 - val_loss: 0.4687 - val_accuracy: 0.5396\n",
      "Epoch 49/120\n",
      "100/100 [==============================] - 0s 2ms/step - loss: 0.4653 - accuracy: 0.5397 - val_loss: 0.4653 - val_accuracy: 0.5426\n",
      "Epoch 50/120\n",
      "100/100 [==============================] - 0s 2ms/step - loss: 0.4620 - accuracy: 0.5417 - val_loss: 0.4621 - val_accuracy: 0.5414\n",
      "Epoch 51/120\n",
      "100/100 [==============================] - 0s 2ms/step - loss: 0.4586 - accuracy: 0.5439 - val_loss: 0.4588 - val_accuracy: 0.5460\n",
      "Epoch 52/120\n",
      "100/100 [==============================] - 0s 2ms/step - loss: 0.4554 - accuracy: 0.5477 - val_loss: 0.4557 - val_accuracy: 0.5486\n",
      "Epoch 53/120\n",
      "100/100 [==============================] - 0s 2ms/step - loss: 0.4522 - accuracy: 0.5501 - val_loss: 0.4526 - val_accuracy: 0.5506\n",
      "Epoch 54/120\n",
      "100/100 [==============================] - 0s 2ms/step - loss: 0.4491 - accuracy: 0.5521 - val_loss: 0.4495 - val_accuracy: 0.5550\n",
      "Epoch 55/120\n",
      "100/100 [==============================] - 0s 2ms/step - loss: 0.4459 - accuracy: 0.5542 - val_loss: 0.4464 - val_accuracy: 0.5574\n",
      "Epoch 56/120\n",
      "100/100 [==============================] - 0s 2ms/step - loss: 0.4428 - accuracy: 0.5567 - val_loss: 0.4433 - val_accuracy: 0.5586\n",
      "Epoch 57/120\n",
      "100/100 [==============================] - 0s 2ms/step - loss: 0.4396 - accuracy: 0.5621 - val_loss: 0.4401 - val_accuracy: 0.5622\n",
      "Epoch 58/120\n",
      "100/100 [==============================] - 0s 2ms/step - loss: 0.4364 - accuracy: 0.5647 - val_loss: 0.4369 - val_accuracy: 0.5638\n",
      "Epoch 59/120\n",
      "100/100 [==============================] - 0s 2ms/step - loss: 0.4331 - accuracy: 0.5681 - val_loss: 0.4336 - val_accuracy: 0.5696\n",
      "Epoch 60/120\n",
      "100/100 [==============================] - 0s 2ms/step - loss: 0.4297 - accuracy: 0.5731 - val_loss: 0.4302 - val_accuracy: 0.5734\n",
      "Epoch 61/120\n",
      "100/100 [==============================] - 0s 2ms/step - loss: 0.4263 - accuracy: 0.5769 - val_loss: 0.4268 - val_accuracy: 0.5760\n",
      "Epoch 62/120\n",
      "100/100 [==============================] - 0s 2ms/step - loss: 0.4229 - accuracy: 0.5807 - val_loss: 0.4233 - val_accuracy: 0.5812\n",
      "Epoch 63/120\n",
      "100/100 [==============================] - 0s 2ms/step - loss: 0.4193 - accuracy: 0.5837 - val_loss: 0.4197 - val_accuracy: 0.5856\n",
      "Epoch 64/120\n",
      "100/100 [==============================] - 0s 2ms/step - loss: 0.4157 - accuracy: 0.5884 - val_loss: 0.4161 - val_accuracy: 0.5872\n",
      "Epoch 65/120\n",
      "100/100 [==============================] - 0s 2ms/step - loss: 0.4119 - accuracy: 0.5926 - val_loss: 0.4123 - val_accuracy: 0.5906\n",
      "Epoch 66/120\n",
      "100/100 [==============================] - 0s 2ms/step - loss: 0.4082 - accuracy: 0.5971 - val_loss: 0.4086 - val_accuracy: 0.5942\n",
      "Epoch 67/120\n",
      "100/100 [==============================] - 0s 2ms/step - loss: 0.4044 - accuracy: 0.6001 - val_loss: 0.4048 - val_accuracy: 0.5974\n",
      "Epoch 68/120\n",
      "100/100 [==============================] - 0s 2ms/step - loss: 0.4006 - accuracy: 0.6045 - val_loss: 0.4009 - val_accuracy: 0.6008\n",
      "Epoch 69/120\n",
      "100/100 [==============================] - 0s 2ms/step - loss: 0.3967 - accuracy: 0.6071 - val_loss: 0.3970 - val_accuracy: 0.6028\n",
      "Epoch 70/120\n",
      "100/100 [==============================] - 0s 2ms/step - loss: 0.3928 - accuracy: 0.6107 - val_loss: 0.3932 - val_accuracy: 0.6054\n",
      "Epoch 71/120\n",
      "100/100 [==============================] - 0s 2ms/step - loss: 0.3889 - accuracy: 0.6151 - val_loss: 0.3892 - val_accuracy: 0.6078\n",
      "Epoch 72/120\n",
      "100/100 [==============================] - 0s 2ms/step - loss: 0.3850 - accuracy: 0.6173 - val_loss: 0.3854 - val_accuracy: 0.6104\n",
      "Epoch 73/120\n",
      "100/100 [==============================] - 0s 2ms/step - loss: 0.3811 - accuracy: 0.6215 - val_loss: 0.3818 - val_accuracy: 0.6144\n",
      "Epoch 74/120\n",
      "100/100 [==============================] - 0s 2ms/step - loss: 0.3773 - accuracy: 0.6248 - val_loss: 0.3779 - val_accuracy: 0.6188\n",
      "Epoch 75/120\n",
      "100/100 [==============================] - 0s 2ms/step - loss: 0.3735 - accuracy: 0.6262 - val_loss: 0.3741 - val_accuracy: 0.6212\n",
      "Epoch 76/120\n",
      "100/100 [==============================] - 0s 2ms/step - loss: 0.3698 - accuracy: 0.6295 - val_loss: 0.3706 - val_accuracy: 0.6236\n",
      "Epoch 77/120\n",
      "100/100 [==============================] - 0s 2ms/step - loss: 0.3663 - accuracy: 0.6315 - val_loss: 0.3672 - val_accuracy: 0.6286\n",
      "Epoch 78/120\n",
      "100/100 [==============================] - 0s 2ms/step - loss: 0.3629 - accuracy: 0.6366 - val_loss: 0.3639 - val_accuracy: 0.6264\n",
      "Epoch 79/120\n",
      "100/100 [==============================] - 0s 2ms/step - loss: 0.3596 - accuracy: 0.6373 - val_loss: 0.3607 - val_accuracy: 0.6300\n",
      "Epoch 80/120\n",
      "100/100 [==============================] - 0s 2ms/step - loss: 0.3566 - accuracy: 0.6391 - val_loss: 0.3578 - val_accuracy: 0.6338\n",
      "Epoch 81/120\n",
      "100/100 [==============================] - 0s 2ms/step - loss: 0.3536 - accuracy: 0.6395 - val_loss: 0.3551 - val_accuracy: 0.6356\n",
      "Epoch 82/120\n",
      "100/100 [==============================] - 0s 2ms/step - loss: 0.3509 - accuracy: 0.6448 - val_loss: 0.3525 - val_accuracy: 0.6376\n",
      "Epoch 83/120\n",
      "100/100 [==============================] - 0s 2ms/step - loss: 0.3483 - accuracy: 0.6443 - val_loss: 0.3501 - val_accuracy: 0.6384\n",
      "Epoch 84/120\n",
      "100/100 [==============================] - 0s 2ms/step - loss: 0.3459 - accuracy: 0.6463 - val_loss: 0.3477 - val_accuracy: 0.6384\n",
      "Epoch 85/120\n",
      "100/100 [==============================] - 0s 2ms/step - loss: 0.3437 - accuracy: 0.6477 - val_loss: 0.3458 - val_accuracy: 0.6428\n",
      "Epoch 86/120\n",
      "100/100 [==============================] - 0s 2ms/step - loss: 0.3415 - accuracy: 0.6489 - val_loss: 0.3437 - val_accuracy: 0.6440\n",
      "Epoch 87/120\n",
      "100/100 [==============================] - 0s 2ms/step - loss: 0.3396 - accuracy: 0.6495 - val_loss: 0.3418 - val_accuracy: 0.6454\n",
      "Epoch 88/120\n",
      "100/100 [==============================] - 0s 2ms/step - loss: 0.3378 - accuracy: 0.6515 - val_loss: 0.3401 - val_accuracy: 0.6468\n",
      "Epoch 89/120\n",
      "100/100 [==============================] - 0s 2ms/step - loss: 0.3360 - accuracy: 0.6543 - val_loss: 0.3385 - val_accuracy: 0.6480\n",
      "Epoch 90/120\n",
      "100/100 [==============================] - 0s 2ms/step - loss: 0.3344 - accuracy: 0.6537 - val_loss: 0.3370 - val_accuracy: 0.6490\n",
      "Epoch 91/120\n",
      "100/100 [==============================] - 0s 2ms/step - loss: 0.3329 - accuracy: 0.6552 - val_loss: 0.3356 - val_accuracy: 0.6512\n",
      "Epoch 92/120\n",
      "100/100 [==============================] - 0s 2ms/step - loss: 0.3315 - accuracy: 0.6560 - val_loss: 0.3343 - val_accuracy: 0.6520\n",
      "Epoch 93/120\n",
      "100/100 [==============================] - 0s 2ms/step - loss: 0.3302 - accuracy: 0.6537 - val_loss: 0.3332 - val_accuracy: 0.6544\n",
      "Epoch 94/120\n",
      "100/100 [==============================] - 0s 2ms/step - loss: 0.3290 - accuracy: 0.6570 - val_loss: 0.3321 - val_accuracy: 0.6534\n",
      "Epoch 95/120\n",
      "100/100 [==============================] - 0s 2ms/step - loss: 0.3279 - accuracy: 0.6572 - val_loss: 0.3309 - val_accuracy: 0.6532\n",
      "Epoch 96/120\n",
      "100/100 [==============================] - 0s 2ms/step - loss: 0.3268 - accuracy: 0.6573 - val_loss: 0.3302 - val_accuracy: 0.6524\n",
      "Epoch 97/120\n",
      "100/100 [==============================] - 0s 2ms/step - loss: 0.3258 - accuracy: 0.6596 - val_loss: 0.3292 - val_accuracy: 0.6526\n",
      "Epoch 98/120\n",
      "100/100 [==============================] - 0s 2ms/step - loss: 0.3249 - accuracy: 0.6595 - val_loss: 0.3284 - val_accuracy: 0.6516\n",
      "Epoch 99/120\n",
      "100/100 [==============================] - 0s 2ms/step - loss: 0.3241 - accuracy: 0.6607 - val_loss: 0.3276 - val_accuracy: 0.6544\n",
      "Epoch 100/120\n",
      "100/100 [==============================] - 0s 2ms/step - loss: 0.3232 - accuracy: 0.6570 - val_loss: 0.3270 - val_accuracy: 0.6538\n",
      "Epoch 101/120\n",
      "100/100 [==============================] - 0s 2ms/step - loss: 0.3225 - accuracy: 0.6618 - val_loss: 0.3261 - val_accuracy: 0.6560\n",
      "Epoch 102/120\n",
      "100/100 [==============================] - 0s 2ms/step - loss: 0.3218 - accuracy: 0.6612 - val_loss: 0.3258 - val_accuracy: 0.6574\n",
      "Epoch 103/120\n",
      "100/100 [==============================] - 0s 2ms/step - loss: 0.3211 - accuracy: 0.6612 - val_loss: 0.3250 - val_accuracy: 0.6586\n",
      "Epoch 104/120\n",
      "100/100 [==============================] - 0s 2ms/step - loss: 0.3204 - accuracy: 0.6617 - val_loss: 0.3245 - val_accuracy: 0.6576\n",
      "Epoch 105/120\n",
      "100/100 [==============================] - 0s 2ms/step - loss: 0.3199 - accuracy: 0.6637 - val_loss: 0.3240 - val_accuracy: 0.6566\n",
      "Epoch 106/120\n",
      "100/100 [==============================] - 0s 2ms/step - loss: 0.3193 - accuracy: 0.6637 - val_loss: 0.3234 - val_accuracy: 0.6562\n",
      "Epoch 107/120\n",
      "100/100 [==============================] - 0s 2ms/step - loss: 0.3189 - accuracy: 0.6623 - val_loss: 0.3230 - val_accuracy: 0.6576\n",
      "Epoch 108/120\n",
      "100/100 [==============================] - 0s 2ms/step - loss: 0.3183 - accuracy: 0.6643 - val_loss: 0.3227 - val_accuracy: 0.6586\n",
      "Epoch 109/120\n",
      "100/100 [==============================] - 0s 2ms/step - loss: 0.3179 - accuracy: 0.6627 - val_loss: 0.3223 - val_accuracy: 0.6548\n",
      "Epoch 110/120\n",
      "100/100 [==============================] - 0s 2ms/step - loss: 0.3175 - accuracy: 0.6628 - val_loss: 0.3220 - val_accuracy: 0.6598\n",
      "Epoch 111/120\n",
      "100/100 [==============================] - 0s 2ms/step - loss: 0.3170 - accuracy: 0.6630 - val_loss: 0.3213 - val_accuracy: 0.6602\n",
      "Epoch 112/120\n",
      "100/100 [==============================] - 0s 2ms/step - loss: 0.3167 - accuracy: 0.6641 - val_loss: 0.3211 - val_accuracy: 0.6562\n",
      "Epoch 113/120\n",
      "100/100 [==============================] - 0s 2ms/step - loss: 0.3162 - accuracy: 0.6591 - val_loss: 0.3206 - val_accuracy: 0.6554\n",
      "Epoch 114/120\n",
      "100/100 [==============================] - 0s 2ms/step - loss: 0.3160 - accuracy: 0.6641 - val_loss: 0.3205 - val_accuracy: 0.6554\n",
      "Epoch 115/120\n",
      "100/100 [==============================] - 0s 2ms/step - loss: 0.3156 - accuracy: 0.6617 - val_loss: 0.3200 - val_accuracy: 0.6608\n",
      "Epoch 116/120\n",
      "100/100 [==============================] - 0s 2ms/step - loss: 0.3153 - accuracy: 0.6643 - val_loss: 0.3200 - val_accuracy: 0.6590\n",
      "Epoch 117/120\n",
      "100/100 [==============================] - 0s 2ms/step - loss: 0.3150 - accuracy: 0.6629 - val_loss: 0.3195 - val_accuracy: 0.6574\n",
      "Epoch 118/120\n",
      "100/100 [==============================] - 0s 2ms/step - loss: 0.3147 - accuracy: 0.6629 - val_loss: 0.3194 - val_accuracy: 0.6594\n",
      "Epoch 119/120\n",
      "100/100 [==============================] - 0s 2ms/step - loss: 0.3144 - accuracy: 0.6640 - val_loss: 0.3191 - val_accuracy: 0.6584\n",
      "Epoch 120/120\n",
      "100/100 [==============================] - 0s 2ms/step - loss: 0.3142 - accuracy: 0.6645 - val_loss: 0.3190 - val_accuracy: 0.6612\n"
     ]
    }
   ],
   "source": [
    "model = keras.Sequential()\n",
    "model.add(keras.layers.Dense(2, activation='relu'))\n",
    "model.add(keras.layers.Dense(8, activation='relu'))\n",
    "model.add(keras.layers.Dense(32, activation='relu'))\n",
    "model.add(keras.layers.Dense(128, activation='relu'))\n",
    "model.add(keras.layers.Dense(4, activation='softmax'))\n",
    "model.compile(loss='bce',\n",
    "              optimizer='sgd',\n",
    "              metrics=['accuracy'])\n",
    "history = model.fit(x_train, y_categorical_data, validation_split=0.25, epochs=120, batch_size=150)"
   ]
  },
  {
   "cell_type": "code",
   "execution_count": 127,
   "metadata": {},
   "outputs": [
    {
     "data": {
      "text/plain": [
       "<matplotlib.legend.Legend at 0x1c2a6f461d0>"
      ]
     },
     "execution_count": 127,
     "metadata": {},
     "output_type": "execute_result"
    },
    {
     "data": {
      "image/png": "[encoded data removed]",
      "text/plain": [
       "<Figure size 640x480 with 1 Axes>"
      ]
     },
     "metadata": {},
     "output_type": "display_data"
    }
   ],
   "source": [
    "import matplotlib.pyplot as plt\n",
    "plt.plot(history.history['loss'])\n",
    "plt.plot(history.history['val_loss'])\n",
    "plt.title('Loss')\n",
    "plt.xlabel('epoch')\n",
    "plt.ylabel('loss')\n",
    "plt.legend(['Train', 'Val'], loc='upper left')"
   ]
  },
  {
   "cell_type": "code",
   "execution_count": null,
   "metadata": {},
   "outputs": [
    {
     "data": {
      "text/plain": [
       "<matplotlib.legend.Legend at 0x1c2a6f461d0>"
      ]
     },
     "metadata": {},
     "output_type": "display_data"
    },
    {
     "data": {
      "image/png": "[encoded data removed]",
      "text/plain": [
       "<Figure size 640x480 with 1 Axes>"
      ]
     },
     "metadata": {},
     "output_type": "display_data"
    }
   ],
   "source": [
    "import matplotlib.pyplot as plt\n",
    "plt.plot(history.history['loss'])\n",
    "plt.plot(history.history['val_loss'])\n",
    "plt.title('Loss')\n",
    "plt.xlabel('epoch')\n",
    "plt.ylabel('loss')\n",
    "plt.legend(['Train', 'Val'], loc='upper left')"
   ]
  },
  {
   "cell_type": "code",
   "execution_count": 128,
   "metadata": {},
   "outputs": [
    {
     "data": {
      "text/plain": [
       "<matplotlib.legend.Legend at 0x1c2a783ad10>"
      ]
     },
     "execution_count": 128,
     "metadata": {},
     "output_type": "execute_result"
    },
    {
     "data": {
      "image/png": "[encoded data removed]",
      "text/plain": [
       "<Figure size 640x480 with 1 Axes>"
      ]
     },
     "metadata": {},
     "output_type": "display_data"
    }
   ],
   "source": [
    "plt.plot(history.history['accuracy'])\n",
    "plt.plot(history.history['val_accuracy'])\n",
    "plt.title('Accuracy')\n",
    "plt.xlabel('epoch')\n",
    "plt.ylabel('acc')\n",
    "plt.legend(['Train', 'Val'], loc='upper left')"
   ]
  },
  {
   "cell_type": "markdown",
   "metadata": {},
   "source": [
    "## Exercise: Implement a ML Network to learn trump from features\n",
    "\n",
    "We would like to train a network to get the trump from some features. (We could use the cards directly, but this is deep learning and we will see more of that in next lesson :-) )\n",
    "\n",
    "As features we can use the number of cards of a color as before and some of the features from last lecture. For keras all input features should be floating point numbers. Also we need numpy arrays and not pandas. To get the array from a panda, the property `values` can be used."
   ]
  },
  {
   "cell_type": "code",
   "execution_count": 37,
   "metadata": {},
   "outputs": [
    {
     "data": {
      "text/html": [
       "<div>\n",
       "<style scoped>\n",
       "    .dataframe tbody tr th:only-of-type {\n",
       "        vertical-align: middle;\n",
       "    }\n",
       "\n",
       "    .dataframe tbody tr th {\n",
       "        vertical-align: top;\n",
       "    }\n",
       "\n",
       "    .dataframe thead th {\n",
       "        text-align: right;\n",
       "    }\n",
       "</style>\n",
       "<table border=\"1\" class=\"dataframe\">\n",
       "  <thead>\n",
       "    <tr style=\"text-align: right;\">\n",
       "      <th></th>\n",
       "      <th>DA</th>\n",
       "      <th>DK</th>\n",
       "      <th>DQ</th>\n",
       "      <th>DJ</th>\n",
       "      <th>D10</th>\n",
       "      <th>D9</th>\n",
       "      <th>D8</th>\n",
       "      <th>D7</th>\n",
       "      <th>D6</th>\n",
       "      <th>HA</th>\n",
       "      <th>...</th>\n",
       "      <th>CQ</th>\n",
       "      <th>CJ</th>\n",
       "      <th>C10</th>\n",
       "      <th>C9</th>\n",
       "      <th>C8</th>\n",
       "      <th>C7</th>\n",
       "      <th>C6</th>\n",
       "      <th>FH</th>\n",
       "      <th>user</th>\n",
       "      <th>trump</th>\n",
       "    </tr>\n",
       "  </thead>\n",
       "  <tbody>\n",
       "    <tr>\n",
       "      <th>0</th>\n",
       "      <td>0</td>\n",
       "      <td>0</td>\n",
       "      <td>0</td>\n",
       "      <td>1</td>\n",
       "      <td>1</td>\n",
       "      <td>0</td>\n",
       "      <td>1</td>\n",
       "      <td>1</td>\n",
       "      <td>0</td>\n",
       "      <td>0</td>\n",
       "      <td>...</td>\n",
       "      <td>1</td>\n",
       "      <td>0</td>\n",
       "      <td>0</td>\n",
       "      <td>0</td>\n",
       "      <td>1</td>\n",
       "      <td>0</td>\n",
       "      <td>0</td>\n",
       "      <td>0</td>\n",
       "      <td>53248</td>\n",
       "      <td>6</td>\n",
       "    </tr>\n",
       "    <tr>\n",
       "      <th>4</th>\n",
       "      <td>0</td>\n",
       "      <td>1</td>\n",
       "      <td>0</td>\n",
       "      <td>0</td>\n",
       "      <td>0</td>\n",
       "      <td>0</td>\n",
       "      <td>0</td>\n",
       "      <td>0</td>\n",
       "      <td>1</td>\n",
       "      <td>1</td>\n",
       "      <td>...</td>\n",
       "      <td>0</td>\n",
       "      <td>1</td>\n",
       "      <td>0</td>\n",
       "      <td>0</td>\n",
       "      <td>0</td>\n",
       "      <td>0</td>\n",
       "      <td>0</td>\n",
       "      <td>1</td>\n",
       "      <td>8392</td>\n",
       "      <td>4</td>\n",
       "    </tr>\n",
       "    <tr>\n",
       "      <th>5</th>\n",
       "      <td>0</td>\n",
       "      <td>0</td>\n",
       "      <td>1</td>\n",
       "      <td>0</td>\n",
       "      <td>0</td>\n",
       "      <td>0</td>\n",
       "      <td>1</td>\n",
       "      <td>0</td>\n",
       "      <td>1</td>\n",
       "      <td>0</td>\n",
       "      <td>...</td>\n",
       "      <td>0</td>\n",
       "      <td>0</td>\n",
       "      <td>0</td>\n",
       "      <td>0</td>\n",
       "      <td>0</td>\n",
       "      <td>0</td>\n",
       "      <td>0</td>\n",
       "      <td>1</td>\n",
       "      <td>53076</td>\n",
       "      <td>5</td>\n",
       "    </tr>\n",
       "    <tr>\n",
       "      <th>13</th>\n",
       "      <td>0</td>\n",
       "      <td>0</td>\n",
       "      <td>1</td>\n",
       "      <td>0</td>\n",
       "      <td>1</td>\n",
       "      <td>0</td>\n",
       "      <td>0</td>\n",
       "      <td>0</td>\n",
       "      <td>0</td>\n",
       "      <td>1</td>\n",
       "      <td>...</td>\n",
       "      <td>0</td>\n",
       "      <td>0</td>\n",
       "      <td>0</td>\n",
       "      <td>0</td>\n",
       "      <td>0</td>\n",
       "      <td>1</td>\n",
       "      <td>0</td>\n",
       "      <td>0</td>\n",
       "      <td>13457</td>\n",
       "      <td>6</td>\n",
       "    </tr>\n",
       "    <tr>\n",
       "      <th>15</th>\n",
       "      <td>0</td>\n",
       "      <td>0</td>\n",
       "      <td>0</td>\n",
       "      <td>0</td>\n",
       "      <td>1</td>\n",
       "      <td>0</td>\n",
       "      <td>0</td>\n",
       "      <td>0</td>\n",
       "      <td>0</td>\n",
       "      <td>0</td>\n",
       "      <td>...</td>\n",
       "      <td>0</td>\n",
       "      <td>1</td>\n",
       "      <td>0</td>\n",
       "      <td>0</td>\n",
       "      <td>0</td>\n",
       "      <td>0</td>\n",
       "      <td>0</td>\n",
       "      <td>1</td>\n",
       "      <td>21516</td>\n",
       "      <td>4</td>\n",
       "    </tr>\n",
       "  </tbody>\n",
       "</table>\n",
       "<p>5 rows × 39 columns</p>\n",
       "</div>"
      ],
      "text/plain": [
       "    DA  DK  DQ  DJ  D10  D9  D8  D7  D6  HA  ...  CQ  CJ  C10  C9  C8  C7  C6  \\\n",
       "0    0   0   0   1    1   0   1   1   0   0  ...   1   0    0   0   1   0   0   \n",
       "4    0   1   0   0    0   0   0   0   1   1  ...   0   1    0   0   0   0   0   \n",
       "5    0   0   1   0    0   0   1   0   1   0  ...   0   0    0   0   0   0   0   \n",
       "13   0   0   1   0    1   0   0   0   0   1  ...   0   0    0   0   0   1   0   \n",
       "15   0   0   0   0    1   0   0   0   0   0  ...   0   1    0   0   0   0   0   \n",
       "\n",
       "    FH   user  trump  \n",
       "0    0  53248      6  \n",
       "4    1   8392      4  \n",
       "5    1  53076      5  \n",
       "13   0  13457      6  \n",
       "15   1  21516      4  \n",
       "\n",
       "[5 rows x 39 columns]"
      ]
     },
     "execution_count": 37,
     "metadata": {},
     "output_type": "execute_result"
    }
   ],
   "source": [
    "import pandas as pd\n",
    "from pathlib import Path\n",
    "path_to_data = Path('2018_10_18_trump_without_header.csv')\n",
    "path_to_player_ids = Path('top_third_players.csv')\n",
    "# Import only a fraction of data for efficient testing\n",
    "data = pd.read_csv(path_to_data, header=None, nrows=50000)\n",
    "# Import the ids of the best third of players in the dataset.\n",
    "top_player_ids = pd.read_csv(path_to_player_ids, header=None)\n",
    "cards = [\n",
    "# Diamonds\n",
    "'DA','DK','DQ','DJ','D10','D9','D8','D7','D6',\n",
    "# Hearts\n",
    "'HA','HK','HQ','HJ','H10','H9','H8','H7','H6',\n",
    "# Spades\n",
    "'SA','SK','SQ','SJ','S10','S9','S8','S7','S6',\n",
    "# Clubs\n",
    "'CA','CK','CQ','CJ','C10','C9','C8','C7','C6'\n",
    "]\n",
    "\n",
    "# Forehand (yes = 1, no = 0)\n",
    "forehand = ['FH']\n",
    "\n",
    "user  = ['user']\n",
    "trump = ['trump']\n",
    "\n",
    "data.columns = cards + forehand + user + trump\n",
    "data.head()\n",
    "\n",
    "filtered_data = data[data['user'].isin(top_player_ids[0])]\n",
    "\n",
    "filtered_data.head()\n"
   ]
  },
  {
   "cell_type": "markdown",
   "metadata": {},
   "source": [
    "Continue as follows:\n",
    "- Calculate features, \n",
    "- add them to the data set\n",
    "- drop the columns not used\n",
    "- convert to numpy array\n",
    "- build a network and train"
   ]
  },
  {
   "cell_type": "code",
   "execution_count": 38,
   "metadata": {},
   "outputs": [
    {
     "name": "stdout",
     "output_type": "stream",
     "text": [
      "[4 0 3 2 2 0 3 1 2 0 0 1 1 0 1 0 0 0 0 0 0]\n",
      "[0. 0. 0. 0. 0. 0. 1.]\n"
     ]
    }
   ],
   "source": [
    "diamonds = filtered_data[['DA','DK','DQ','DJ','D10','D9','D8','D7','D6']]\n",
    "hearts = filtered_data[['HA','HK','HQ','HJ','H10','H9','H8','H7','H6']]\n",
    "spades = filtered_data[['SA','SK','SQ','SJ','S10','S9','S8','S7','S6']]\n",
    "clubs = filtered_data[['CA','CK','CQ','CJ','C10','C9','C8','C7','C6']]\n",
    "forehand = filtered_data[['FH']]\n",
    "chosen_trump = filtered_data[['trump']]\n",
    "\n",
    "number_of_diamonds = diamonds.eq(1).sum(axis=1)\n",
    "number_of_hearts = hearts.eq(1).sum(axis=1)\n",
    "number_of_spades = spades.eq(1).sum(axis=1)\n",
    "number_of_clubs = clubs.eq(1).sum(axis=1)\n",
    "\n",
    "diamonds_high_cards = diamonds[['DA','DK','DQ','DJ','D10']].eq(1).sum(axis=1)\n",
    "hearts_high_cards = hearts[['HA','HK','HQ','HJ','H10']].eq(1).sum(axis=1)\n",
    "spades_high_cards = spades[['SA','SK','SQ','SJ','S10']].eq(1).sum(axis=1)\n",
    "clubs_high_cards = clubs[['CA','CK','CQ','CJ','C10']].eq(1).sum(axis=1)\n",
    "\n",
    "diamonds_low_cards = diamonds[['D9','D8','D7','D6']].eq(1).sum(axis=1)\n",
    "hearts_low_cards = hearts[['H9','H8','H7','H6']].eq(1).sum(axis=1)\n",
    "spades_low_cards = spades[['S9','S8','S7','S6']].eq(1).sum(axis=1)\n",
    "clubs_low_cards = clubs[['C9','C8','C7','C6']].eq(1).sum(axis=1)\n",
    "\n",
    "has_diamonds_buur = diamonds[['DJ']]\n",
    "has_hearts_buur = hearts[['HJ']]\n",
    "has_spades_buur = spades[['SJ']]\n",
    "has_clubs_buur = clubs[['CJ']]\n",
    "\n",
    "has_diamonds_nell = diamonds[['D9']]\n",
    "has_hearts_nell = hearts[['H9']]\n",
    "has_spades_nell = spades[['S9']]\n",
    "has_clubs_nell = clubs[['C9']]\n",
    "\n",
    "x_train_trump = pd.concat([\n",
    "    number_of_diamonds, number_of_hearts, number_of_spades, number_of_clubs,\n",
    "    diamonds_high_cards, hearts_high_cards, spades_high_cards, clubs_high_cards,\n",
    "    diamonds_low_cards, hearts_low_cards, spades_low_cards, clubs_low_cards,\n",
    "    has_diamonds_buur, has_hearts_buur, has_spades_buur, has_clubs_buur,\n",
    "    has_diamonds_nell, has_hearts_nell, has_spades_nell, has_clubs_nell,\n",
    "    forehand\n",
    "], axis=1)\n",
    "\n",
    "# Assign column names if needed\n",
    "x_train_trump.columns = [\n",
    "    'number_of_diamonds', 'number_of_hearts', 'number_of_spades', 'number_of_clubs',\n",
    "    'diamonds_high_cards', 'hearts_high_cards', 'spades_high_cards', 'clubs_high_cards',\n",
    "    'diamonds_low_cards', 'hearts_low_cards', 'spades_low_cards', 'clubs_low_cards',\n",
    "    'has_diamonds_buur', 'has_hearts_buur', 'has_spades_buur', 'has_clubs_buur',\n",
    "    'has_diamonds_nell', 'has_hearts_nell', 'has_spades_nell', 'has_clubs_nell',\n",
    "    'forehand'\n",
    "]\n",
    "\n",
    "\n",
    "numpy_x_train_trump = x_train_trump.values\n",
    "numpy_y_train_trump = chosen_trump.values\n",
    "y_categorical_data_train_trump = keras.utils.to_categorical(numpy_y_train_trump)\n",
    "print(numpy_x_train_trump[0])\n",
    "print(y_categorical_data_train_trump[0])\n",
    "\n"
   ]
  },
  {
   "cell_type": "code",
   "execution_count": 39,
   "metadata": {},
   "outputs": [
    {
     "name": "stdout",
     "output_type": "stream",
     "text": [
      "Epoch 1/100\n",
      "438/438 [==============================] - 2s 3ms/step - loss: 0.4633 - accuracy: 0.3680 - precision: 0.2215 - recall: 0.0672 - f1_score: 0.0992 - val_loss: 0.3763 - val_accuracy: 0.3932 - val_precision: 0.4131 - val_recall: 0.1100 - val_f1_score: 0.1703\n",
      "Epoch 2/100\n",
      "438/438 [==============================] - 1s 2ms/step - loss: 0.3780 - accuracy: 0.3829 - precision: 0.4256 - recall: 0.1712 - f1_score: 0.2392 - val_loss: 0.3724 - val_accuracy: 0.3932 - val_precision: 0.4236 - val_recall: 0.0886 - val_f1_score: 0.1436\n",
      "Epoch 3/100\n",
      "438/438 [==============================] - 1s 2ms/step - loss: 0.3740 - accuracy: 0.3829 - precision: 0.4384 - recall: 0.1728 - f1_score: 0.2407 - val_loss: 0.3680 - val_accuracy: 0.3932 - val_precision: 0.4521 - val_recall: 0.2432 - val_f1_score: 0.3140\n",
      "Epoch 4/100\n",
      "438/438 [==============================] - 1s 2ms/step - loss: 0.3694 - accuracy: 0.3829 - precision: 0.4601 - recall: 0.2001 - f1_score: 0.2710 - val_loss: 0.3622 - val_accuracy: 0.3932 - val_precision: 0.4846 - val_recall: 0.2109 - val_f1_score: 0.2904\n",
      "Epoch 5/100\n",
      "438/438 [==============================] - 1s 2ms/step - loss: 0.3640 - accuracy: 0.3833 - precision: 0.4874 - recall: 0.2055 - f1_score: 0.2824 - val_loss: 0.3552 - val_accuracy: 0.3936 - val_precision: 0.5010 - val_recall: 0.2482 - val_f1_score: 0.3283\n",
      "Epoch 6/100\n",
      "438/438 [==============================] - 1s 2ms/step - loss: 0.3567 - accuracy: 0.3922 - precision: 0.4860 - recall: 0.2225 - f1_score: 0.2975 - val_loss: 0.3468 - val_accuracy: 0.4265 - val_precision: 0.5168 - val_recall: 0.1923 - val_f1_score: 0.2765\n",
      "Epoch 7/100\n",
      "438/438 [==============================] - 1s 2ms/step - loss: 0.3473 - accuracy: 0.4100 - precision: 0.4850 - recall: 0.2261 - f1_score: 0.3028 - val_loss: 0.3357 - val_accuracy: 0.4301 - val_precision: 0.5115 - val_recall: 0.2964 - val_f1_score: 0.3723\n",
      "Epoch 8/100\n",
      "438/438 [==============================] - 1s 2ms/step - loss: 0.3371 - accuracy: 0.4352 - precision: 0.5073 - recall: 0.2554 - f1_score: 0.3333 - val_loss: 0.3256 - val_accuracy: 0.4557 - val_precision: 0.5223 - val_recall: 0.2927 - val_f1_score: 0.3719\n",
      "Epoch 9/100\n",
      "438/438 [==============================] - 1s 2ms/step - loss: 0.3284 - accuracy: 0.4607 - precision: 0.5269 - recall: 0.2867 - f1_score: 0.3669 - val_loss: 0.3183 - val_accuracy: 0.4845 - val_precision: 0.5442 - val_recall: 0.2755 - val_f1_score: 0.3612\n",
      "Epoch 10/100\n",
      "438/438 [==============================] - 1s 2ms/step - loss: 0.3210 - accuracy: 0.4801 - precision: 0.5344 - recall: 0.3166 - f1_score: 0.3938 - val_loss: 0.3101 - val_accuracy: 0.4982 - val_precision: 0.5450 - val_recall: 0.3541 - val_f1_score: 0.4262\n",
      "Epoch 11/100\n",
      "438/438 [==============================] - 1s 2ms/step - loss: 0.3156 - accuracy: 0.4838 - precision: 0.5390 - recall: 0.3445 - f1_score: 0.4176 - val_loss: 0.3053 - val_accuracy: 0.5050 - val_precision: 0.5366 - val_recall: 0.4018 - val_f1_score: 0.4577\n",
      "Epoch 12/100\n",
      "438/438 [==============================] - 1s 2ms/step - loss: 0.3099 - accuracy: 0.4967 - precision: 0.5497 - recall: 0.3632 - f1_score: 0.4332 - val_loss: 0.3009 - val_accuracy: 0.5091 - val_precision: 0.5434 - val_recall: 0.4100 - val_f1_score: 0.4654\n",
      "Epoch 13/100\n",
      "438/438 [==============================] - 1s 2ms/step - loss: 0.3058 - accuracy: 0.4950 - precision: 0.5517 - recall: 0.3767 - f1_score: 0.4445 - val_loss: 0.2970 - val_accuracy: 0.5110 - val_precision: 0.5611 - val_recall: 0.4005 - val_f1_score: 0.4649\n",
      "Epoch 14/100\n",
      "438/438 [==============================] - 1s 2ms/step - loss: 0.3023 - accuracy: 0.5034 - precision: 0.5590 - recall: 0.3895 - f1_score: 0.4566 - val_loss: 0.2929 - val_accuracy: 0.5164 - val_precision: 0.5819 - val_recall: 0.3923 - val_f1_score: 0.4654\n",
      "Epoch 15/100\n",
      "438/438 [==============================] - 1s 2ms/step - loss: 0.2980 - accuracy: 0.5080 - precision: 0.5645 - recall: 0.3939 - f1_score: 0.4612 - val_loss: 0.2900 - val_accuracy: 0.5233 - val_precision: 0.5910 - val_recall: 0.3882 - val_f1_score: 0.4657\n",
      "Epoch 16/100\n",
      "438/438 [==============================] - 1s 2ms/step - loss: 0.2953 - accuracy: 0.5098 - precision: 0.5639 - recall: 0.3928 - f1_score: 0.4603 - val_loss: 0.2861 - val_accuracy: 0.5265 - val_precision: 0.5845 - val_recall: 0.4082 - val_f1_score: 0.4784\n",
      "Epoch 17/100\n",
      "438/438 [==============================] - 1s 2ms/step - loss: 0.2920 - accuracy: 0.5169 - precision: 0.5677 - recall: 0.4033 - f1_score: 0.4687 - val_loss: 0.2828 - val_accuracy: 0.5256 - val_precision: 0.5606 - val_recall: 0.4473 - val_f1_score: 0.4963\n",
      "Epoch 18/100\n",
      "438/438 [==============================] - 1s 2ms/step - loss: 0.2882 - accuracy: 0.5244 - precision: 0.5762 - recall: 0.4101 - f1_score: 0.4765 - val_loss: 0.2803 - val_accuracy: 0.5320 - val_precision: 0.5745 - val_recall: 0.4527 - val_f1_score: 0.5050\n",
      "Epoch 19/100\n",
      "438/438 [==============================] - 1s 2ms/step - loss: 0.2861 - accuracy: 0.5243 - precision: 0.5713 - recall: 0.4141 - f1_score: 0.4776 - val_loss: 0.2770 - val_accuracy: 0.5338 - val_precision: 0.5771 - val_recall: 0.4455 - val_f1_score: 0.5014\n",
      "Epoch 20/100\n",
      "438/438 [==============================] - 1s 2ms/step - loss: 0.2831 - accuracy: 0.5256 - precision: 0.5757 - recall: 0.4164 - f1_score: 0.4807 - val_loss: 0.2751 - val_accuracy: 0.5402 - val_precision: 0.5773 - val_recall: 0.4523 - val_f1_score: 0.5058\n",
      "Epoch 21/100\n",
      "438/438 [==============================] - 1s 2ms/step - loss: 0.2810 - accuracy: 0.5322 - precision: 0.5802 - recall: 0.4281 - f1_score: 0.4902 - val_loss: 0.2723 - val_accuracy: 0.5429 - val_precision: 0.5902 - val_recall: 0.4455 - val_f1_score: 0.5061\n",
      "Epoch 22/100\n",
      "438/438 [==============================] - 1s 2ms/step - loss: 0.2783 - accuracy: 0.5370 - precision: 0.5832 - recall: 0.4299 - f1_score: 0.4923 - val_loss: 0.2698 - val_accuracy: 0.5447 - val_precision: 0.5765 - val_recall: 0.4627 - val_f1_score: 0.5119\n",
      "Epoch 23/100\n",
      "438/438 [==============================] - 1s 2ms/step - loss: 0.2765 - accuracy: 0.5385 - precision: 0.5839 - recall: 0.4369 - f1_score: 0.4975 - val_loss: 0.2702 - val_accuracy: 0.5484 - val_precision: 0.5911 - val_recall: 0.4491 - val_f1_score: 0.5085\n",
      "Epoch 24/100\n",
      "438/438 [==============================] - 1s 2ms/step - loss: 0.2737 - accuracy: 0.5455 - precision: 0.5917 - recall: 0.4451 - f1_score: 0.5058 - val_loss: 0.2666 - val_accuracy: 0.5502 - val_precision: 0.5865 - val_recall: 0.4686 - val_f1_score: 0.5195\n",
      "Epoch 25/100\n",
      "438/438 [==============================] - 1s 2ms/step - loss: 0.2718 - accuracy: 0.5497 - precision: 0.5929 - recall: 0.4479 - f1_score: 0.5080 - val_loss: 0.2644 - val_accuracy: 0.5603 - val_precision: 0.5924 - val_recall: 0.4827 - val_f1_score: 0.5304\n",
      "Epoch 26/100\n",
      "438/438 [==============================] - 1s 2ms/step - loss: 0.2701 - accuracy: 0.5563 - precision: 0.5924 - recall: 0.4567 - f1_score: 0.5136 - val_loss: 0.2652 - val_accuracy: 0.5521 - val_precision: 0.5919 - val_recall: 0.4727 - val_f1_score: 0.5237\n",
      "Epoch 27/100\n",
      "438/438 [==============================] - 1s 2ms/step - loss: 0.2688 - accuracy: 0.5576 - precision: 0.6028 - recall: 0.4626 - f1_score: 0.5212 - val_loss: 0.2597 - val_accuracy: 0.5584 - val_precision: 0.5970 - val_recall: 0.4695 - val_f1_score: 0.5237\n",
      "Epoch 28/100\n",
      "438/438 [==============================] - 1s 2ms/step - loss: 0.2663 - accuracy: 0.5645 - precision: 0.5995 - recall: 0.4687 - f1_score: 0.5241 - val_loss: 0.2624 - val_accuracy: 0.5502 - val_precision: 0.5983 - val_recall: 0.4291 - val_f1_score: 0.4975\n",
      "Epoch 29/100\n",
      "438/438 [==============================] - 1s 2ms/step - loss: 0.2640 - accuracy: 0.5652 - precision: 0.6052 - recall: 0.4780 - f1_score: 0.5319 - val_loss: 0.2575 - val_accuracy: 0.5863 - val_precision: 0.6085 - val_recall: 0.5068 - val_f1_score: 0.5521\n",
      "Epoch 30/100\n",
      "438/438 [==============================] - 1s 2ms/step - loss: 0.2621 - accuracy: 0.5689 - precision: 0.6041 - recall: 0.4795 - f1_score: 0.5327 - val_loss: 0.2543 - val_accuracy: 0.5854 - val_precision: 0.6067 - val_recall: 0.5136 - val_f1_score: 0.5551\n",
      "Epoch 31/100\n",
      "438/438 [==============================] - 1s 2ms/step - loss: 0.2592 - accuracy: 0.5748 - precision: 0.6107 - recall: 0.4938 - f1_score: 0.5442 - val_loss: 0.2523 - val_accuracy: 0.5872 - val_precision: 0.6101 - val_recall: 0.5105 - val_f1_score: 0.5547\n",
      "Epoch 32/100\n",
      "438/438 [==============================] - 1s 2ms/step - loss: 0.2592 - accuracy: 0.5779 - precision: 0.6102 - recall: 0.4950 - f1_score: 0.5448 - val_loss: 0.2514 - val_accuracy: 0.5826 - val_precision: 0.6090 - val_recall: 0.4864 - val_f1_score: 0.5391\n",
      "Epoch 33/100\n",
      "438/438 [==============================] - 1s 2ms/step - loss: 0.2563 - accuracy: 0.5817 - precision: 0.6136 - recall: 0.5041 - f1_score: 0.5518 - val_loss: 0.2505 - val_accuracy: 0.5826 - val_precision: 0.6039 - val_recall: 0.5014 - val_f1_score: 0.5468\n",
      "Epoch 34/100\n",
      "438/438 [==============================] - 1s 2ms/step - loss: 0.2558 - accuracy: 0.5803 - precision: 0.6108 - recall: 0.5074 - f1_score: 0.5525 - val_loss: 0.2521 - val_accuracy: 0.5749 - val_precision: 0.6044 - val_recall: 0.4655 - val_f1_score: 0.5235\n",
      "Epoch 35/100\n",
      "438/438 [==============================] - 1s 2ms/step - loss: 0.2533 - accuracy: 0.5867 - precision: 0.6182 - recall: 0.5146 - f1_score: 0.5600 - val_loss: 0.2481 - val_accuracy: 0.5968 - val_precision: 0.6187 - val_recall: 0.5341 - val_f1_score: 0.5723\n",
      "Epoch 36/100\n",
      "438/438 [==============================] - 1s 2ms/step - loss: 0.2522 - accuracy: 0.5902 - precision: 0.6131 - recall: 0.5156 - f1_score: 0.5586 - val_loss: 0.2471 - val_accuracy: 0.5881 - val_precision: 0.6102 - val_recall: 0.5277 - val_f1_score: 0.5650\n",
      "Epoch 37/100\n",
      "438/438 [==============================] - 1s 2ms/step - loss: 0.2504 - accuracy: 0.5903 - precision: 0.6232 - recall: 0.5271 - f1_score: 0.5697 - val_loss: 0.2471 - val_accuracy: 0.5963 - val_precision: 0.6147 - val_recall: 0.5495 - val_f1_score: 0.5795\n",
      "Epoch 38/100\n",
      "438/438 [==============================] - 1s 2ms/step - loss: 0.2507 - accuracy: 0.5915 - precision: 0.6176 - recall: 0.5241 - f1_score: 0.5655 - val_loss: 0.2450 - val_accuracy: 0.5927 - val_precision: 0.6099 - val_recall: 0.5236 - val_f1_score: 0.5624\n",
      "Epoch 39/100\n",
      "438/438 [==============================] - 1s 2ms/step - loss: 0.2490 - accuracy: 0.5925 - precision: 0.6191 - recall: 0.5294 - f1_score: 0.5694 - val_loss: 0.2456 - val_accuracy: 0.5900 - val_precision: 0.6103 - val_recall: 0.5268 - val_f1_score: 0.5646\n",
      "Epoch 40/100\n",
      "438/438 [==============================] - 1s 2ms/step - loss: 0.2479 - accuracy: 0.5958 - precision: 0.6217 - recall: 0.5344 - f1_score: 0.5734 - val_loss: 0.2435 - val_accuracy: 0.5977 - val_precision: 0.6171 - val_recall: 0.5500 - val_f1_score: 0.5807\n",
      "Epoch 41/100\n",
      "438/438 [==============================] - 1s 2ms/step - loss: 0.2475 - accuracy: 0.5911 - precision: 0.6187 - recall: 0.5340 - f1_score: 0.5718 - val_loss: 0.2437 - val_accuracy: 0.5932 - val_precision: 0.6210 - val_recall: 0.5277 - val_f1_score: 0.5695\n",
      "Epoch 42/100\n",
      "438/438 [==============================] - 1s 2ms/step - loss: 0.2466 - accuracy: 0.5918 - precision: 0.6192 - recall: 0.5353 - f1_score: 0.5728 - val_loss: 0.2448 - val_accuracy: 0.5881 - val_precision: 0.6232 - val_recall: 0.5118 - val_f1_score: 0.5604\n",
      "Epoch 43/100\n",
      "438/438 [==============================] - 1s 2ms/step - loss: 0.2458 - accuracy: 0.5976 - precision: 0.6192 - recall: 0.5366 - f1_score: 0.5736 - val_loss: 0.2415 - val_accuracy: 0.6009 - val_precision: 0.6182 - val_recall: 0.5673 - val_f1_score: 0.5910\n",
      "Epoch 44/100\n",
      "438/438 [==============================] - 1s 2ms/step - loss: 0.2449 - accuracy: 0.5964 - precision: 0.6232 - recall: 0.5396 - f1_score: 0.5771 - val_loss: 0.2409 - val_accuracy: 0.5995 - val_precision: 0.6166 - val_recall: 0.5618 - val_f1_score: 0.5871\n",
      "Epoch 45/100\n",
      "438/438 [==============================] - 1s 2ms/step - loss: 0.2451 - accuracy: 0.5984 - precision: 0.6188 - recall: 0.5396 - f1_score: 0.5753 - val_loss: 0.2417 - val_accuracy: 0.6014 - val_precision: 0.6200 - val_recall: 0.5468 - val_f1_score: 0.5802\n",
      "Epoch 46/100\n",
      "438/438 [==============================] - 1s 2ms/step - loss: 0.2432 - accuracy: 0.6012 - precision: 0.6239 - recall: 0.5465 - f1_score: 0.5816 - val_loss: 0.2401 - val_accuracy: 0.6032 - val_precision: 0.6190 - val_recall: 0.5718 - val_f1_score: 0.5939\n",
      "Epoch 47/100\n",
      "438/438 [==============================] - 1s 2ms/step - loss: 0.2431 - accuracy: 0.5997 - precision: 0.6211 - recall: 0.5451 - f1_score: 0.5794 - val_loss: 0.2380 - val_accuracy: 0.6027 - val_precision: 0.6157 - val_recall: 0.5605 - val_f1_score: 0.5860\n",
      "Epoch 48/100\n",
      "438/438 [==============================] - 1s 2ms/step - loss: 0.2426 - accuracy: 0.6032 - precision: 0.6257 - recall: 0.5496 - f1_score: 0.5841 - val_loss: 0.2397 - val_accuracy: 0.5881 - val_precision: 0.6246 - val_recall: 0.5286 - val_f1_score: 0.5716\n",
      "Epoch 49/100\n",
      "438/438 [==============================] - 1s 2ms/step - loss: 0.2427 - accuracy: 0.6003 - precision: 0.6233 - recall: 0.5462 - f1_score: 0.5810 - val_loss: 0.2380 - val_accuracy: 0.6018 - val_precision: 0.6217 - val_recall: 0.5650 - val_f1_score: 0.5913\n",
      "Epoch 50/100\n",
      "438/438 [==============================] - 1s 2ms/step - loss: 0.2414 - accuracy: 0.5992 - precision: 0.6241 - recall: 0.5498 - f1_score: 0.5833 - val_loss: 0.2397 - val_accuracy: 0.6009 - val_precision: 0.6217 - val_recall: 0.5605 - val_f1_score: 0.5887\n",
      "Epoch 51/100\n",
      "438/438 [==============================] - 1s 2ms/step - loss: 0.2408 - accuracy: 0.6031 - precision: 0.6256 - recall: 0.5513 - f1_score: 0.5850 - val_loss: 0.2388 - val_accuracy: 0.6091 - val_precision: 0.6187 - val_recall: 0.5741 - val_f1_score: 0.5950\n",
      "Epoch 52/100\n",
      "438/438 [==============================] - 1s 2ms/step - loss: 0.2406 - accuracy: 0.6034 - precision: 0.6213 - recall: 0.5493 - f1_score: 0.5820 - val_loss: 0.2376 - val_accuracy: 0.6032 - val_precision: 0.6183 - val_recall: 0.5636 - val_f1_score: 0.5891\n",
      "Epoch 53/100\n",
      "438/438 [==============================] - 1s 2ms/step - loss: 0.2400 - accuracy: 0.6042 - precision: 0.6224 - recall: 0.5541 - f1_score: 0.5852 - val_loss: 0.2376 - val_accuracy: 0.5991 - val_precision: 0.6174 - val_recall: 0.5400 - val_f1_score: 0.5751\n",
      "Epoch 54/100\n",
      "438/438 [==============================] - 1s 2ms/step - loss: 0.2399 - accuracy: 0.6016 - precision: 0.6212 - recall: 0.5501 - f1_score: 0.5824 - val_loss: 0.2398 - val_accuracy: 0.6091 - val_precision: 0.6170 - val_recall: 0.5855 - val_f1_score: 0.6003\n",
      "Epoch 55/100\n",
      "438/438 [==============================] - 1s 2ms/step - loss: 0.2392 - accuracy: 0.6023 - precision: 0.6251 - recall: 0.5560 - f1_score: 0.5874 - val_loss: 0.2353 - val_accuracy: 0.6009 - val_precision: 0.6124 - val_recall: 0.5591 - val_f1_score: 0.5838\n",
      "Epoch 56/100\n",
      "438/438 [==============================] - 1s 2ms/step - loss: 0.2394 - accuracy: 0.6003 - precision: 0.6245 - recall: 0.5521 - f1_score: 0.5849 - val_loss: 0.2354 - val_accuracy: 0.6014 - val_precision: 0.6162 - val_recall: 0.5782 - val_f1_score: 0.5962\n",
      "Epoch 57/100\n",
      "438/438 [==============================] - 1s 2ms/step - loss: 0.2387 - accuracy: 0.5996 - precision: 0.6221 - recall: 0.5564 - f1_score: 0.5864 - val_loss: 0.2349 - val_accuracy: 0.6023 - val_precision: 0.6202 - val_recall: 0.5605 - val_f1_score: 0.5881\n",
      "Epoch 58/100\n",
      "438/438 [==============================] - 1s 2ms/step - loss: 0.2386 - accuracy: 0.6064 - precision: 0.6263 - recall: 0.5587 - f1_score: 0.5896 - val_loss: 0.2375 - val_accuracy: 0.6078 - val_precision: 0.6177 - val_recall: 0.5882 - val_f1_score: 0.6022\n",
      "Epoch 59/100\n",
      "438/438 [==============================] - 1s 2ms/step - loss: 0.2383 - accuracy: 0.6068 - precision: 0.6239 - recall: 0.5586 - f1_score: 0.5885 - val_loss: 0.2369 - val_accuracy: 0.6009 - val_precision: 0.6187 - val_recall: 0.5564 - val_f1_score: 0.5852\n",
      "Epoch 60/100\n",
      "438/438 [==============================] - 1s 2ms/step - loss: 0.2379 - accuracy: 0.6099 - precision: 0.6288 - recall: 0.5620 - f1_score: 0.5925 - val_loss: 0.2349 - val_accuracy: 0.5968 - val_precision: 0.6129 - val_recall: 0.5545 - val_f1_score: 0.5813\n",
      "Epoch 61/100\n",
      "438/438 [==============================] - 1s 2ms/step - loss: 0.2380 - accuracy: 0.5997 - precision: 0.6221 - recall: 0.5549 - f1_score: 0.5857 - val_loss: 0.2365 - val_accuracy: 0.5922 - val_precision: 0.6030 - val_recall: 0.5518 - val_f1_score: 0.5757\n",
      "Epoch 62/100\n",
      "438/438 [==============================] - 1s 2ms/step - loss: 0.2371 - accuracy: 0.6056 - precision: 0.6282 - recall: 0.5616 - f1_score: 0.5921 - val_loss: 0.2406 - val_accuracy: 0.5968 - val_precision: 0.6104 - val_recall: 0.5759 - val_f1_score: 0.5922\n",
      "Epoch 63/100\n",
      "438/438 [==============================] - 1s 2ms/step - loss: 0.2370 - accuracy: 0.6043 - precision: 0.6252 - recall: 0.5593 - f1_score: 0.5894 - val_loss: 0.2357 - val_accuracy: 0.6046 - val_precision: 0.6226 - val_recall: 0.5645 - val_f1_score: 0.5913\n",
      "Epoch 64/100\n",
      "438/438 [==============================] - 1s 2ms/step - loss: 0.2365 - accuracy: 0.6030 - precision: 0.6218 - recall: 0.5583 - f1_score: 0.5875 - val_loss: 0.2354 - val_accuracy: 0.5918 - val_precision: 0.6088 - val_recall: 0.5618 - val_f1_score: 0.5836\n",
      "Epoch 65/100\n",
      "438/438 [==============================] - 1s 2ms/step - loss: 0.2362 - accuracy: 0.6100 - precision: 0.6276 - recall: 0.5672 - f1_score: 0.5949 - val_loss: 0.2351 - val_accuracy: 0.6005 - val_precision: 0.6175 - val_recall: 0.5627 - val_f1_score: 0.5882\n",
      "Epoch 66/100\n",
      "438/438 [==============================] - 1s 2ms/step - loss: 0.2353 - accuracy: 0.6123 - precision: 0.6287 - recall: 0.5692 - f1_score: 0.5967 - val_loss: 0.2337 - val_accuracy: 0.5995 - val_precision: 0.6167 - val_recall: 0.5555 - val_f1_score: 0.5837\n",
      "Epoch 67/100\n",
      "438/438 [==============================] - 1s 2ms/step - loss: 0.2355 - accuracy: 0.6088 - precision: 0.6263 - recall: 0.5652 - f1_score: 0.5932 - val_loss: 0.2345 - val_accuracy: 0.6000 - val_precision: 0.6152 - val_recall: 0.5655 - val_f1_score: 0.5886\n",
      "Epoch 68/100\n",
      "438/438 [==============================] - 1s 2ms/step - loss: 0.2357 - accuracy: 0.6085 - precision: 0.6269 - recall: 0.5679 - f1_score: 0.5949 - val_loss: 0.2335 - val_accuracy: 0.5977 - val_precision: 0.6139 - val_recall: 0.5527 - val_f1_score: 0.5806\n",
      "Epoch 69/100\n",
      "438/438 [==============================] - 1s 2ms/step - loss: 0.2350 - accuracy: 0.6107 - precision: 0.6274 - recall: 0.5676 - f1_score: 0.5951 - val_loss: 0.2372 - val_accuracy: 0.6046 - val_precision: 0.6163 - val_recall: 0.5682 - val_f1_score: 0.5905\n",
      "Epoch 70/100\n",
      "438/438 [==============================] - 1s 2ms/step - loss: 0.2347 - accuracy: 0.6118 - precision: 0.6259 - recall: 0.5671 - f1_score: 0.5942 - val_loss: 0.2336 - val_accuracy: 0.5963 - val_precision: 0.6150 - val_recall: 0.5468 - val_f1_score: 0.5780\n",
      "Epoch 71/100\n",
      "438/438 [==============================] - 1s 2ms/step - loss: 0.2352 - accuracy: 0.6091 - precision: 0.6258 - recall: 0.5668 - f1_score: 0.5941 - val_loss: 0.2328 - val_accuracy: 0.6018 - val_precision: 0.6185 - val_recall: 0.5732 - val_f1_score: 0.5942\n",
      "Epoch 72/100\n",
      "438/438 [==============================] - 1s 2ms/step - loss: 0.2345 - accuracy: 0.6067 - precision: 0.6260 - recall: 0.5677 - f1_score: 0.5945 - val_loss: 0.2367 - val_accuracy: 0.5886 - val_precision: 0.6212 - val_recall: 0.5332 - val_f1_score: 0.5727\n",
      "Epoch 73/100\n",
      "438/438 [==============================] - 1s 2ms/step - loss: 0.2342 - accuracy: 0.6084 - precision: 0.6264 - recall: 0.5677 - f1_score: 0.5948 - val_loss: 0.2326 - val_accuracy: 0.6046 - val_precision: 0.6194 - val_recall: 0.5695 - val_f1_score: 0.5926\n",
      "Epoch 74/100\n",
      "438/438 [==============================] - 1s 2ms/step - loss: 0.2340 - accuracy: 0.6123 - precision: 0.6323 - recall: 0.5695 - f1_score: 0.5983 - val_loss: 0.2355 - val_accuracy: 0.5904 - val_precision: 0.6207 - val_recall: 0.5200 - val_f1_score: 0.5647\n",
      "Epoch 75/100\n",
      "438/438 [==============================] - 1s 2ms/step - loss: 0.2342 - accuracy: 0.6131 - precision: 0.6279 - recall: 0.5681 - f1_score: 0.5956 - val_loss: 0.2327 - val_accuracy: 0.6041 - val_precision: 0.6218 - val_recall: 0.5723 - val_f1_score: 0.5954\n",
      "Epoch 76/100\n",
      "438/438 [==============================] - 1s 2ms/step - loss: 0.2336 - accuracy: 0.6115 - precision: 0.6288 - recall: 0.5719 - f1_score: 0.5981 - val_loss: 0.2330 - val_accuracy: 0.6018 - val_precision: 0.6147 - val_recall: 0.5718 - val_f1_score: 0.5920\n",
      "Epoch 77/100\n",
      "438/438 [==============================] - 1s 2ms/step - loss: 0.2331 - accuracy: 0.6124 - precision: 0.6263 - recall: 0.5711 - f1_score: 0.5966 - val_loss: 0.2384 - val_accuracy: 0.5895 - val_precision: 0.6154 - val_recall: 0.5155 - val_f1_score: 0.5598\n",
      "Epoch 78/100\n",
      "438/438 [==============================] - 1s 2ms/step - loss: 0.2331 - accuracy: 0.6120 - precision: 0.6287 - recall: 0.5710 - f1_score: 0.5977 - val_loss: 0.2322 - val_accuracy: 0.6046 - val_precision: 0.6179 - val_recall: 0.5659 - val_f1_score: 0.5900\n",
      "Epoch 79/100\n",
      "438/438 [==============================] - 1s 2ms/step - loss: 0.2335 - accuracy: 0.6126 - precision: 0.6310 - recall: 0.5756 - f1_score: 0.6012 - val_loss: 0.2331 - val_accuracy: 0.5968 - val_precision: 0.6140 - val_recall: 0.5568 - val_f1_score: 0.5834\n",
      "Epoch 80/100\n",
      "438/438 [==============================] - 1s 2ms/step - loss: 0.2335 - accuracy: 0.6082 - precision: 0.6230 - recall: 0.5690 - f1_score: 0.5940 - val_loss: 0.2321 - val_accuracy: 0.6087 - val_precision: 0.6205 - val_recall: 0.5845 - val_f1_score: 0.6015\n",
      "Epoch 81/100\n",
      "438/438 [==============================] - 1s 2ms/step - loss: 0.2324 - accuracy: 0.6153 - precision: 0.6334 - recall: 0.5722 - f1_score: 0.6004 - val_loss: 0.2327 - val_accuracy: 0.6059 - val_precision: 0.6179 - val_recall: 0.5795 - val_f1_score: 0.5976\n",
      "Epoch 82/100\n",
      "438/438 [==============================] - 1s 2ms/step - loss: 0.2323 - accuracy: 0.6134 - precision: 0.6304 - recall: 0.5763 - f1_score: 0.6014 - val_loss: 0.2320 - val_accuracy: 0.6046 - val_precision: 0.6125 - val_recall: 0.5741 - val_f1_score: 0.5921\n",
      "Epoch 83/100\n",
      "438/438 [==============================] - 1s 2ms/step - loss: 0.2332 - accuracy: 0.6127 - precision: 0.6312 - recall: 0.5741 - f1_score: 0.6004 - val_loss: 0.2356 - val_accuracy: 0.5941 - val_precision: 0.6059 - val_recall: 0.5509 - val_f1_score: 0.5764\n",
      "Epoch 84/100\n",
      "438/438 [==============================] - 1s 2ms/step - loss: 0.2316 - accuracy: 0.6158 - precision: 0.6310 - recall: 0.5761 - f1_score: 0.6015 - val_loss: 0.2337 - val_accuracy: 0.5973 - val_precision: 0.6167 - val_recall: 0.5741 - val_f1_score: 0.5940\n",
      "Epoch 85/100\n",
      "438/438 [==============================] - 1s 2ms/step - loss: 0.2312 - accuracy: 0.6151 - precision: 0.6313 - recall: 0.5801 - f1_score: 0.6039 - val_loss: 0.2316 - val_accuracy: 0.6073 - val_precision: 0.6211 - val_recall: 0.5723 - val_f1_score: 0.5950\n",
      "Epoch 86/100\n",
      "438/438 [==============================] - 1s 2ms/step - loss: 0.2316 - accuracy: 0.6141 - precision: 0.6297 - recall: 0.5780 - f1_score: 0.6020 - val_loss: 0.2311 - val_accuracy: 0.6005 - val_precision: 0.6146 - val_recall: 0.5777 - val_f1_score: 0.5950\n",
      "Epoch 87/100\n",
      "438/438 [==============================] - 1s 2ms/step - loss: 0.2318 - accuracy: 0.6141 - precision: 0.6306 - recall: 0.5778 - f1_score: 0.6023 - val_loss: 0.2313 - val_accuracy: 0.6046 - val_precision: 0.6171 - val_recall: 0.5859 - val_f1_score: 0.6007\n",
      "Epoch 88/100\n",
      "438/438 [==============================] - 1s 2ms/step - loss: 0.2309 - accuracy: 0.6190 - precision: 0.6317 - recall: 0.5801 - f1_score: 0.6041 - val_loss: 0.2339 - val_accuracy: 0.6073 - val_precision: 0.6190 - val_recall: 0.5841 - val_f1_score: 0.6005\n",
      "Epoch 89/100\n",
      "438/438 [==============================] - 1s 2ms/step - loss: 0.2311 - accuracy: 0.6157 - precision: 0.6333 - recall: 0.5785 - f1_score: 0.6039 - val_loss: 0.2318 - val_accuracy: 0.6032 - val_precision: 0.6133 - val_recall: 0.5859 - val_f1_score: 0.5990\n",
      "Epoch 90/100\n",
      "438/438 [==============================] - 1s 2ms/step - loss: 0.2308 - accuracy: 0.6161 - precision: 0.6310 - recall: 0.5803 - f1_score: 0.6039 - val_loss: 0.2325 - val_accuracy: 0.6005 - val_precision: 0.6121 - val_recall: 0.5786 - val_f1_score: 0.5945\n",
      "Epoch 91/100\n",
      "438/438 [==============================] - 1s 2ms/step - loss: 0.2312 - accuracy: 0.6166 - precision: 0.6331 - recall: 0.5807 - f1_score: 0.6050 - val_loss: 0.2321 - val_accuracy: 0.6027 - val_precision: 0.6166 - val_recall: 0.5700 - val_f1_score: 0.5917\n",
      "Epoch 92/100\n",
      "438/438 [==============================] - 1s 2ms/step - loss: 0.2308 - accuracy: 0.6176 - precision: 0.6311 - recall: 0.5838 - f1_score: 0.6058 - val_loss: 0.2319 - val_accuracy: 0.6027 - val_precision: 0.6215 - val_recall: 0.5668 - val_f1_score: 0.5922\n",
      "Epoch 93/100\n",
      "438/438 [==============================] - 1s 2ms/step - loss: 0.2306 - accuracy: 0.6168 - precision: 0.6350 - recall: 0.5813 - f1_score: 0.6062 - val_loss: 0.2332 - val_accuracy: 0.5991 - val_precision: 0.6111 - val_recall: 0.5400 - val_f1_score: 0.5722\n",
      "Epoch 94/100\n",
      "438/438 [==============================] - 1s 2ms/step - loss: 0.2311 - accuracy: 0.6138 - precision: 0.6308 - recall: 0.5787 - f1_score: 0.6029 - val_loss: 0.2324 - val_accuracy: 0.6055 - val_precision: 0.6097 - val_recall: 0.5905 - val_f1_score: 0.5996\n",
      "Epoch 95/100\n",
      "438/438 [==============================] - 1s 2ms/step - loss: 0.2305 - accuracy: 0.6176 - precision: 0.6335 - recall: 0.5813 - f1_score: 0.6055 - val_loss: 0.2301 - val_accuracy: 0.6014 - val_precision: 0.6156 - val_recall: 0.5809 - val_f1_score: 0.5972\n",
      "Epoch 96/100\n",
      "438/438 [==============================] - 1s 2ms/step - loss: 0.2294 - accuracy: 0.6216 - precision: 0.6355 - recall: 0.5866 - f1_score: 0.6093 - val_loss: 0.2336 - val_accuracy: 0.5963 - val_precision: 0.6126 - val_recall: 0.5509 - val_f1_score: 0.5795\n",
      "Epoch 97/100\n",
      "438/438 [==============================] - 1s 2ms/step - loss: 0.2299 - accuracy: 0.6203 - precision: 0.6342 - recall: 0.5835 - f1_score: 0.6071 - val_loss: 0.2321 - val_accuracy: 0.6027 - val_precision: 0.6136 - val_recall: 0.5814 - val_f1_score: 0.5967\n",
      "Epoch 98/100\n",
      "438/438 [==============================] - 1s 2ms/step - loss: 0.2309 - accuracy: 0.6133 - precision: 0.6311 - recall: 0.5796 - f1_score: 0.6035 - val_loss: 0.2314 - val_accuracy: 0.6046 - val_precision: 0.6173 - val_recall: 0.5841 - val_f1_score: 0.5999\n",
      "Epoch 99/100\n",
      "438/438 [==============================] - 1s 2ms/step - loss: 0.2293 - accuracy: 0.6193 - precision: 0.6347 - recall: 0.5812 - f1_score: 0.6060 - val_loss: 0.2308 - val_accuracy: 0.6037 - val_precision: 0.6184 - val_recall: 0.5764 - val_f1_score: 0.5962\n",
      "Epoch 100/100\n",
      "438/438 [==============================] - 1s 2ms/step - loss: 0.2296 - accuracy: 0.6195 - precision: 0.6359 - recall: 0.5863 - f1_score: 0.6093 - val_loss: 0.2309 - val_accuracy: 0.6018 - val_precision: 0.6186 - val_recall: 0.5759 - val_f1_score: 0.5960\n"
     ]
    }
   ],
   "source": [
    "import keras.backend as K\n",
    "\n",
    "def precision(y_true, y_pred):\n",
    "    true_positives = K.sum(K.round(K.clip(y_true * y_pred, 0, 1)))\n",
    "    predicted_positives = K.sum(K.round(K.clip(y_pred, 0, 1)))\n",
    "    precision = true_positives / (predicted_positives + K.epsilon())\n",
    "    return precision\n",
    "\n",
    "def recall(y_true, y_pred):\n",
    "    true_positives = K.sum(K.round(K.clip(y_true * y_pred, 0, 1)))\n",
    "    possible_positives = K.sum(K.round(K.clip(y_true, 0, 1)))\n",
    "    recall = true_positives / (possible_positives + K.epsilon())\n",
    "    return recall\n",
    "\n",
    "def f1_score(y_true, y_pred):\n",
    "    precision_val = precision(y_true, y_pred)\n",
    "    recall_val = recall(y_true, y_pred)\n",
    "    return 2 * ((precision_val * recall_val) / (precision_val + recall_val + K.epsilon()))\n",
    "\n",
    "model = keras.Sequential()\n",
    "model.add(keras.layers.Dense(21, activation='relu'))\n",
    "model.add(keras.layers.Dense(42, activation='relu'))\n",
    "model.add(keras.layers.Dense(84, activation='relu'))\n",
    "model.add(keras.layers.Dense(168, activation='relu'))\n",
    "model.add(keras.layers.Dense(210, activation='relu'))\n",
    "model.add(keras.layers.LeakyReLU()) #Addresses the \"dying ReLU\" problem by allowing a small gradient for negative inputs, preventing some units from dying during training.\n",
    "model.add(keras.layers.ELU(alpha=1.0)) # Smooths the transition for negative inputs, allowing a mean activation closer to zero, which can speed up learning. alpha: float, slope of negative section. Defaults to 1.0.\n",
    "model.add(keras.layers.Dropout(rate=0.1618)) #Dropout layers are employed to prevent overfitting in neural networks by randomly setting a fraction of input units to zero during training. The Dropout layer randomly sets input units to 0 with a frequency of rate at each step during training time, which helps prevent overfitting.\n",
    "model.add(keras.layers.Dense(140, activation='relu'))\n",
    "model.add(keras.layers.Dense(70, activation='relu'))\n",
    "model.add(keras.layers.Dense(7, activation='softmax'))\n",
    "model.compile(loss='bce',\n",
    "              optimizer='sgd',\n",
    "              metrics=['accuracy'])\n",
    "history = model.fit(numpy_x_train_trump, y_categorical_data_train_trump, validation_split=0.20, epochs=100, batch_size=20)"
   ]
  },
  {
   "cell_type": "code",
   "execution_count": 40,
   "metadata": {},
   "outputs": [
    {
     "name": "stderr",
     "output_type": "stream",
     "text": [
      "C:\\Users\\denis\\AppData\\Local\\Packages\\PythonSoftwareFoundation.Python.3.11_qbz5n2kfra8p0\\LocalCache\\local-packages\\Python311\\site-packages\\keras\\src\\engine\\training.py:3079: UserWarning: You are saving your model as an HDF5 file via `model.save()`. This file format is considered legacy. We recommend using instead the native Keras format, e.g. `model.save('my_model.keras')`.\n",
      "  saving_api.save_model(\n"
     ]
    }
   ],
   "source": [
    "model.save('trumpModel.h5')"
   ]
  },
  {
   "cell_type": "code",
   "execution_count": 16,
   "metadata": {},
   "outputs": [
    {
     "data": {
      "text/plain": [
       "<matplotlib.legend.Legend at 0x1943a562590>"
      ]
     },
     "execution_count": 16,
     "metadata": {},
     "output_type": "execute_result"
    },
    {
     "data": {
      "image/png": "[encoded data removed]",
      "text/plain": [
       "<Figure size 640x480 with 1 Axes>"
      ]
     },
     "metadata": {},
     "output_type": "display_data"
    }
   ],
   "source": [
    "import matplotlib.pyplot as plt\n",
    "plt.plot(history.history['loss'])\n",
    "plt.plot(history.history['val_loss'])\n",
    "plt.title('Loss')\n",
    "plt.xlabel('epoch')\n",
    "plt.ylabel('loss')\n",
    "plt.legend(['Train', 'Val'], loc='upper left')"
   ]
  },
  {
   "cell_type": "code",
   "execution_count": 17,
   "metadata": {},
   "outputs": [
    {
     "data": {
      "text/plain": [
       "<matplotlib.legend.Legend at 0x19442e71e90>"
      ]
     },
     "execution_count": 17,
     "metadata": {},
     "output_type": "execute_result"
    },
    {
     "data": {
      "image/png": "[encoded data removed]",
      "text/plain": [
       "<Figure size 640x480 with 1 Axes>"
      ]
     },
     "metadata": {},
     "output_type": "display_data"
    }
   ],
   "source": [
    "plt.plot(history.history['accuracy'])\n",
    "plt.plot(history.history['val_accuracy'])\n",
    "plt.title('Accuracy')\n",
    "plt.xlabel('epoch')\n",
    "plt.ylabel('acc')\n",
    "plt.legend(['Train', 'Val'], loc='upper left')"
   ]
  },
  {
   "cell_type": "code",
   "execution_count": 15,
   "metadata": {},
   "outputs": [
    {
     "name": "stderr",
     "output_type": "stream",
     "text": [
      "WARNING:absl:`lr` is deprecated in Keras optimizer, please use `learning_rate` or use the legacy optimizer, e.g.,tf.keras.optimizers.legacy.Adam.\n"
     ]
    },
    {
     "name": "stdout",
     "output_type": "stream",
     "text": [
      "Epoch 1/200\n",
      "1198/1198 [==============================] - 4s 3ms/step - loss: 1.4118 - accuracy: 0.4822 - val_loss: 0.9983 - val_accuracy: 0.6153 - lr: 0.0010\n",
      "Epoch 2/200\n",
      "1198/1198 [==============================] - 3s 2ms/step - loss: 1.1424 - accuracy: 0.5580 - val_loss: 0.9675 - val_accuracy: 0.6152 - lr: 0.0010\n",
      "Epoch 3/200\n",
      "1198/1198 [==============================] - 3s 2ms/step - loss: 1.0970 - accuracy: 0.5700 - val_loss: 0.9518 - val_accuracy: 0.6198 - lr: 0.0010\n",
      "Epoch 4/200\n",
      "1198/1198 [==============================] - 3s 2ms/step - loss: 1.0720 - accuracy: 0.5782 - val_loss: 0.9471 - val_accuracy: 0.6165 - lr: 0.0010\n",
      "Epoch 5/200\n",
      "1198/1198 [==============================] - 3s 2ms/step - loss: 1.0628 - accuracy: 0.5803 - val_loss: 0.9417 - val_accuracy: 0.6175 - lr: 0.0010\n",
      "Epoch 6/200\n",
      "1198/1198 [==============================] - 3s 2ms/step - loss: 1.0545 - accuracy: 0.5818 - val_loss: 0.9320 - val_accuracy: 0.6182 - lr: 0.0010\n",
      "Epoch 7/200\n",
      "1198/1198 [==============================] - 3s 2ms/step - loss: 1.0430 - accuracy: 0.5866 - val_loss: 0.9290 - val_accuracy: 0.6197 - lr: 0.0010\n",
      "Epoch 8/200\n",
      "1198/1198 [==============================] - 3s 2ms/step - loss: 1.0418 - accuracy: 0.5878 - val_loss: 0.9289 - val_accuracy: 0.6156 - lr: 0.0010\n",
      "Epoch 9/200\n",
      "1198/1198 [==============================] - 3s 2ms/step - loss: 1.0316 - accuracy: 0.5884 - val_loss: 0.9287 - val_accuracy: 0.6183 - lr: 0.0010\n",
      "Epoch 10/200\n",
      "1198/1198 [==============================] - 3s 2ms/step - loss: 1.0334 - accuracy: 0.5873 - val_loss: 0.9235 - val_accuracy: 0.6201 - lr: 0.0010\n",
      "Epoch 11/200\n",
      "1198/1198 [==============================] - 3s 2ms/step - loss: 1.0261 - accuracy: 0.5897 - val_loss: 0.9290 - val_accuracy: 0.6195 - lr: 0.0010\n",
      "Epoch 12/200\n",
      "1198/1198 [==============================] - 3s 2ms/step - loss: 1.0250 - accuracy: 0.5901 - val_loss: 0.9307 - val_accuracy: 0.6156 - lr: 0.0010\n",
      "Epoch 13/200\n",
      "1198/1198 [==============================] - 3s 2ms/step - loss: 1.0233 - accuracy: 0.5904 - val_loss: 0.9213 - val_accuracy: 0.6171 - lr: 0.0010\n",
      "Epoch 14/200\n",
      "1198/1198 [==============================] - 3s 2ms/step - loss: 1.0274 - accuracy: 0.5894 - val_loss: 0.9249 - val_accuracy: 0.6155 - lr: 0.0010\n",
      "Epoch 15/200\n",
      "1198/1198 [==============================] - 3s 2ms/step - loss: 1.0242 - accuracy: 0.5902 - val_loss: 0.9197 - val_accuracy: 0.6244 - lr: 0.0010\n",
      "Epoch 16/200\n",
      "1198/1198 [==============================] - 3s 2ms/step - loss: 1.0221 - accuracy: 0.5913 - val_loss: 0.9196 - val_accuracy: 0.6225 - lr: 0.0010\n",
      "Epoch 17/200\n",
      "1198/1198 [==============================] - 3s 2ms/step - loss: 1.0200 - accuracy: 0.5911 - val_loss: 0.9194 - val_accuracy: 0.6190 - lr: 0.0010\n",
      "Epoch 18/200\n",
      "1198/1198 [==============================] - 3s 2ms/step - loss: 1.0172 - accuracy: 0.5905 - val_loss: 0.9202 - val_accuracy: 0.6213 - lr: 0.0010\n",
      "Epoch 19/200\n",
      "1198/1198 [==============================] - 3s 2ms/step - loss: 1.0131 - accuracy: 0.5958 - val_loss: 0.9205 - val_accuracy: 0.6193 - lr: 0.0010\n",
      "Epoch 20/200\n",
      "1198/1198 [==============================] - 3s 2ms/step - loss: 1.0137 - accuracy: 0.5935 - val_loss: 0.9163 - val_accuracy: 0.6255 - lr: 0.0010\n",
      "Epoch 21/200\n",
      "1198/1198 [==============================] - 3s 2ms/step - loss: 1.0134 - accuracy: 0.5936 - val_loss: 0.9140 - val_accuracy: 0.6221 - lr: 0.0010\n",
      "Epoch 22/200\n",
      "1198/1198 [==============================] - 3s 2ms/step - loss: 1.0096 - accuracy: 0.5952 - val_loss: 0.9141 - val_accuracy: 0.6227 - lr: 0.0010\n",
      "Epoch 23/200\n",
      "1198/1198 [==============================] - 3s 2ms/step - loss: 1.0108 - accuracy: 0.5947 - val_loss: 0.9174 - val_accuracy: 0.6211 - lr: 0.0010\n",
      "Epoch 24/200\n",
      "1198/1198 [==============================] - 3s 2ms/step - loss: 1.0111 - accuracy: 0.5967 - val_loss: 0.9155 - val_accuracy: 0.6235 - lr: 0.0010\n",
      "Epoch 25/200\n",
      "1198/1198 [==============================] - 3s 2ms/step - loss: 1.0112 - accuracy: 0.5958 - val_loss: 0.9134 - val_accuracy: 0.6242 - lr: 0.0010\n",
      "Epoch 26/200\n",
      "1198/1198 [==============================] - 3s 2ms/step - loss: 1.0073 - accuracy: 0.5974 - val_loss: 0.9161 - val_accuracy: 0.6243 - lr: 0.0010\n",
      "Epoch 27/200\n",
      "1198/1198 [==============================] - 3s 2ms/step - loss: 1.0054 - accuracy: 0.5938 - val_loss: 0.9149 - val_accuracy: 0.6221 - lr: 0.0010\n",
      "Epoch 28/200\n",
      "1198/1198 [==============================] - 3s 2ms/step - loss: 1.0104 - accuracy: 0.5928 - val_loss: 0.9172 - val_accuracy: 0.6215 - lr: 0.0010\n",
      "Epoch 29/200\n",
      "1198/1198 [==============================] - 3s 2ms/step - loss: 1.0099 - accuracy: 0.5957 - val_loss: 0.9169 - val_accuracy: 0.6221 - lr: 0.0010\n",
      "Epoch 30/200\n",
      "1198/1198 [==============================] - 3s 2ms/step - loss: 1.0087 - accuracy: 0.5939 - val_loss: 0.9126 - val_accuracy: 0.6231 - lr: 0.0010\n",
      "Epoch 31/200\n",
      "1198/1198 [==============================] - 3s 2ms/step - loss: 1.0050 - accuracy: 0.5943 - val_loss: 0.9110 - val_accuracy: 0.6248 - lr: 0.0010\n",
      "Epoch 32/200\n",
      "1198/1198 [==============================] - 3s 2ms/step - loss: 1.0058 - accuracy: 0.5946 - val_loss: 0.9155 - val_accuracy: 0.6243 - lr: 0.0010\n",
      "Epoch 33/200\n",
      "1198/1198 [==============================] - 3s 2ms/step - loss: 1.0054 - accuracy: 0.5937 - val_loss: 0.9174 - val_accuracy: 0.6223 - lr: 0.0010\n",
      "Epoch 34/200\n",
      "1198/1198 [==============================] - 3s 2ms/step - loss: 1.0044 - accuracy: 0.5946 - val_loss: 0.9146 - val_accuracy: 0.6231 - lr: 0.0010\n",
      "Epoch 35/200\n",
      "1198/1198 [==============================] - 3s 2ms/step - loss: 1.0071 - accuracy: 0.5954 - val_loss: 0.9183 - val_accuracy: 0.6222 - lr: 0.0010\n",
      "Epoch 36/200\n",
      "1198/1198 [==============================] - 3s 2ms/step - loss: 1.0058 - accuracy: 0.5968 - val_loss: 0.9144 - val_accuracy: 0.6210 - lr: 0.0010\n",
      "Epoch 37/200\n",
      "1198/1198 [==============================] - 3s 2ms/step - loss: 0.9985 - accuracy: 0.5988 - val_loss: 0.9082 - val_accuracy: 0.6262 - lr: 2.0000e-04\n",
      "Epoch 38/200\n",
      "1198/1198 [==============================] - 3s 2ms/step - loss: 0.9986 - accuracy: 0.5981 - val_loss: 0.9077 - val_accuracy: 0.6260 - lr: 2.0000e-04\n",
      "Epoch 39/200\n",
      "1198/1198 [==============================] - 3s 2ms/step - loss: 0.9947 - accuracy: 0.5998 - val_loss: 0.9064 - val_accuracy: 0.6250 - lr: 2.0000e-04\n",
      "Epoch 40/200\n",
      "1198/1198 [==============================] - 3s 2ms/step - loss: 0.9929 - accuracy: 0.6000 - val_loss: 0.9057 - val_accuracy: 0.6264 - lr: 2.0000e-04\n",
      "Epoch 41/200\n",
      "1198/1198 [==============================] - 3s 2ms/step - loss: 0.9931 - accuracy: 0.6005 - val_loss: 0.9066 - val_accuracy: 0.6248 - lr: 2.0000e-04\n",
      "Epoch 42/200\n",
      "1198/1198 [==============================] - 3s 2ms/step - loss: 0.9949 - accuracy: 0.6005 - val_loss: 0.9068 - val_accuracy: 0.6244 - lr: 2.0000e-04\n",
      "Epoch 43/200\n",
      "1198/1198 [==============================] - 3s 2ms/step - loss: 0.9926 - accuracy: 0.5999 - val_loss: 0.9057 - val_accuracy: 0.6264 - lr: 2.0000e-04\n",
      "Epoch 44/200\n",
      "1198/1198 [==============================] - 3s 2ms/step - loss: 0.9910 - accuracy: 0.6008 - val_loss: 0.9060 - val_accuracy: 0.6256 - lr: 2.0000e-04\n",
      "Epoch 45/200\n",
      " 617/1198 [==============>...............] - ETA: 1s - loss: 0.9945 - accuracy: 0.5961"
     ]
    },
    {
     "ename": "KeyboardInterrupt",
     "evalue": "",
     "output_type": "error",
     "traceback": [
      "\u001B[1;31m---------------------------------------------------------------------------\u001B[0m",
      "\u001B[1;31mKeyboardInterrupt\u001B[0m                         Traceback (most recent call last)",
      "\u001B[1;32mc:\\Users\\denis\\Desktop\\Programming\\HSLU\\DL4G\\dl4g-donnschtig-jass\\notebooks\\KerasSimpleTrump_Simon.ipynb Cell 63\u001B[0m line \u001B[0;36m2\n\u001B[0;32m     <a href='vscode-notebook-cell:/c%3A/Users/denis/Desktop/Programming/HSLU/DL4G/dl4g-donnschtig-jass/notebooks/KerasSimpleTrump_Simon.ipynb#Y116sZmlsZQ%3D%3D?line=24'>25</a>\u001B[0m reduce_lr \u001B[39m=\u001B[39m ReduceLROnPlateau(monitor\u001B[39m=\u001B[39m\u001B[39m'\u001B[39m\u001B[39mval_loss\u001B[39m\u001B[39m'\u001B[39m, factor\u001B[39m=\u001B[39m\u001B[39m0.2\u001B[39m, patience\u001B[39m=\u001B[39m\u001B[39m5\u001B[39m, min_lr\u001B[39m=\u001B[39m\u001B[39m0.0001\u001B[39m)\n\u001B[0;32m     <a href='vscode-notebook-cell:/c%3A/Users/denis/Desktop/Programming/HSLU/DL4G/dl4g-donnschtig-jass/notebooks/KerasSimpleTrump_Simon.ipynb#Y116sZmlsZQ%3D%3D?line=25'>26</a>\u001B[0m early_stop \u001B[39m=\u001B[39m EarlyStopping(monitor\u001B[39m=\u001B[39m\u001B[39m'\u001B[39m\u001B[39mval_loss\u001B[39m\u001B[39m'\u001B[39m, patience\u001B[39m=\u001B[39m\u001B[39m15\u001B[39m, restore_best_weights\u001B[39m=\u001B[39m\u001B[39mTrue\u001B[39;00m)\n\u001B[1;32m---> <a href='vscode-notebook-cell:/c%3A/Users/denis/Desktop/Programming/HSLU/DL4G/dl4g-donnschtig-jass/notebooks/KerasSimpleTrump_Simon.ipynb#Y116sZmlsZQ%3D%3D?line=28'>29</a>\u001B[0m history2 \u001B[39m=\u001B[39m model2\u001B[39m.\u001B[39;49mfit(x_train_trump, y_categorical_data_train_trump, validation_split\u001B[39m=\u001B[39;49m\u001B[39m0.25\u001B[39;49m, epochs\u001B[39m=\u001B[39;49m\u001B[39m200\u001B[39;49m, batch_size\u001B[39m=\u001B[39;49m\u001B[39m50\u001B[39;49m,callbacks\u001B[39m=\u001B[39;49m[reduce_lr, early_stop])\n",
      "File \u001B[1;32m~\\AppData\\Local\\Packages\\PythonSoftwareFoundation.Python.3.11_qbz5n2kfra8p0\\LocalCache\\local-packages\\Python311\\site-packages\\keras\\src\\utils\\traceback_utils.py:65\u001B[0m, in \u001B[0;36mfilter_traceback.<locals>.error_handler\u001B[1;34m(*args, **kwargs)\u001B[0m\n\u001B[0;32m     63\u001B[0m filtered_tb \u001B[39m=\u001B[39m \u001B[39mNone\u001B[39;00m\n\u001B[0;32m     64\u001B[0m \u001B[39mtry\u001B[39;00m:\n\u001B[1;32m---> 65\u001B[0m     \u001B[39mreturn\u001B[39;00m fn(\u001B[39m*\u001B[39;49margs, \u001B[39m*\u001B[39;49m\u001B[39m*\u001B[39;49mkwargs)\n\u001B[0;32m     66\u001B[0m \u001B[39mexcept\u001B[39;00m \u001B[39mException\u001B[39;00m \u001B[39mas\u001B[39;00m e:\n\u001B[0;32m     67\u001B[0m     filtered_tb \u001B[39m=\u001B[39m _process_traceback_frames(e\u001B[39m.\u001B[39m__traceback__)\n",
      "File \u001B[1;32m~\\AppData\\Local\\Packages\\PythonSoftwareFoundation.Python.3.11_qbz5n2kfra8p0\\LocalCache\\local-packages\\Python311\\site-packages\\keras\\src\\engine\\training.py:1783\u001B[0m, in \u001B[0;36mModel.fit\u001B[1;34m(self, x, y, batch_size, epochs, verbose, callbacks, validation_split, validation_data, shuffle, class_weight, sample_weight, initial_epoch, steps_per_epoch, validation_steps, validation_batch_size, validation_freq, max_queue_size, workers, use_multiprocessing)\u001B[0m\n\u001B[0;32m   1775\u001B[0m \u001B[39mwith\u001B[39;00m tf\u001B[39m.\u001B[39mprofiler\u001B[39m.\u001B[39mexperimental\u001B[39m.\u001B[39mTrace(\n\u001B[0;32m   1776\u001B[0m     \u001B[39m\"\u001B[39m\u001B[39mtrain\u001B[39m\u001B[39m\"\u001B[39m,\n\u001B[0;32m   1777\u001B[0m     epoch_num\u001B[39m=\u001B[39mepoch,\n\u001B[1;32m   (...)\u001B[0m\n\u001B[0;32m   1780\u001B[0m     _r\u001B[39m=\u001B[39m\u001B[39m1\u001B[39m,\n\u001B[0;32m   1781\u001B[0m ):\n\u001B[0;32m   1782\u001B[0m     callbacks\u001B[39m.\u001B[39mon_train_batch_begin(step)\n\u001B[1;32m-> 1783\u001B[0m     tmp_logs \u001B[39m=\u001B[39m \u001B[39mself\u001B[39;49m\u001B[39m.\u001B[39;49mtrain_function(iterator)\n\u001B[0;32m   1784\u001B[0m     \u001B[39mif\u001B[39;00m data_handler\u001B[39m.\u001B[39mshould_sync:\n\u001B[0;32m   1785\u001B[0m         context\u001B[39m.\u001B[39masync_wait()\n",
      "File \u001B[1;32m~\\AppData\\Local\\Packages\\PythonSoftwareFoundation.Python.3.11_qbz5n2kfra8p0\\LocalCache\\local-packages\\Python311\\site-packages\\tensorflow\\python\\util\\traceback_utils.py:150\u001B[0m, in \u001B[0;36mfilter_traceback.<locals>.error_handler\u001B[1;34m(*args, **kwargs)\u001B[0m\n\u001B[0;32m    148\u001B[0m filtered_tb \u001B[39m=\u001B[39m \u001B[39mNone\u001B[39;00m\n\u001B[0;32m    149\u001B[0m \u001B[39mtry\u001B[39;00m:\n\u001B[1;32m--> 150\u001B[0m   \u001B[39mreturn\u001B[39;00m fn(\u001B[39m*\u001B[39;49margs, \u001B[39m*\u001B[39;49m\u001B[39m*\u001B[39;49mkwargs)\n\u001B[0;32m    151\u001B[0m \u001B[39mexcept\u001B[39;00m \u001B[39mException\u001B[39;00m \u001B[39mas\u001B[39;00m e:\n\u001B[0;32m    152\u001B[0m   filtered_tb \u001B[39m=\u001B[39m _process_traceback_frames(e\u001B[39m.\u001B[39m__traceback__)\n",
      "File \u001B[1;32m~\\AppData\\Local\\Packages\\PythonSoftwareFoundation.Python.3.11_qbz5n2kfra8p0\\LocalCache\\local-packages\\Python311\\site-packages\\tensorflow\\python\\eager\\polymorphic_function\\polymorphic_function.py:831\u001B[0m, in \u001B[0;36mFunction.__call__\u001B[1;34m(self, *args, **kwds)\u001B[0m\n\u001B[0;32m    828\u001B[0m compiler \u001B[39m=\u001B[39m \u001B[39m\"\u001B[39m\u001B[39mxla\u001B[39m\u001B[39m\"\u001B[39m \u001B[39mif\u001B[39;00m \u001B[39mself\u001B[39m\u001B[39m.\u001B[39m_jit_compile \u001B[39melse\u001B[39;00m \u001B[39m\"\u001B[39m\u001B[39mnonXla\u001B[39m\u001B[39m\"\u001B[39m\n\u001B[0;32m    830\u001B[0m \u001B[39mwith\u001B[39;00m OptionalXlaContext(\u001B[39mself\u001B[39m\u001B[39m.\u001B[39m_jit_compile):\n\u001B[1;32m--> 831\u001B[0m   result \u001B[39m=\u001B[39m \u001B[39mself\u001B[39;49m\u001B[39m.\u001B[39;49m_call(\u001B[39m*\u001B[39;49margs, \u001B[39m*\u001B[39;49m\u001B[39m*\u001B[39;49mkwds)\n\u001B[0;32m    833\u001B[0m new_tracing_count \u001B[39m=\u001B[39m \u001B[39mself\u001B[39m\u001B[39m.\u001B[39mexperimental_get_tracing_count()\n\u001B[0;32m    834\u001B[0m without_tracing \u001B[39m=\u001B[39m (tracing_count \u001B[39m==\u001B[39m new_tracing_count)\n",
      "File \u001B[1;32m~\\AppData\\Local\\Packages\\PythonSoftwareFoundation.Python.3.11_qbz5n2kfra8p0\\LocalCache\\local-packages\\Python311\\site-packages\\tensorflow\\python\\eager\\polymorphic_function\\polymorphic_function.py:867\u001B[0m, in \u001B[0;36mFunction._call\u001B[1;34m(self, *args, **kwds)\u001B[0m\n\u001B[0;32m    864\u001B[0m   \u001B[39mself\u001B[39m\u001B[39m.\u001B[39m_lock\u001B[39m.\u001B[39mrelease()\n\u001B[0;32m    865\u001B[0m   \u001B[39m# In this case we have created variables on the first call, so we run the\u001B[39;00m\n\u001B[0;32m    866\u001B[0m   \u001B[39m# defunned version which is guaranteed to never create variables.\u001B[39;00m\n\u001B[1;32m--> 867\u001B[0m   \u001B[39mreturn\u001B[39;00m tracing_compilation\u001B[39m.\u001B[39;49mcall_function(\n\u001B[0;32m    868\u001B[0m       args, kwds, \u001B[39mself\u001B[39;49m\u001B[39m.\u001B[39;49m_no_variable_creation_config\n\u001B[0;32m    869\u001B[0m   )\n\u001B[0;32m    870\u001B[0m \u001B[39melif\u001B[39;00m \u001B[39mself\u001B[39m\u001B[39m.\u001B[39m_variable_creation_config \u001B[39mis\u001B[39;00m \u001B[39mnot\u001B[39;00m \u001B[39mNone\u001B[39;00m:\n\u001B[0;32m    871\u001B[0m   \u001B[39m# Release the lock early so that multiple threads can perform the call\u001B[39;00m\n\u001B[0;32m    872\u001B[0m   \u001B[39m# in parallel.\u001B[39;00m\n\u001B[0;32m    873\u001B[0m   \u001B[39mself\u001B[39m\u001B[39m.\u001B[39m_lock\u001B[39m.\u001B[39mrelease()\n",
      "File \u001B[1;32m~\\AppData\\Local\\Packages\\PythonSoftwareFoundation.Python.3.11_qbz5n2kfra8p0\\LocalCache\\local-packages\\Python311\\site-packages\\tensorflow\\python\\eager\\polymorphic_function\\tracing_compilation.py:139\u001B[0m, in \u001B[0;36mcall_function\u001B[1;34m(args, kwargs, tracing_options)\u001B[0m\n\u001B[0;32m    137\u001B[0m bound_args \u001B[39m=\u001B[39m function\u001B[39m.\u001B[39mfunction_type\u001B[39m.\u001B[39mbind(\u001B[39m*\u001B[39margs, \u001B[39m*\u001B[39m\u001B[39m*\u001B[39mkwargs)\n\u001B[0;32m    138\u001B[0m flat_inputs \u001B[39m=\u001B[39m function\u001B[39m.\u001B[39mfunction_type\u001B[39m.\u001B[39munpack_inputs(bound_args)\n\u001B[1;32m--> 139\u001B[0m \u001B[39mreturn\u001B[39;00m function\u001B[39m.\u001B[39;49m_call_flat(  \u001B[39m# pylint: disable=protected-access\u001B[39;49;00m\n\u001B[0;32m    140\u001B[0m     flat_inputs, captured_inputs\u001B[39m=\u001B[39;49mfunction\u001B[39m.\u001B[39;49mcaptured_inputs\n\u001B[0;32m    141\u001B[0m )\n",
      "File \u001B[1;32m~\\AppData\\Local\\Packages\\PythonSoftwareFoundation.Python.3.11_qbz5n2kfra8p0\\LocalCache\\local-packages\\Python311\\site-packages\\tensorflow\\python\\eager\\polymorphic_function\\concrete_function.py:1264\u001B[0m, in \u001B[0;36mConcreteFunction._call_flat\u001B[1;34m(self, tensor_inputs, captured_inputs)\u001B[0m\n\u001B[0;32m   1260\u001B[0m possible_gradient_type \u001B[39m=\u001B[39m gradients_util\u001B[39m.\u001B[39mPossibleTapeGradientTypes(args)\n\u001B[0;32m   1261\u001B[0m \u001B[39mif\u001B[39;00m (possible_gradient_type \u001B[39m==\u001B[39m gradients_util\u001B[39m.\u001B[39mPOSSIBLE_GRADIENT_TYPES_NONE\n\u001B[0;32m   1262\u001B[0m     \u001B[39mand\u001B[39;00m executing_eagerly):\n\u001B[0;32m   1263\u001B[0m   \u001B[39m# No tape is watching; skip to running the function.\u001B[39;00m\n\u001B[1;32m-> 1264\u001B[0m   \u001B[39mreturn\u001B[39;00m \u001B[39mself\u001B[39;49m\u001B[39m.\u001B[39;49m_inference_function\u001B[39m.\u001B[39;49mflat_call(args)\n\u001B[0;32m   1265\u001B[0m forward_backward \u001B[39m=\u001B[39m \u001B[39mself\u001B[39m\u001B[39m.\u001B[39m_select_forward_and_backward_functions(\n\u001B[0;32m   1266\u001B[0m     args,\n\u001B[0;32m   1267\u001B[0m     possible_gradient_type,\n\u001B[0;32m   1268\u001B[0m     executing_eagerly)\n\u001B[0;32m   1269\u001B[0m forward_function, args_with_tangents \u001B[39m=\u001B[39m forward_backward\u001B[39m.\u001B[39mforward()\n",
      "File \u001B[1;32m~\\AppData\\Local\\Packages\\PythonSoftwareFoundation.Python.3.11_qbz5n2kfra8p0\\LocalCache\\local-packages\\Python311\\site-packages\\tensorflow\\python\\eager\\polymorphic_function\\atomic_function.py:217\u001B[0m, in \u001B[0;36mAtomicFunction.flat_call\u001B[1;34m(self, args)\u001B[0m\n\u001B[0;32m    215\u001B[0m \u001B[39mdef\u001B[39;00m \u001B[39mflat_call\u001B[39m(\u001B[39mself\u001B[39m, args: Sequence[core\u001B[39m.\u001B[39mTensor]) \u001B[39m-\u001B[39m\u001B[39m>\u001B[39m Any:\n\u001B[0;32m    216\u001B[0m \u001B[39m  \u001B[39m\u001B[39m\"\"\"Calls with tensor inputs and returns the structured output.\"\"\"\u001B[39;00m\n\u001B[1;32m--> 217\u001B[0m   flat_outputs \u001B[39m=\u001B[39m \u001B[39mself\u001B[39;49m(\u001B[39m*\u001B[39;49margs)\n\u001B[0;32m    218\u001B[0m   \u001B[39mreturn\u001B[39;00m \u001B[39mself\u001B[39m\u001B[39m.\u001B[39mfunction_type\u001B[39m.\u001B[39mpack_output(flat_outputs)\n",
      "File \u001B[1;32m~\\AppData\\Local\\Packages\\PythonSoftwareFoundation.Python.3.11_qbz5n2kfra8p0\\LocalCache\\local-packages\\Python311\\site-packages\\tensorflow\\python\\eager\\polymorphic_function\\atomic_function.py:252\u001B[0m, in \u001B[0;36mAtomicFunction.__call__\u001B[1;34m(self, *args)\u001B[0m\n\u001B[0;32m    250\u001B[0m \u001B[39mwith\u001B[39;00m record\u001B[39m.\u001B[39mstop_recording():\n\u001B[0;32m    251\u001B[0m   \u001B[39mif\u001B[39;00m \u001B[39mself\u001B[39m\u001B[39m.\u001B[39m_bound_context\u001B[39m.\u001B[39mexecuting_eagerly():\n\u001B[1;32m--> 252\u001B[0m     outputs \u001B[39m=\u001B[39m \u001B[39mself\u001B[39;49m\u001B[39m.\u001B[39;49m_bound_context\u001B[39m.\u001B[39;49mcall_function(\n\u001B[0;32m    253\u001B[0m         \u001B[39mself\u001B[39;49m\u001B[39m.\u001B[39;49mname,\n\u001B[0;32m    254\u001B[0m         \u001B[39mlist\u001B[39;49m(args),\n\u001B[0;32m    255\u001B[0m         \u001B[39mlen\u001B[39;49m(\u001B[39mself\u001B[39;49m\u001B[39m.\u001B[39;49mfunction_type\u001B[39m.\u001B[39;49mflat_outputs),\n\u001B[0;32m    256\u001B[0m     )\n\u001B[0;32m    257\u001B[0m   \u001B[39melse\u001B[39;00m:\n\u001B[0;32m    258\u001B[0m     outputs \u001B[39m=\u001B[39m make_call_op_in_graph(\n\u001B[0;32m    259\u001B[0m         \u001B[39mself\u001B[39m,\n\u001B[0;32m    260\u001B[0m         \u001B[39mlist\u001B[39m(args),\n\u001B[0;32m    261\u001B[0m         \u001B[39mself\u001B[39m\u001B[39m.\u001B[39m_bound_context\u001B[39m.\u001B[39mfunction_call_options\u001B[39m.\u001B[39mas_attrs(),\n\u001B[0;32m    262\u001B[0m     )\n",
      "File \u001B[1;32m~\\AppData\\Local\\Packages\\PythonSoftwareFoundation.Python.3.11_qbz5n2kfra8p0\\LocalCache\\local-packages\\Python311\\site-packages\\tensorflow\\python\\eager\\context.py:1479\u001B[0m, in \u001B[0;36mContext.call_function\u001B[1;34m(self, name, tensor_inputs, num_outputs)\u001B[0m\n\u001B[0;32m   1477\u001B[0m cancellation_context \u001B[39m=\u001B[39m cancellation\u001B[39m.\u001B[39mcontext()\n\u001B[0;32m   1478\u001B[0m \u001B[39mif\u001B[39;00m cancellation_context \u001B[39mis\u001B[39;00m \u001B[39mNone\u001B[39;00m:\n\u001B[1;32m-> 1479\u001B[0m   outputs \u001B[39m=\u001B[39m execute\u001B[39m.\u001B[39;49mexecute(\n\u001B[0;32m   1480\u001B[0m       name\u001B[39m.\u001B[39;49mdecode(\u001B[39m\"\u001B[39;49m\u001B[39mutf-8\u001B[39;49m\u001B[39m\"\u001B[39;49m),\n\u001B[0;32m   1481\u001B[0m       num_outputs\u001B[39m=\u001B[39;49mnum_outputs,\n\u001B[0;32m   1482\u001B[0m       inputs\u001B[39m=\u001B[39;49mtensor_inputs,\n\u001B[0;32m   1483\u001B[0m       attrs\u001B[39m=\u001B[39;49mattrs,\n\u001B[0;32m   1484\u001B[0m       ctx\u001B[39m=\u001B[39;49m\u001B[39mself\u001B[39;49m,\n\u001B[0;32m   1485\u001B[0m   )\n\u001B[0;32m   1486\u001B[0m \u001B[39melse\u001B[39;00m:\n\u001B[0;32m   1487\u001B[0m   outputs \u001B[39m=\u001B[39m execute\u001B[39m.\u001B[39mexecute_with_cancellation(\n\u001B[0;32m   1488\u001B[0m       name\u001B[39m.\u001B[39mdecode(\u001B[39m\"\u001B[39m\u001B[39mutf-8\u001B[39m\u001B[39m\"\u001B[39m),\n\u001B[0;32m   1489\u001B[0m       num_outputs\u001B[39m=\u001B[39mnum_outputs,\n\u001B[1;32m   (...)\u001B[0m\n\u001B[0;32m   1493\u001B[0m       cancellation_manager\u001B[39m=\u001B[39mcancellation_context,\n\u001B[0;32m   1494\u001B[0m   )\n",
      "File \u001B[1;32m~\\AppData\\Local\\Packages\\PythonSoftwareFoundation.Python.3.11_qbz5n2kfra8p0\\LocalCache\\local-packages\\Python311\\site-packages\\tensorflow\\python\\eager\\execute.py:60\u001B[0m, in \u001B[0;36mquick_execute\u001B[1;34m(op_name, num_outputs, inputs, attrs, ctx, name)\u001B[0m\n\u001B[0;32m     53\u001B[0m   \u001B[39m# Convert any objects of type core_types.Tensor to Tensor.\u001B[39;00m\n\u001B[0;32m     54\u001B[0m   inputs \u001B[39m=\u001B[39m [\n\u001B[0;32m     55\u001B[0m       tensor_conversion_registry\u001B[39m.\u001B[39mconvert(t)\n\u001B[0;32m     56\u001B[0m       \u001B[39mif\u001B[39;00m \u001B[39misinstance\u001B[39m(t, core_types\u001B[39m.\u001B[39mTensor)\n\u001B[0;32m     57\u001B[0m       \u001B[39melse\u001B[39;00m t\n\u001B[0;32m     58\u001B[0m       \u001B[39mfor\u001B[39;00m t \u001B[39min\u001B[39;00m inputs\n\u001B[0;32m     59\u001B[0m   ]\n\u001B[1;32m---> 60\u001B[0m   tensors \u001B[39m=\u001B[39m pywrap_tfe\u001B[39m.\u001B[39;49mTFE_Py_Execute(ctx\u001B[39m.\u001B[39;49m_handle, device_name, op_name,\n\u001B[0;32m     61\u001B[0m                                       inputs, attrs, num_outputs)\n\u001B[0;32m     62\u001B[0m \u001B[39mexcept\u001B[39;00m core\u001B[39m.\u001B[39m_NotOkStatusException \u001B[39mas\u001B[39;00m e:\n\u001B[0;32m     63\u001B[0m   \u001B[39mif\u001B[39;00m name \u001B[39mis\u001B[39;00m \u001B[39mnot\u001B[39;00m \u001B[39mNone\u001B[39;00m:\n",
      "\u001B[1;31mKeyboardInterrupt\u001B[0m: "
     ]
    }
   ],
   "source": [
    "#simpler approach\n",
    "from tensorflow.keras.optimizers import Adam\n",
    "from tensorflow.keras.callbacks import ReduceLROnPlateau, EarlyStopping\n",
    "from tensorflow.keras.models import Sequential\n",
    "from tensorflow.keras.layers import Dense, Dropout, BatchNormalization\n",
    "\n",
    "\n",
    "model2 = Sequential([\n",
    "    Dense(128, activation='relu'),  # Increased units for the initial layer\n",
    "    BatchNormalization(),  # Add BatchNormalization after each dense layer\n",
    "    Dropout(0.5),  # Increased dropout rate\n",
    "    Dense(64, activation='relu'),\n",
    "    BatchNormalization(),\n",
    "    Dropout(0.4),\n",
    "    Dense(32, activation='relu'),\n",
    "    BatchNormalization(),\n",
    "    Dropout(0.3),\n",
    "    Dense(7, activation='softmax')\n",
    "])\n",
    "\n",
    "model2.compile(loss='categorical_crossentropy',\n",
    "              optimizer=Adam(lr=0.001),\n",
    "              metrics=['accuracy'])\n",
    "\n",
    "reduce_lr = ReduceLROnPlateau(monitor='val_loss', factor=0.2, patience=5, min_lr=0.0001)\n",
    "early_stop = EarlyStopping(monitor='val_loss', patience=15, restore_best_weights=True)\n",
    "\n",
    "\n",
    "history2 = model2.fit(x_train_trump, y_categorical_data_train_trump, validation_split=0.25, epochs=200, batch_size=50,callbacks=[reduce_lr, early_stop])"
   ]
  },
  {
   "cell_type": "code",
   "execution_count": 44,
   "metadata": {},
   "outputs": [
    {
     "data": {
      "text/plain": [
       "<matplotlib.legend.Legend at 0x19c2e96fbd0>"
      ]
     },
     "execution_count": 44,
     "metadata": {},
     "output_type": "execute_result"
    },
    {
     "data": {
      "image/png": "[encoded data removed]",
      "text/plain": [
       "<Figure size 640x480 with 1 Axes>"
      ]
     },
     "metadata": {},
     "output_type": "display_data"
    }
   ],
   "source": [
    "import matplotlib.pyplot as plt\n",
    "plt.plot(history2.history['loss'])\n",
    "plt.plot(history2.history['val_loss'])\n",
    "plt.title('Loss')\n",
    "plt.xlabel('epoch')\n",
    "plt.ylabel('loss')\n",
    "plt.legend(['Train', 'Val'], loc='upper left')"
   ]
  },
  {
   "cell_type": "code",
   "execution_count": 45,
   "metadata": {},
   "outputs": [
    {
     "data": {
      "text/plain": [
       "<matplotlib.legend.Legend at 0x19c358ac090>"
      ]
     },
     "execution_count": 45,
     "metadata": {},
     "output_type": "execute_result"
    },
    {
     "data": {
      "image/png": "[encoded data removed]",
      "text/plain": [
       "<Figure size 640x480 with 1 Axes>"
      ]
     },
     "metadata": {},
     "output_type": "display_data"
    }
   ],
   "source": [
    "plt.plot(history2.history['accuracy'])\n",
    "plt.plot(history2.history['val_accuracy'])\n",
    "plt.title('Accuracy')\n",
    "plt.xlabel('epoch')\n",
    "plt.ylabel('acc')\n",
    "plt.legend(['Train', 'Val'], loc='upper left')"
   ]
  }
 ],
 "metadata": {
  "kernelspec": {
   "display_name": "Python 3",
   "language": "python",
   "name": "python3"
  },
  "language_info": {
   "codemirror_mode": {
    "name": "ipython",
    "version": 3
   },
   "file_extension": ".py",
   "mimetype": "text/x-python",
   "name": "python",
   "nbconvert_exporter": "python",
   "pygments_lexer": "ipython3",
   "version": "3.11.7"
  }
 },
 "nbformat": 4,
 "nbformat_minor": 2
}
